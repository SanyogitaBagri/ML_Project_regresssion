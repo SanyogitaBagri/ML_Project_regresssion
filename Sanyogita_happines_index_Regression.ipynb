{
 "cells": [
  {
   "cell_type": "markdown",
   "id": "02298fc1",
   "metadata": {},
   "source": [
    "# Happines index"
   ]
  },
  {
   "cell_type": "code",
   "execution_count": 1,
   "id": "8634eafc",
   "metadata": {},
   "outputs": [],
   "source": [
    "# import necessary libraries"
   ]
  },
  {
   "cell_type": "code",
   "execution_count": 2,
   "id": "a6bd53a1",
   "metadata": {},
   "outputs": [],
   "source": [
    "import numpy as np\n",
    "import pandas as pd"
   ]
  },
  {
   "cell_type": "code",
   "execution_count": 3,
   "id": "953f3033",
   "metadata": {},
   "outputs": [],
   "source": [
    "# for algorithims\n",
    "from sklearn.tree import DecisionTreeRegressor\n",
    "from sklearn.tree import plot_tree,DecisionTreeRegressor\n",
    "from sklearn.ensemble import RandomForestRegressor,AdaBoostRegressor,GradientBoostingRegressor"
   ]
  },
  {
   "cell_type": "code",
   "execution_count": 4,
   "id": "fd5b9d86",
   "metadata": {},
   "outputs": [],
   "source": [
    "#spliting data for testing and training \n",
    "from sklearn.model_selection import train_test_split,GridSearchCV,RandomizedSearchCV"
   ]
  },
  {
   "cell_type": "code",
   "execution_count": 5,
   "id": "7fa9e6c6",
   "metadata": {},
   "outputs": [],
   "source": [
    "import warnings\n",
    "warnings.filterwarnings(\"ignore\")"
   ]
  },
  {
   "cell_type": "code",
   "execution_count": 6,
   "id": "d0088a32",
   "metadata": {},
   "outputs": [],
   "source": [
    "#for visualization\n",
    "import matplotlib.pyplot as plt\n",
    "import seaborn as sns\n",
    "\n",
    "#import vif\n",
    "from statsmodels.stats.outliers_influence import variance_inflation_factor\n",
    "\n",
    "#importing linear regression\n",
    "from sklearn.linear_model import LinearRegression\n",
    "\n",
    "from scipy.stats import shapiro,normaltest,kstest #hypotheesis testing\n",
    "\n",
    "#evaluation metrics\n",
    "from sklearn.metrics import mean_absolute_error,mean_squared_error,r2_score"
   ]
  },
  {
   "cell_type": "markdown",
   "id": "4c2a50da",
   "metadata": {},
   "source": [
    "# Problem Statement"
   ]
  },
  {
   "cell_type": "markdown",
   "id": "99b4bfec",
   "metadata": {},
   "source": [
    "Prediction of happiness score by using machine learning\n",
    "Target column/ Dependant feature :\n",
    "   Score  \n",
    "    \n",
    "Independant Features : \n",
    "    1) GDP per capita \n",
    "    2)Social support \n",
    "    3)Healthy life expectancy \n",
    "    4)Freedom to make life choices \n",
    "    5)Generosity \n",
    "    6)Perceptions of corruption\n"
   ]
  },
  {
   "cell_type": "markdown",
   "id": "6c961110",
   "metadata": {},
   "source": [
    "# Data Gathering"
   ]
  },
  {
   "cell_type": "code",
   "execution_count": 7,
   "id": "c55d248e",
   "metadata": {},
   "outputs": [
    {
     "data": {
      "text/html": [
       "<div>\n",
       "<style scoped>\n",
       "    .dataframe tbody tr th:only-of-type {\n",
       "        vertical-align: middle;\n",
       "    }\n",
       "\n",
       "    .dataframe tbody tr th {\n",
       "        vertical-align: top;\n",
       "    }\n",
       "\n",
       "    .dataframe thead th {\n",
       "        text-align: right;\n",
       "    }\n",
       "</style>\n",
       "<table border=\"1\" class=\"dataframe\">\n",
       "  <thead>\n",
       "    <tr style=\"text-align: right;\">\n",
       "      <th></th>\n",
       "      <th>Overall rank</th>\n",
       "      <th>Country or region</th>\n",
       "      <th>Year</th>\n",
       "      <th>Score</th>\n",
       "      <th>GDP per capita</th>\n",
       "      <th>Social support</th>\n",
       "      <th>Healthy life expectancy</th>\n",
       "      <th>Freedom to make life choices</th>\n",
       "      <th>Generosity</th>\n",
       "      <th>Perceptions of corruption</th>\n",
       "    </tr>\n",
       "  </thead>\n",
       "  <tbody>\n",
       "    <tr>\n",
       "      <th>0</th>\n",
       "      <td>154</td>\n",
       "      <td>Afghanistan</td>\n",
       "      <td>2019</td>\n",
       "      <td>3.203</td>\n",
       "      <td>0.350</td>\n",
       "      <td>0.517</td>\n",
       "      <td>0.361</td>\n",
       "      <td>0.000</td>\n",
       "      <td>0.158</td>\n",
       "      <td>0.025</td>\n",
       "    </tr>\n",
       "    <tr>\n",
       "      <th>1</th>\n",
       "      <td>145</td>\n",
       "      <td>Afghanistan</td>\n",
       "      <td>2018</td>\n",
       "      <td>3.632</td>\n",
       "      <td>0.332</td>\n",
       "      <td>0.537</td>\n",
       "      <td>0.255</td>\n",
       "      <td>0.085</td>\n",
       "      <td>0.191</td>\n",
       "      <td>0.036</td>\n",
       "    </tr>\n",
       "    <tr>\n",
       "      <th>2</th>\n",
       "      <td>107</td>\n",
       "      <td>Albania</td>\n",
       "      <td>2019</td>\n",
       "      <td>4.719</td>\n",
       "      <td>0.947</td>\n",
       "      <td>0.848</td>\n",
       "      <td>0.874</td>\n",
       "      <td>0.383</td>\n",
       "      <td>0.178</td>\n",
       "      <td>0.027</td>\n",
       "    </tr>\n",
       "    <tr>\n",
       "      <th>3</th>\n",
       "      <td>112</td>\n",
       "      <td>Albania</td>\n",
       "      <td>2018</td>\n",
       "      <td>4.586</td>\n",
       "      <td>0.916</td>\n",
       "      <td>0.817</td>\n",
       "      <td>0.790</td>\n",
       "      <td>0.419</td>\n",
       "      <td>0.149</td>\n",
       "      <td>0.032</td>\n",
       "    </tr>\n",
       "    <tr>\n",
       "      <th>4</th>\n",
       "      <td>88</td>\n",
       "      <td>Algeria</td>\n",
       "      <td>2019</td>\n",
       "      <td>5.211</td>\n",
       "      <td>1.002</td>\n",
       "      <td>1.160</td>\n",
       "      <td>0.785</td>\n",
       "      <td>0.086</td>\n",
       "      <td>0.073</td>\n",
       "      <td>0.114</td>\n",
       "    </tr>\n",
       "    <tr>\n",
       "      <th>...</th>\n",
       "      <td>...</td>\n",
       "      <td>...</td>\n",
       "      <td>...</td>\n",
       "      <td>...</td>\n",
       "      <td>...</td>\n",
       "      <td>...</td>\n",
       "      <td>...</td>\n",
       "      <td>...</td>\n",
       "      <td>...</td>\n",
       "      <td>...</td>\n",
       "    </tr>\n",
       "    <tr>\n",
       "      <th>307</th>\n",
       "      <td>152</td>\n",
       "      <td>Yemen</td>\n",
       "      <td>2018</td>\n",
       "      <td>3.355</td>\n",
       "      <td>0.442</td>\n",
       "      <td>1.073</td>\n",
       "      <td>0.343</td>\n",
       "      <td>0.244</td>\n",
       "      <td>0.083</td>\n",
       "      <td>0.064</td>\n",
       "    </tr>\n",
       "    <tr>\n",
       "      <th>308</th>\n",
       "      <td>138</td>\n",
       "      <td>Zambia</td>\n",
       "      <td>2019</td>\n",
       "      <td>4.107</td>\n",
       "      <td>0.578</td>\n",
       "      <td>1.058</td>\n",
       "      <td>0.426</td>\n",
       "      <td>0.431</td>\n",
       "      <td>0.247</td>\n",
       "      <td>0.087</td>\n",
       "    </tr>\n",
       "    <tr>\n",
       "      <th>309</th>\n",
       "      <td>125</td>\n",
       "      <td>Zambia</td>\n",
       "      <td>2018</td>\n",
       "      <td>4.377</td>\n",
       "      <td>0.562</td>\n",
       "      <td>1.047</td>\n",
       "      <td>0.295</td>\n",
       "      <td>0.503</td>\n",
       "      <td>0.221</td>\n",
       "      <td>0.082</td>\n",
       "    </tr>\n",
       "    <tr>\n",
       "      <th>310</th>\n",
       "      <td>146</td>\n",
       "      <td>Zimbabwe</td>\n",
       "      <td>2019</td>\n",
       "      <td>3.663</td>\n",
       "      <td>0.366</td>\n",
       "      <td>1.114</td>\n",
       "      <td>0.433</td>\n",
       "      <td>0.361</td>\n",
       "      <td>0.151</td>\n",
       "      <td>0.089</td>\n",
       "    </tr>\n",
       "    <tr>\n",
       "      <th>311</th>\n",
       "      <td>144</td>\n",
       "      <td>Zimbabwe</td>\n",
       "      <td>2018</td>\n",
       "      <td>3.692</td>\n",
       "      <td>0.357</td>\n",
       "      <td>1.094</td>\n",
       "      <td>0.248</td>\n",
       "      <td>0.406</td>\n",
       "      <td>0.132</td>\n",
       "      <td>0.099</td>\n",
       "    </tr>\n",
       "  </tbody>\n",
       "</table>\n",
       "<p>312 rows × 10 columns</p>\n",
       "</div>"
      ],
      "text/plain": [
       "     Overall rank Country or region  Year  Score  GDP per capita  \\\n",
       "0             154       Afghanistan  2019  3.203           0.350   \n",
       "1             145       Afghanistan  2018  3.632           0.332   \n",
       "2             107           Albania  2019  4.719           0.947   \n",
       "3             112           Albania  2018  4.586           0.916   \n",
       "4              88           Algeria  2019  5.211           1.002   \n",
       "..            ...               ...   ...    ...             ...   \n",
       "307           152             Yemen  2018  3.355           0.442   \n",
       "308           138            Zambia  2019  4.107           0.578   \n",
       "309           125            Zambia  2018  4.377           0.562   \n",
       "310           146          Zimbabwe  2019  3.663           0.366   \n",
       "311           144          Zimbabwe  2018  3.692           0.357   \n",
       "\n",
       "     Social support  Healthy life expectancy  Freedom to make life choices  \\\n",
       "0             0.517                    0.361                         0.000   \n",
       "1             0.537                    0.255                         0.085   \n",
       "2             0.848                    0.874                         0.383   \n",
       "3             0.817                    0.790                         0.419   \n",
       "4             1.160                    0.785                         0.086   \n",
       "..              ...                      ...                           ...   \n",
       "307           1.073                    0.343                         0.244   \n",
       "308           1.058                    0.426                         0.431   \n",
       "309           1.047                    0.295                         0.503   \n",
       "310           1.114                    0.433                         0.361   \n",
       "311           1.094                    0.248                         0.406   \n",
       "\n",
       "     Generosity  Perceptions of corruption  \n",
       "0         0.158                      0.025  \n",
       "1         0.191                      0.036  \n",
       "2         0.178                      0.027  \n",
       "3         0.149                      0.032  \n",
       "4         0.073                      0.114  \n",
       "..          ...                        ...  \n",
       "307       0.083                      0.064  \n",
       "308       0.247                      0.087  \n",
       "309       0.221                      0.082  \n",
       "310       0.151                      0.089  \n",
       "311       0.132                      0.099  \n",
       "\n",
       "[312 rows x 10 columns]"
      ]
     },
     "execution_count": 7,
     "metadata": {},
     "output_type": "execute_result"
    }
   ],
   "source": [
    "HI=pd.read_csv(r\"D:\\machine learning\\project\\Happines index\\report_2018-2019.csv\")\n",
    "HI"
   ]
  },
  {
   "cell_type": "markdown",
   "id": "f7c9f801",
   "metadata": {},
   "source": [
    "# EDA(Explorative Data Analysis)"
   ]
  },
  {
   "cell_type": "code",
   "execution_count": 8,
   "id": "be697b2d",
   "metadata": {},
   "outputs": [
    {
     "data": {
      "text/plain": [
       "(312, 10)"
      ]
     },
     "execution_count": 8,
     "metadata": {},
     "output_type": "execute_result"
    }
   ],
   "source": [
    "HI.shape"
   ]
  },
  {
   "cell_type": "code",
   "execution_count": 9,
   "id": "65422b56",
   "metadata": {},
   "outputs": [
    {
     "name": "stdout",
     "output_type": "stream",
     "text": [
      "<class 'pandas.core.frame.DataFrame'>\n",
      "RangeIndex: 312 entries, 0 to 311\n",
      "Data columns (total 10 columns):\n",
      " #   Column                        Non-Null Count  Dtype  \n",
      "---  ------                        --------------  -----  \n",
      " 0   Overall rank                  312 non-null    int64  \n",
      " 1   Country or region             312 non-null    object \n",
      " 2   Year                          312 non-null    int64  \n",
      " 3   Score                         312 non-null    float64\n",
      " 4   GDP per capita                312 non-null    float64\n",
      " 5   Social support                312 non-null    float64\n",
      " 6   Healthy life expectancy       312 non-null    float64\n",
      " 7   Freedom to make life choices  312 non-null    float64\n",
      " 8   Generosity                    312 non-null    float64\n",
      " 9   Perceptions of corruption     312 non-null    float64\n",
      "dtypes: float64(7), int64(2), object(1)\n",
      "memory usage: 24.5+ KB\n"
     ]
    }
   ],
   "source": [
    "# get infromation\n",
    "HI.info()"
   ]
  },
  {
   "cell_type": "code",
   "execution_count": 10,
   "id": "96132b25",
   "metadata": {},
   "outputs": [],
   "source": [
    "# sns.pairplot(HI,hue=\"Score\")"
   ]
  },
  {
   "cell_type": "code",
   "execution_count": 11,
   "id": "8564c23c",
   "metadata": {},
   "outputs": [
    {
     "data": {
      "text/plain": [
       "Overall rank                    0\n",
       "Country or region               0\n",
       "Year                            0\n",
       "Score                           0\n",
       "GDP per capita                  0\n",
       "Social support                  0\n",
       "Healthy life expectancy         0\n",
       "Freedom to make life choices    0\n",
       "Generosity                      0\n",
       "Perceptions of corruption       0\n",
       "dtype: int64"
      ]
     },
     "execution_count": 11,
     "metadata": {},
     "output_type": "execute_result"
    }
   ],
   "source": [
    "HI.isnull().sum()"
   ]
  },
  {
   "cell_type": "code",
   "execution_count": 12,
   "id": "ddd22411",
   "metadata": {
    "scrolled": true
   },
   "outputs": [
    {
     "data": {
      "text/html": [
       "<div>\n",
       "<style scoped>\n",
       "    .dataframe tbody tr th:only-of-type {\n",
       "        vertical-align: middle;\n",
       "    }\n",
       "\n",
       "    .dataframe tbody tr th {\n",
       "        vertical-align: top;\n",
       "    }\n",
       "\n",
       "    .dataframe thead th {\n",
       "        text-align: right;\n",
       "    }\n",
       "</style>\n",
       "<table border=\"1\" class=\"dataframe\">\n",
       "  <thead>\n",
       "    <tr style=\"text-align: right;\">\n",
       "      <th></th>\n",
       "      <th>Overall rank</th>\n",
       "      <th>Year</th>\n",
       "      <th>Score</th>\n",
       "      <th>GDP per capita</th>\n",
       "      <th>Social support</th>\n",
       "      <th>Healthy life expectancy</th>\n",
       "      <th>Freedom to make life choices</th>\n",
       "      <th>Generosity</th>\n",
       "      <th>Perceptions of corruption</th>\n",
       "    </tr>\n",
       "  </thead>\n",
       "  <tbody>\n",
       "    <tr>\n",
       "      <th>count</th>\n",
       "      <td>312.000000</td>\n",
       "      <td>312.000000</td>\n",
       "      <td>312.000000</td>\n",
       "      <td>312.000000</td>\n",
       "      <td>312.000000</td>\n",
       "      <td>312.000000</td>\n",
       "      <td>312.000000</td>\n",
       "      <td>312.000000</td>\n",
       "      <td>312.000000</td>\n",
       "    </tr>\n",
       "    <tr>\n",
       "      <th>mean</th>\n",
       "      <td>78.500000</td>\n",
       "      <td>2018.500000</td>\n",
       "      <td>5.391506</td>\n",
       "      <td>0.898298</td>\n",
       "      <td>1.211026</td>\n",
       "      <td>0.661295</td>\n",
       "      <td>0.423538</td>\n",
       "      <td>0.182926</td>\n",
       "      <td>0.111526</td>\n",
       "    </tr>\n",
       "    <tr>\n",
       "      <th>std</th>\n",
       "      <td>45.104737</td>\n",
       "      <td>0.500803</td>\n",
       "      <td>1.114631</td>\n",
       "      <td>0.394592</td>\n",
       "      <td>0.300310</td>\n",
       "      <td>0.252724</td>\n",
       "      <td>0.156024</td>\n",
       "      <td>0.096739</td>\n",
       "      <td>0.095296</td>\n",
       "    </tr>\n",
       "    <tr>\n",
       "      <th>min</th>\n",
       "      <td>1.000000</td>\n",
       "      <td>2018.000000</td>\n",
       "      <td>2.853000</td>\n",
       "      <td>0.000000</td>\n",
       "      <td>0.000000</td>\n",
       "      <td>0.000000</td>\n",
       "      <td>0.000000</td>\n",
       "      <td>0.000000</td>\n",
       "      <td>0.000000</td>\n",
       "    </tr>\n",
       "    <tr>\n",
       "      <th>25%</th>\n",
       "      <td>39.750000</td>\n",
       "      <td>2018.000000</td>\n",
       "      <td>4.514250</td>\n",
       "      <td>0.609500</td>\n",
       "      <td>1.055750</td>\n",
       "      <td>0.488250</td>\n",
       "      <td>0.322500</td>\n",
       "      <td>0.108750</td>\n",
       "      <td>0.050000</td>\n",
       "    </tr>\n",
       "    <tr>\n",
       "      <th>50%</th>\n",
       "      <td>78.500000</td>\n",
       "      <td>2018.500000</td>\n",
       "      <td>5.379500</td>\n",
       "      <td>0.960000</td>\n",
       "      <td>1.265500</td>\n",
       "      <td>0.699000</td>\n",
       "      <td>0.449500</td>\n",
       "      <td>0.175500</td>\n",
       "      <td>0.082000</td>\n",
       "    </tr>\n",
       "    <tr>\n",
       "      <th>75%</th>\n",
       "      <td>117.250000</td>\n",
       "      <td>2019.000000</td>\n",
       "      <td>6.176000</td>\n",
       "      <td>1.219500</td>\n",
       "      <td>1.457500</td>\n",
       "      <td>0.858000</td>\n",
       "      <td>0.540250</td>\n",
       "      <td>0.245000</td>\n",
       "      <td>0.141250</td>\n",
       "    </tr>\n",
       "    <tr>\n",
       "      <th>max</th>\n",
       "      <td>156.000000</td>\n",
       "      <td>2019.000000</td>\n",
       "      <td>7.769000</td>\n",
       "      <td>2.096000</td>\n",
       "      <td>1.644000</td>\n",
       "      <td>1.141000</td>\n",
       "      <td>0.724000</td>\n",
       "      <td>0.598000</td>\n",
       "      <td>0.457000</td>\n",
       "    </tr>\n",
       "  </tbody>\n",
       "</table>\n",
       "</div>"
      ],
      "text/plain": [
       "       Overall rank         Year       Score  GDP per capita  Social support  \\\n",
       "count    312.000000   312.000000  312.000000      312.000000      312.000000   \n",
       "mean      78.500000  2018.500000    5.391506        0.898298        1.211026   \n",
       "std       45.104737     0.500803    1.114631        0.394592        0.300310   \n",
       "min        1.000000  2018.000000    2.853000        0.000000        0.000000   \n",
       "25%       39.750000  2018.000000    4.514250        0.609500        1.055750   \n",
       "50%       78.500000  2018.500000    5.379500        0.960000        1.265500   \n",
       "75%      117.250000  2019.000000    6.176000        1.219500        1.457500   \n",
       "max      156.000000  2019.000000    7.769000        2.096000        1.644000   \n",
       "\n",
       "       Healthy life expectancy  Freedom to make life choices  Generosity  \\\n",
       "count               312.000000                    312.000000  312.000000   \n",
       "mean                  0.661295                      0.423538    0.182926   \n",
       "std                   0.252724                      0.156024    0.096739   \n",
       "min                   0.000000                      0.000000    0.000000   \n",
       "25%                   0.488250                      0.322500    0.108750   \n",
       "50%                   0.699000                      0.449500    0.175500   \n",
       "75%                   0.858000                      0.540250    0.245000   \n",
       "max                   1.141000                      0.724000    0.598000   \n",
       "\n",
       "       Perceptions of corruption  \n",
       "count                 312.000000  \n",
       "mean                    0.111526  \n",
       "std                     0.095296  \n",
       "min                     0.000000  \n",
       "25%                     0.050000  \n",
       "50%                     0.082000  \n",
       "75%                     0.141250  \n",
       "max                     0.457000  "
      ]
     },
     "execution_count": 12,
     "metadata": {},
     "output_type": "execute_result"
    }
   ],
   "source": [
    "# satatical information\n",
    "HI.describe()"
   ]
  },
  {
   "cell_type": "code",
   "execution_count": 13,
   "id": "47434409",
   "metadata": {},
   "outputs": [],
   "source": [
    "def kde_plot(a):\n",
    "    k=sns.kdeplot(HI[a],fill=True,color=\"green\")\n",
    "    return k"
   ]
  },
  {
   "cell_type": "code",
   "execution_count": 14,
   "id": "3fbad062",
   "metadata": {},
   "outputs": [
    {
     "data": {
      "text/plain": [
       "<Axes: xlabel='GDP per capita', ylabel='Density'>"
      ]
     },
     "execution_count": 14,
     "metadata": {},
     "output_type": "execute_result"
    },
    {
     "data": {
      "image/png": "[encoded data removed]",
      "text/plain": [
       "<Figure size 640x480 with 1 Axes>"
      ]
     },
     "metadata": {},
     "output_type": "display_data"
    }
   ],
   "source": [
    "kde_plot(\"GDP per capita\")"
   ]
  },
  {
   "cell_type": "code",
   "execution_count": 15,
   "id": "c5e933fc",
   "metadata": {},
   "outputs": [],
   "source": [
    "def Histogram(a):\n",
    "    h=sns.histplot(HI[a],fill=True,color=\"Red\")\n",
    "    return h"
   ]
  },
  {
   "cell_type": "code",
   "execution_count": 16,
   "id": "df85d691",
   "metadata": {},
   "outputs": [
    {
     "data": {
      "text/plain": [
       "<Axes: xlabel='GDP per capita', ylabel='Count'>"
      ]
     },
     "execution_count": 16,
     "metadata": {},
     "output_type": "execute_result"
    },
    {
     "data": {
      "image/png": "[encoded data removed]",
      "text/plain": [
       "<Figure size 640x480 with 1 Axes>"
      ]
     },
     "metadata": {},
     "output_type": "display_data"
    }
   ],
   "source": [
    "Histogram(\"GDP per capita\")"
   ]
  },
  {
   "cell_type": "code",
   "execution_count": 17,
   "id": "5c0cb144",
   "metadata": {},
   "outputs": [
    {
     "data": {
      "text/plain": [
       "<Axes: xlabel='Social support', ylabel='Density'>"
      ]
     },
     "execution_count": 17,
     "metadata": {},
     "output_type": "execute_result"
    },
    {
     "data": {
      "image/png": "[encoded data removed]",
      "text/plain": [
       "<Figure size 640x480 with 1 Axes>"
      ]
     },
     "metadata": {},
     "output_type": "display_data"
    }
   ],
   "source": [
    "kde_plot(\"Social support\")"
   ]
  },
  {
   "cell_type": "code",
   "execution_count": 18,
   "id": "d0c1bc2e",
   "metadata": {},
   "outputs": [
    {
     "data": {
      "text/plain": [
       "<Axes: xlabel='Social support', ylabel='Count'>"
      ]
     },
     "execution_count": 18,
     "metadata": {},
     "output_type": "execute_result"
    },
    {
     "data": {
      "image/png": "[encoded data removed]",
      "text/plain": [
       "<Figure size 640x480 with 1 Axes>"
      ]
     },
     "metadata": {},
     "output_type": "display_data"
    }
   ],
   "source": [
    "Histogram(\"Social support\")"
   ]
  },
  {
   "cell_type": "code",
   "execution_count": 19,
   "id": "b45837fe",
   "metadata": {},
   "outputs": [
    {
     "data": {
      "text/plain": [
       "<Axes: xlabel='Healthy life expectancy', ylabel='Density'>"
      ]
     },
     "execution_count": 19,
     "metadata": {},
     "output_type": "execute_result"
    },
    {
     "data": {
      "image/png": "[encoded data removed]",
      "text/plain": [
       "<Figure size 640x480 with 1 Axes>"
      ]
     },
     "metadata": {},
     "output_type": "display_data"
    }
   ],
   "source": [
    "kde_plot(\"Healthy life expectancy\")"
   ]
  },
  {
   "cell_type": "code",
   "execution_count": 20,
   "id": "2eb43e16",
   "metadata": {},
   "outputs": [
    {
     "data": {
      "text/plain": [
       "<Axes: xlabel='Healthy life expectancy', ylabel='Count'>"
      ]
     },
     "execution_count": 20,
     "metadata": {},
     "output_type": "execute_result"
    },
    {
     "data": {
      "image/png": "[encoded data removed]",
      "text/plain": [
       "<Figure size 640x480 with 1 Axes>"
      ]
     },
     "metadata": {},
     "output_type": "display_data"
    }
   ],
   "source": [
    "Histogram(\"Healthy life expectancy\")"
   ]
  },
  {
   "cell_type": "code",
   "execution_count": 21,
   "id": "a2b3889c",
   "metadata": {},
   "outputs": [
    {
     "data": {
      "text/plain": [
       "<Axes: xlabel='Freedom to make life choices', ylabel='Density'>"
      ]
     },
     "execution_count": 21,
     "metadata": {},
     "output_type": "execute_result"
    },
    {
     "data": {
      "image/png": "[encoded data removed]",
      "text/plain": [
       "<Figure size 640x480 with 1 Axes>"
      ]
     },
     "metadata": {},
     "output_type": "display_data"
    }
   ],
   "source": [
    "kde_plot(\"Freedom to make life choices\")"
   ]
  },
  {
   "cell_type": "code",
   "execution_count": 22,
   "id": "9a7d6c5a",
   "metadata": {},
   "outputs": [
    {
     "data": {
      "text/plain": [
       "<Axes: xlabel='Freedom to make life choices', ylabel='Count'>"
      ]
     },
     "execution_count": 22,
     "metadata": {},
     "output_type": "execute_result"
    },
    {
     "data": {
      "image/png": "[encoded data removed]",
      "text/plain": [
       "<Figure size 640x480 with 1 Axes>"
      ]
     },
     "metadata": {},
     "output_type": "display_data"
    }
   ],
   "source": [
    "Histogram(\"Freedom to make life choices\")"
   ]
  },
  {
   "cell_type": "code",
   "execution_count": 23,
   "id": "a91601cb",
   "metadata": {},
   "outputs": [
    {
     "data": {
      "text/plain": [
       "<Axes: xlabel='Freedom to make life choices', ylabel='Density'>"
      ]
     },
     "execution_count": 23,
     "metadata": {},
     "output_type": "execute_result"
    },
    {
     "data": {
      "image/png": "[encoded data removed]",
      "text/plain": [
       "<Figure size 640x480 with 1 Axes>"
      ]
     },
     "metadata": {},
     "output_type": "display_data"
    }
   ],
   "source": [
    "kde_plot(\"Freedom to make life choices\")"
   ]
  },
  {
   "cell_type": "code",
   "execution_count": 24,
   "id": "2208f232",
   "metadata": {},
   "outputs": [
    {
     "data": {
      "text/plain": [
       "<Axes: xlabel='Freedom to make life choices', ylabel='Count'>"
      ]
     },
     "execution_count": 24,
     "metadata": {},
     "output_type": "execute_result"
    },
    {
     "data": {
      "image/png": "[encoded data removed]",
      "text/plain": [
       "<Figure size 640x480 with 1 Axes>"
      ]
     },
     "metadata": {},
     "output_type": "display_data"
    }
   ],
   "source": [
    "Histogram(\"Freedom to make life choices\")"
   ]
  },
  {
   "cell_type": "code",
   "execution_count": 25,
   "id": "06d401fb",
   "metadata": {},
   "outputs": [
    {
     "data": {
      "text/plain": [
       "<Axes: xlabel='Generosity', ylabel='Density'>"
      ]
     },
     "execution_count": 25,
     "metadata": {},
     "output_type": "execute_result"
    },
    {
     "data": {
      "image/png": "[encoded data removed]",
      "text/plain": [
       "<Figure size 640x480 with 1 Axes>"
      ]
     },
     "metadata": {},
     "output_type": "display_data"
    }
   ],
   "source": [
    "kde_plot(\"Generosity\")"
   ]
  },
  {
   "cell_type": "code",
   "execution_count": 26,
   "id": "a54f6c6d",
   "metadata": {},
   "outputs": [
    {
     "data": {
      "text/plain": [
       "<Axes: xlabel='Generosity', ylabel='Count'>"
      ]
     },
     "execution_count": 26,
     "metadata": {},
     "output_type": "execute_result"
    },
    {
     "data": {
      "image/png": "[encoded data removed]",
      "text/plain": [
       "<Figure size 640x480 with 1 Axes>"
      ]
     },
     "metadata": {},
     "output_type": "display_data"
    }
   ],
   "source": [
    "Histogram(\"Generosity\")"
   ]
  },
  {
   "cell_type": "code",
   "execution_count": 27,
   "id": "6ad8d073",
   "metadata": {},
   "outputs": [
    {
     "data": {
      "text/plain": [
       "<Axes: xlabel='Perceptions of corruption', ylabel='Density'>"
      ]
     },
     "execution_count": 27,
     "metadata": {},
     "output_type": "execute_result"
    },
    {
     "data": {
      "image/png": "[encoded data removed]",
      "text/plain": [
       "<Figure size 640x480 with 1 Axes>"
      ]
     },
     "metadata": {},
     "output_type": "display_data"
    }
   ],
   "source": [
    "kde_plot(\"Perceptions of corruption\")"
   ]
  },
  {
   "cell_type": "code",
   "execution_count": 28,
   "id": "ca633152",
   "metadata": {},
   "outputs": [
    {
     "data": {
      "text/plain": [
       "<Axes: xlabel='Perceptions of corruption', ylabel='Count'>"
      ]
     },
     "execution_count": 28,
     "metadata": {},
     "output_type": "execute_result"
    },
    {
     "data": {
      "image/png": "[encoded data removed]",
      "text/plain": [
       "<Figure size 640x480 with 1 Axes>"
      ]
     },
     "metadata": {},
     "output_type": "display_data"
    }
   ],
   "source": [
    "Histogram(\"Perceptions of corruption\")"
   ]
  },
  {
   "cell_type": "code",
   "execution_count": 29,
   "id": "e6cd5d65",
   "metadata": {
    "scrolled": true
   },
   "outputs": [
    {
     "data": {
      "text/html": [
       "<div>\n",
       "<style scoped>\n",
       "    .dataframe tbody tr th:only-of-type {\n",
       "        vertical-align: middle;\n",
       "    }\n",
       "\n",
       "    .dataframe tbody tr th {\n",
       "        vertical-align: top;\n",
       "    }\n",
       "\n",
       "    .dataframe thead th {\n",
       "        text-align: right;\n",
       "    }\n",
       "</style>\n",
       "<table border=\"1\" class=\"dataframe\">\n",
       "  <thead>\n",
       "    <tr style=\"text-align: right;\">\n",
       "      <th></th>\n",
       "      <th>Overall rank</th>\n",
       "      <th>Country or region</th>\n",
       "      <th>Year</th>\n",
       "      <th>Score</th>\n",
       "      <th>GDP per capita</th>\n",
       "      <th>Social support</th>\n",
       "      <th>Healthy life expectancy</th>\n",
       "      <th>Freedom to make life choices</th>\n",
       "      <th>Generosity</th>\n",
       "      <th>Perceptions of corruption</th>\n",
       "    </tr>\n",
       "  </thead>\n",
       "  <tbody>\n",
       "    <tr>\n",
       "      <th>0</th>\n",
       "      <td>154</td>\n",
       "      <td>Afghanistan</td>\n",
       "      <td>2019</td>\n",
       "      <td>3.203</td>\n",
       "      <td>0.350</td>\n",
       "      <td>0.517</td>\n",
       "      <td>0.361</td>\n",
       "      <td>0.000</td>\n",
       "      <td>0.158</td>\n",
       "      <td>0.025</td>\n",
       "    </tr>\n",
       "    <tr>\n",
       "      <th>1</th>\n",
       "      <td>145</td>\n",
       "      <td>Afghanistan</td>\n",
       "      <td>2018</td>\n",
       "      <td>3.632</td>\n",
       "      <td>0.332</td>\n",
       "      <td>0.537</td>\n",
       "      <td>0.255</td>\n",
       "      <td>0.085</td>\n",
       "      <td>0.191</td>\n",
       "      <td>0.036</td>\n",
       "    </tr>\n",
       "    <tr>\n",
       "      <th>2</th>\n",
       "      <td>107</td>\n",
       "      <td>Albania</td>\n",
       "      <td>2019</td>\n",
       "      <td>4.719</td>\n",
       "      <td>0.947</td>\n",
       "      <td>0.848</td>\n",
       "      <td>0.874</td>\n",
       "      <td>0.383</td>\n",
       "      <td>0.178</td>\n",
       "      <td>0.027</td>\n",
       "    </tr>\n",
       "    <tr>\n",
       "      <th>3</th>\n",
       "      <td>112</td>\n",
       "      <td>Albania</td>\n",
       "      <td>2018</td>\n",
       "      <td>4.586</td>\n",
       "      <td>0.916</td>\n",
       "      <td>0.817</td>\n",
       "      <td>0.790</td>\n",
       "      <td>0.419</td>\n",
       "      <td>0.149</td>\n",
       "      <td>0.032</td>\n",
       "    </tr>\n",
       "    <tr>\n",
       "      <th>4</th>\n",
       "      <td>88</td>\n",
       "      <td>Algeria</td>\n",
       "      <td>2019</td>\n",
       "      <td>5.211</td>\n",
       "      <td>1.002</td>\n",
       "      <td>1.160</td>\n",
       "      <td>0.785</td>\n",
       "      <td>0.086</td>\n",
       "      <td>0.073</td>\n",
       "      <td>0.114</td>\n",
       "    </tr>\n",
       "    <tr>\n",
       "      <th>...</th>\n",
       "      <td>...</td>\n",
       "      <td>...</td>\n",
       "      <td>...</td>\n",
       "      <td>...</td>\n",
       "      <td>...</td>\n",
       "      <td>...</td>\n",
       "      <td>...</td>\n",
       "      <td>...</td>\n",
       "      <td>...</td>\n",
       "      <td>...</td>\n",
       "    </tr>\n",
       "    <tr>\n",
       "      <th>307</th>\n",
       "      <td>152</td>\n",
       "      <td>Yemen</td>\n",
       "      <td>2018</td>\n",
       "      <td>3.355</td>\n",
       "      <td>0.442</td>\n",
       "      <td>1.073</td>\n",
       "      <td>0.343</td>\n",
       "      <td>0.244</td>\n",
       "      <td>0.083</td>\n",
       "      <td>0.064</td>\n",
       "    </tr>\n",
       "    <tr>\n",
       "      <th>308</th>\n",
       "      <td>138</td>\n",
       "      <td>Zambia</td>\n",
       "      <td>2019</td>\n",
       "      <td>4.107</td>\n",
       "      <td>0.578</td>\n",
       "      <td>1.058</td>\n",
       "      <td>0.426</td>\n",
       "      <td>0.431</td>\n",
       "      <td>0.247</td>\n",
       "      <td>0.087</td>\n",
       "    </tr>\n",
       "    <tr>\n",
       "      <th>309</th>\n",
       "      <td>125</td>\n",
       "      <td>Zambia</td>\n",
       "      <td>2018</td>\n",
       "      <td>4.377</td>\n",
       "      <td>0.562</td>\n",
       "      <td>1.047</td>\n",
       "      <td>0.295</td>\n",
       "      <td>0.503</td>\n",
       "      <td>0.221</td>\n",
       "      <td>0.082</td>\n",
       "    </tr>\n",
       "    <tr>\n",
       "      <th>310</th>\n",
       "      <td>146</td>\n",
       "      <td>Zimbabwe</td>\n",
       "      <td>2019</td>\n",
       "      <td>3.663</td>\n",
       "      <td>0.366</td>\n",
       "      <td>1.114</td>\n",
       "      <td>0.433</td>\n",
       "      <td>0.361</td>\n",
       "      <td>0.151</td>\n",
       "      <td>0.089</td>\n",
       "    </tr>\n",
       "    <tr>\n",
       "      <th>311</th>\n",
       "      <td>144</td>\n",
       "      <td>Zimbabwe</td>\n",
       "      <td>2018</td>\n",
       "      <td>3.692</td>\n",
       "      <td>0.357</td>\n",
       "      <td>1.094</td>\n",
       "      <td>0.248</td>\n",
       "      <td>0.406</td>\n",
       "      <td>0.132</td>\n",
       "      <td>0.099</td>\n",
       "    </tr>\n",
       "  </tbody>\n",
       "</table>\n",
       "<p>312 rows × 10 columns</p>\n",
       "</div>"
      ],
      "text/plain": [
       "     Overall rank Country or region  Year  Score  GDP per capita  \\\n",
       "0             154       Afghanistan  2019  3.203           0.350   \n",
       "1             145       Afghanistan  2018  3.632           0.332   \n",
       "2             107           Albania  2019  4.719           0.947   \n",
       "3             112           Albania  2018  4.586           0.916   \n",
       "4              88           Algeria  2019  5.211           1.002   \n",
       "..            ...               ...   ...    ...             ...   \n",
       "307           152             Yemen  2018  3.355           0.442   \n",
       "308           138            Zambia  2019  4.107           0.578   \n",
       "309           125            Zambia  2018  4.377           0.562   \n",
       "310           146          Zimbabwe  2019  3.663           0.366   \n",
       "311           144          Zimbabwe  2018  3.692           0.357   \n",
       "\n",
       "     Social support  Healthy life expectancy  Freedom to make life choices  \\\n",
       "0             0.517                    0.361                         0.000   \n",
       "1             0.537                    0.255                         0.085   \n",
       "2             0.848                    0.874                         0.383   \n",
       "3             0.817                    0.790                         0.419   \n",
       "4             1.160                    0.785                         0.086   \n",
       "..              ...                      ...                           ...   \n",
       "307           1.073                    0.343                         0.244   \n",
       "308           1.058                    0.426                         0.431   \n",
       "309           1.047                    0.295                         0.503   \n",
       "310           1.114                    0.433                         0.361   \n",
       "311           1.094                    0.248                         0.406   \n",
       "\n",
       "     Generosity  Perceptions of corruption  \n",
       "0         0.158                      0.025  \n",
       "1         0.191                      0.036  \n",
       "2         0.178                      0.027  \n",
       "3         0.149                      0.032  \n",
       "4         0.073                      0.114  \n",
       "..          ...                        ...  \n",
       "307       0.083                      0.064  \n",
       "308       0.247                      0.087  \n",
       "309       0.221                      0.082  \n",
       "310       0.151                      0.089  \n",
       "311       0.132                      0.099  \n",
       "\n",
       "[312 rows x 10 columns]"
      ]
     },
     "execution_count": 29,
     "metadata": {},
     "output_type": "execute_result"
    }
   ],
   "source": [
    "HI"
   ]
  },
  {
   "cell_type": "code",
   "execution_count": 30,
   "id": "f5be4ba4",
   "metadata": {},
   "outputs": [
    {
     "data": {
      "image/png": "[encoded data removed]",
      "text/plain": [
       "<Figure size 2000x2000 with 6 Axes>"
      ]
     },
     "metadata": {},
     "output_type": "display_data"
    },
    {
     "data": {
      "text/plain": [
       "<Figure size 640x480 with 0 Axes>"
      ]
     },
     "metadata": {},
     "output_type": "display_data"
    }
   ],
   "source": [
    "## Checking Outliers By Calculation [BEFORE]\n",
    "\n",
    "plt.figure(figsize=(20, 20))\n",
    "plt.suptitle(\"Outliers Detection\")\n",
    "pltn = 1\n",
    "columns_to_exclude = ['Overall rank', 'Country or region', 'Year', 'Score']\n",
    "\n",
    "for i in HI.columns:\n",
    "    if i not in columns_to_exclude and pltn <= 9:\n",
    "        plt.subplot(5, 2, pltn)\n",
    "        sns.boxplot(HI[i], orient=\"h\")\n",
    "        plt.xlabel(i, fontsize=15)\n",
    "        pltn += 1\n",
    "\n",
    "plt.show()\n",
    "plt.tight_layout()"
   ]
  },
  {
   "cell_type": "markdown",
   "id": "5bbe2ef0",
   "metadata": {},
   "source": [
    "# Feature Engineering"
   ]
  },
  {
   "cell_type": "code",
   "execution_count": 31,
   "id": "e7327790",
   "metadata": {
    "scrolled": true
   },
   "outputs": [
    {
     "name": "stdout",
     "output_type": "stream",
     "text": [
      "<class 'pandas.core.frame.DataFrame'>\n",
      "RangeIndex: 312 entries, 0 to 311\n",
      "Data columns (total 10 columns):\n",
      " #   Column                        Non-Null Count  Dtype  \n",
      "---  ------                        --------------  -----  \n",
      " 0   Overall rank                  312 non-null    int64  \n",
      " 1   Country or region             312 non-null    object \n",
      " 2   Year                          312 non-null    int64  \n",
      " 3   Score                         312 non-null    float64\n",
      " 4   GDP per capita                312 non-null    float64\n",
      " 5   Social support                312 non-null    float64\n",
      " 6   Healthy life expectancy       312 non-null    float64\n",
      " 7   Freedom to make life choices  312 non-null    float64\n",
      " 8   Generosity                    312 non-null    float64\n",
      " 9   Perceptions of corruption     312 non-null    float64\n",
      "dtypes: float64(7), int64(2), object(1)\n",
      "memory usage: 24.5+ KB\n"
     ]
    }
   ],
   "source": [
    "HI.info()"
   ]
  },
  {
   "cell_type": "code",
   "execution_count": 32,
   "id": "d4c85572",
   "metadata": {},
   "outputs": [],
   "source": [
    "#  handling of out liers\n",
    "def Outlier(a):\n",
    "    q1=HI[a].quantile(0.25)\n",
    "    q2=HI[a].quantile(0.50)\n",
    "    q3=HI[a].quantile(0.75)\n",
    "    iqr=q3-q1\n",
    "    lower_tail=q1-1.5*iqr\n",
    "    upper_tail=q3+1.5*iqr\n",
    "    print(f\"lower tail:{lower_tail}\")#lower tail\n",
    "    print(f\"upper tail:{upper_tail}\")#upper tail\n",
    "    outliers = HI[(HI[a]<lower_tail)|(HI[a]>upper_tail)]\n",
    "    HI[a]=np.where(HI[a]<lower_tail,lower_tail,np.where(HI[a]>upper_tail,upper_tail,HI[a]))\n",
    "    return HI"
   ]
  },
  {
   "cell_type": "code",
   "execution_count": 33,
   "id": "e3d7232c",
   "metadata": {
    "scrolled": true
   },
   "outputs": [
    {
     "name": "stdout",
     "output_type": "stream",
     "text": [
      "lower tail:-0.3055000000000002\n",
      "upper tail:2.1345\n"
     ]
    },
    {
     "data": {
      "text/html": [
       "<div>\n",
       "<style scoped>\n",
       "    .dataframe tbody tr th:only-of-type {\n",
       "        vertical-align: middle;\n",
       "    }\n",
       "\n",
       "    .dataframe tbody tr th {\n",
       "        vertical-align: top;\n",
       "    }\n",
       "\n",
       "    .dataframe thead th {\n",
       "        text-align: right;\n",
       "    }\n",
       "</style>\n",
       "<table border=\"1\" class=\"dataframe\">\n",
       "  <thead>\n",
       "    <tr style=\"text-align: right;\">\n",
       "      <th></th>\n",
       "      <th>Overall rank</th>\n",
       "      <th>Country or region</th>\n",
       "      <th>Year</th>\n",
       "      <th>Score</th>\n",
       "      <th>GDP per capita</th>\n",
       "      <th>Social support</th>\n",
       "      <th>Healthy life expectancy</th>\n",
       "      <th>Freedom to make life choices</th>\n",
       "      <th>Generosity</th>\n",
       "      <th>Perceptions of corruption</th>\n",
       "    </tr>\n",
       "  </thead>\n",
       "  <tbody>\n",
       "    <tr>\n",
       "      <th>0</th>\n",
       "      <td>154</td>\n",
       "      <td>Afghanistan</td>\n",
       "      <td>2019</td>\n",
       "      <td>3.203</td>\n",
       "      <td>0.350</td>\n",
       "      <td>0.517</td>\n",
       "      <td>0.361</td>\n",
       "      <td>0.000</td>\n",
       "      <td>0.158</td>\n",
       "      <td>0.025</td>\n",
       "    </tr>\n",
       "    <tr>\n",
       "      <th>1</th>\n",
       "      <td>145</td>\n",
       "      <td>Afghanistan</td>\n",
       "      <td>2018</td>\n",
       "      <td>3.632</td>\n",
       "      <td>0.332</td>\n",
       "      <td>0.537</td>\n",
       "      <td>0.255</td>\n",
       "      <td>0.085</td>\n",
       "      <td>0.191</td>\n",
       "      <td>0.036</td>\n",
       "    </tr>\n",
       "    <tr>\n",
       "      <th>2</th>\n",
       "      <td>107</td>\n",
       "      <td>Albania</td>\n",
       "      <td>2019</td>\n",
       "      <td>4.719</td>\n",
       "      <td>0.947</td>\n",
       "      <td>0.848</td>\n",
       "      <td>0.874</td>\n",
       "      <td>0.383</td>\n",
       "      <td>0.178</td>\n",
       "      <td>0.027</td>\n",
       "    </tr>\n",
       "    <tr>\n",
       "      <th>3</th>\n",
       "      <td>112</td>\n",
       "      <td>Albania</td>\n",
       "      <td>2018</td>\n",
       "      <td>4.586</td>\n",
       "      <td>0.916</td>\n",
       "      <td>0.817</td>\n",
       "      <td>0.790</td>\n",
       "      <td>0.419</td>\n",
       "      <td>0.149</td>\n",
       "      <td>0.032</td>\n",
       "    </tr>\n",
       "    <tr>\n",
       "      <th>4</th>\n",
       "      <td>88</td>\n",
       "      <td>Algeria</td>\n",
       "      <td>2019</td>\n",
       "      <td>5.211</td>\n",
       "      <td>1.002</td>\n",
       "      <td>1.160</td>\n",
       "      <td>0.785</td>\n",
       "      <td>0.086</td>\n",
       "      <td>0.073</td>\n",
       "      <td>0.114</td>\n",
       "    </tr>\n",
       "    <tr>\n",
       "      <th>...</th>\n",
       "      <td>...</td>\n",
       "      <td>...</td>\n",
       "      <td>...</td>\n",
       "      <td>...</td>\n",
       "      <td>...</td>\n",
       "      <td>...</td>\n",
       "      <td>...</td>\n",
       "      <td>...</td>\n",
       "      <td>...</td>\n",
       "      <td>...</td>\n",
       "    </tr>\n",
       "    <tr>\n",
       "      <th>307</th>\n",
       "      <td>152</td>\n",
       "      <td>Yemen</td>\n",
       "      <td>2018</td>\n",
       "      <td>3.355</td>\n",
       "      <td>0.442</td>\n",
       "      <td>1.073</td>\n",
       "      <td>0.343</td>\n",
       "      <td>0.244</td>\n",
       "      <td>0.083</td>\n",
       "      <td>0.064</td>\n",
       "    </tr>\n",
       "    <tr>\n",
       "      <th>308</th>\n",
       "      <td>138</td>\n",
       "      <td>Zambia</td>\n",
       "      <td>2019</td>\n",
       "      <td>4.107</td>\n",
       "      <td>0.578</td>\n",
       "      <td>1.058</td>\n",
       "      <td>0.426</td>\n",
       "      <td>0.431</td>\n",
       "      <td>0.247</td>\n",
       "      <td>0.087</td>\n",
       "    </tr>\n",
       "    <tr>\n",
       "      <th>309</th>\n",
       "      <td>125</td>\n",
       "      <td>Zambia</td>\n",
       "      <td>2018</td>\n",
       "      <td>4.377</td>\n",
       "      <td>0.562</td>\n",
       "      <td>1.047</td>\n",
       "      <td>0.295</td>\n",
       "      <td>0.503</td>\n",
       "      <td>0.221</td>\n",
       "      <td>0.082</td>\n",
       "    </tr>\n",
       "    <tr>\n",
       "      <th>310</th>\n",
       "      <td>146</td>\n",
       "      <td>Zimbabwe</td>\n",
       "      <td>2019</td>\n",
       "      <td>3.663</td>\n",
       "      <td>0.366</td>\n",
       "      <td>1.114</td>\n",
       "      <td>0.433</td>\n",
       "      <td>0.361</td>\n",
       "      <td>0.151</td>\n",
       "      <td>0.089</td>\n",
       "    </tr>\n",
       "    <tr>\n",
       "      <th>311</th>\n",
       "      <td>144</td>\n",
       "      <td>Zimbabwe</td>\n",
       "      <td>2018</td>\n",
       "      <td>3.692</td>\n",
       "      <td>0.357</td>\n",
       "      <td>1.094</td>\n",
       "      <td>0.248</td>\n",
       "      <td>0.406</td>\n",
       "      <td>0.132</td>\n",
       "      <td>0.099</td>\n",
       "    </tr>\n",
       "  </tbody>\n",
       "</table>\n",
       "<p>312 rows × 10 columns</p>\n",
       "</div>"
      ],
      "text/plain": [
       "     Overall rank Country or region  Year  Score  GDP per capita  \\\n",
       "0             154       Afghanistan  2019  3.203           0.350   \n",
       "1             145       Afghanistan  2018  3.632           0.332   \n",
       "2             107           Albania  2019  4.719           0.947   \n",
       "3             112           Albania  2018  4.586           0.916   \n",
       "4              88           Algeria  2019  5.211           1.002   \n",
       "..            ...               ...   ...    ...             ...   \n",
       "307           152             Yemen  2018  3.355           0.442   \n",
       "308           138            Zambia  2019  4.107           0.578   \n",
       "309           125            Zambia  2018  4.377           0.562   \n",
       "310           146          Zimbabwe  2019  3.663           0.366   \n",
       "311           144          Zimbabwe  2018  3.692           0.357   \n",
       "\n",
       "     Social support  Healthy life expectancy  Freedom to make life choices  \\\n",
       "0             0.517                    0.361                         0.000   \n",
       "1             0.537                    0.255                         0.085   \n",
       "2             0.848                    0.874                         0.383   \n",
       "3             0.817                    0.790                         0.419   \n",
       "4             1.160                    0.785                         0.086   \n",
       "..              ...                      ...                           ...   \n",
       "307           1.073                    0.343                         0.244   \n",
       "308           1.058                    0.426                         0.431   \n",
       "309           1.047                    0.295                         0.503   \n",
       "310           1.114                    0.433                         0.361   \n",
       "311           1.094                    0.248                         0.406   \n",
       "\n",
       "     Generosity  Perceptions of corruption  \n",
       "0         0.158                      0.025  \n",
       "1         0.191                      0.036  \n",
       "2         0.178                      0.027  \n",
       "3         0.149                      0.032  \n",
       "4         0.073                      0.114  \n",
       "..          ...                        ...  \n",
       "307       0.083                      0.064  \n",
       "308       0.247                      0.087  \n",
       "309       0.221                      0.082  \n",
       "310       0.151                      0.089  \n",
       "311       0.132                      0.099  \n",
       "\n",
       "[312 rows x 10 columns]"
      ]
     },
     "execution_count": 33,
     "metadata": {},
     "output_type": "execute_result"
    }
   ],
   "source": [
    "Outlier(\"GDP per capita\")"
   ]
  },
  {
   "cell_type": "code",
   "execution_count": 34,
   "id": "d6b97901",
   "metadata": {
    "scrolled": true
   },
   "outputs": [
    {
     "name": "stdout",
     "output_type": "stream",
     "text": [
      "lower tail:0.4531249999999999\n",
      "upper tail:2.060125\n"
     ]
    },
    {
     "data": {
      "text/html": [
       "<div>\n",
       "<style scoped>\n",
       "    .dataframe tbody tr th:only-of-type {\n",
       "        vertical-align: middle;\n",
       "    }\n",
       "\n",
       "    .dataframe tbody tr th {\n",
       "        vertical-align: top;\n",
       "    }\n",
       "\n",
       "    .dataframe thead th {\n",
       "        text-align: right;\n",
       "    }\n",
       "</style>\n",
       "<table border=\"1\" class=\"dataframe\">\n",
       "  <thead>\n",
       "    <tr style=\"text-align: right;\">\n",
       "      <th></th>\n",
       "      <th>Overall rank</th>\n",
       "      <th>Country or region</th>\n",
       "      <th>Year</th>\n",
       "      <th>Score</th>\n",
       "      <th>GDP per capita</th>\n",
       "      <th>Social support</th>\n",
       "      <th>Healthy life expectancy</th>\n",
       "      <th>Freedom to make life choices</th>\n",
       "      <th>Generosity</th>\n",
       "      <th>Perceptions of corruption</th>\n",
       "    </tr>\n",
       "  </thead>\n",
       "  <tbody>\n",
       "    <tr>\n",
       "      <th>0</th>\n",
       "      <td>154</td>\n",
       "      <td>Afghanistan</td>\n",
       "      <td>2019</td>\n",
       "      <td>3.203</td>\n",
       "      <td>0.350</td>\n",
       "      <td>0.517</td>\n",
       "      <td>0.361</td>\n",
       "      <td>0.000</td>\n",
       "      <td>0.158</td>\n",
       "      <td>0.025</td>\n",
       "    </tr>\n",
       "    <tr>\n",
       "      <th>1</th>\n",
       "      <td>145</td>\n",
       "      <td>Afghanistan</td>\n",
       "      <td>2018</td>\n",
       "      <td>3.632</td>\n",
       "      <td>0.332</td>\n",
       "      <td>0.537</td>\n",
       "      <td>0.255</td>\n",
       "      <td>0.085</td>\n",
       "      <td>0.191</td>\n",
       "      <td>0.036</td>\n",
       "    </tr>\n",
       "    <tr>\n",
       "      <th>2</th>\n",
       "      <td>107</td>\n",
       "      <td>Albania</td>\n",
       "      <td>2019</td>\n",
       "      <td>4.719</td>\n",
       "      <td>0.947</td>\n",
       "      <td>0.848</td>\n",
       "      <td>0.874</td>\n",
       "      <td>0.383</td>\n",
       "      <td>0.178</td>\n",
       "      <td>0.027</td>\n",
       "    </tr>\n",
       "    <tr>\n",
       "      <th>3</th>\n",
       "      <td>112</td>\n",
       "      <td>Albania</td>\n",
       "      <td>2018</td>\n",
       "      <td>4.586</td>\n",
       "      <td>0.916</td>\n",
       "      <td>0.817</td>\n",
       "      <td>0.790</td>\n",
       "      <td>0.419</td>\n",
       "      <td>0.149</td>\n",
       "      <td>0.032</td>\n",
       "    </tr>\n",
       "    <tr>\n",
       "      <th>4</th>\n",
       "      <td>88</td>\n",
       "      <td>Algeria</td>\n",
       "      <td>2019</td>\n",
       "      <td>5.211</td>\n",
       "      <td>1.002</td>\n",
       "      <td>1.160</td>\n",
       "      <td>0.785</td>\n",
       "      <td>0.086</td>\n",
       "      <td>0.073</td>\n",
       "      <td>0.114</td>\n",
       "    </tr>\n",
       "    <tr>\n",
       "      <th>...</th>\n",
       "      <td>...</td>\n",
       "      <td>...</td>\n",
       "      <td>...</td>\n",
       "      <td>...</td>\n",
       "      <td>...</td>\n",
       "      <td>...</td>\n",
       "      <td>...</td>\n",
       "      <td>...</td>\n",
       "      <td>...</td>\n",
       "      <td>...</td>\n",
       "    </tr>\n",
       "    <tr>\n",
       "      <th>307</th>\n",
       "      <td>152</td>\n",
       "      <td>Yemen</td>\n",
       "      <td>2018</td>\n",
       "      <td>3.355</td>\n",
       "      <td>0.442</td>\n",
       "      <td>1.073</td>\n",
       "      <td>0.343</td>\n",
       "      <td>0.244</td>\n",
       "      <td>0.083</td>\n",
       "      <td>0.064</td>\n",
       "    </tr>\n",
       "    <tr>\n",
       "      <th>308</th>\n",
       "      <td>138</td>\n",
       "      <td>Zambia</td>\n",
       "      <td>2019</td>\n",
       "      <td>4.107</td>\n",
       "      <td>0.578</td>\n",
       "      <td>1.058</td>\n",
       "      <td>0.426</td>\n",
       "      <td>0.431</td>\n",
       "      <td>0.247</td>\n",
       "      <td>0.087</td>\n",
       "    </tr>\n",
       "    <tr>\n",
       "      <th>309</th>\n",
       "      <td>125</td>\n",
       "      <td>Zambia</td>\n",
       "      <td>2018</td>\n",
       "      <td>4.377</td>\n",
       "      <td>0.562</td>\n",
       "      <td>1.047</td>\n",
       "      <td>0.295</td>\n",
       "      <td>0.503</td>\n",
       "      <td>0.221</td>\n",
       "      <td>0.082</td>\n",
       "    </tr>\n",
       "    <tr>\n",
       "      <th>310</th>\n",
       "      <td>146</td>\n",
       "      <td>Zimbabwe</td>\n",
       "      <td>2019</td>\n",
       "      <td>3.663</td>\n",
       "      <td>0.366</td>\n",
       "      <td>1.114</td>\n",
       "      <td>0.433</td>\n",
       "      <td>0.361</td>\n",
       "      <td>0.151</td>\n",
       "      <td>0.089</td>\n",
       "    </tr>\n",
       "    <tr>\n",
       "      <th>311</th>\n",
       "      <td>144</td>\n",
       "      <td>Zimbabwe</td>\n",
       "      <td>2018</td>\n",
       "      <td>3.692</td>\n",
       "      <td>0.357</td>\n",
       "      <td>1.094</td>\n",
       "      <td>0.248</td>\n",
       "      <td>0.406</td>\n",
       "      <td>0.132</td>\n",
       "      <td>0.099</td>\n",
       "    </tr>\n",
       "  </tbody>\n",
       "</table>\n",
       "<p>312 rows × 10 columns</p>\n",
       "</div>"
      ],
      "text/plain": [
       "     Overall rank Country or region  Year  Score  GDP per capita  \\\n",
       "0             154       Afghanistan  2019  3.203           0.350   \n",
       "1             145       Afghanistan  2018  3.632           0.332   \n",
       "2             107           Albania  2019  4.719           0.947   \n",
       "3             112           Albania  2018  4.586           0.916   \n",
       "4              88           Algeria  2019  5.211           1.002   \n",
       "..            ...               ...   ...    ...             ...   \n",
       "307           152             Yemen  2018  3.355           0.442   \n",
       "308           138            Zambia  2019  4.107           0.578   \n",
       "309           125            Zambia  2018  4.377           0.562   \n",
       "310           146          Zimbabwe  2019  3.663           0.366   \n",
       "311           144          Zimbabwe  2018  3.692           0.357   \n",
       "\n",
       "     Social support  Healthy life expectancy  Freedom to make life choices  \\\n",
       "0             0.517                    0.361                         0.000   \n",
       "1             0.537                    0.255                         0.085   \n",
       "2             0.848                    0.874                         0.383   \n",
       "3             0.817                    0.790                         0.419   \n",
       "4             1.160                    0.785                         0.086   \n",
       "..              ...                      ...                           ...   \n",
       "307           1.073                    0.343                         0.244   \n",
       "308           1.058                    0.426                         0.431   \n",
       "309           1.047                    0.295                         0.503   \n",
       "310           1.114                    0.433                         0.361   \n",
       "311           1.094                    0.248                         0.406   \n",
       "\n",
       "     Generosity  Perceptions of corruption  \n",
       "0         0.158                      0.025  \n",
       "1         0.191                      0.036  \n",
       "2         0.178                      0.027  \n",
       "3         0.149                      0.032  \n",
       "4         0.073                      0.114  \n",
       "..          ...                        ...  \n",
       "307       0.083                      0.064  \n",
       "308       0.247                      0.087  \n",
       "309       0.221                      0.082  \n",
       "310       0.151                      0.089  \n",
       "311       0.132                      0.099  \n",
       "\n",
       "[312 rows x 10 columns]"
      ]
     },
     "execution_count": 34,
     "metadata": {},
     "output_type": "execute_result"
    }
   ],
   "source": [
    "Outlier(\"Social support\")"
   ]
  },
  {
   "cell_type": "code",
   "execution_count": 35,
   "id": "7957c804",
   "metadata": {
    "scrolled": true
   },
   "outputs": [
    {
     "name": "stdout",
     "output_type": "stream",
     "text": [
      "lower tail:-0.06637500000000007\n",
      "upper tail:1.412625\n"
     ]
    },
    {
     "data": {
      "text/html": [
       "<div>\n",
       "<style scoped>\n",
       "    .dataframe tbody tr th:only-of-type {\n",
       "        vertical-align: middle;\n",
       "    }\n",
       "\n",
       "    .dataframe tbody tr th {\n",
       "        vertical-align: top;\n",
       "    }\n",
       "\n",
       "    .dataframe thead th {\n",
       "        text-align: right;\n",
       "    }\n",
       "</style>\n",
       "<table border=\"1\" class=\"dataframe\">\n",
       "  <thead>\n",
       "    <tr style=\"text-align: right;\">\n",
       "      <th></th>\n",
       "      <th>Overall rank</th>\n",
       "      <th>Country or region</th>\n",
       "      <th>Year</th>\n",
       "      <th>Score</th>\n",
       "      <th>GDP per capita</th>\n",
       "      <th>Social support</th>\n",
       "      <th>Healthy life expectancy</th>\n",
       "      <th>Freedom to make life choices</th>\n",
       "      <th>Generosity</th>\n",
       "      <th>Perceptions of corruption</th>\n",
       "    </tr>\n",
       "  </thead>\n",
       "  <tbody>\n",
       "    <tr>\n",
       "      <th>0</th>\n",
       "      <td>154</td>\n",
       "      <td>Afghanistan</td>\n",
       "      <td>2019</td>\n",
       "      <td>3.203</td>\n",
       "      <td>0.350</td>\n",
       "      <td>0.517</td>\n",
       "      <td>0.361</td>\n",
       "      <td>0.000</td>\n",
       "      <td>0.158</td>\n",
       "      <td>0.025</td>\n",
       "    </tr>\n",
       "    <tr>\n",
       "      <th>1</th>\n",
       "      <td>145</td>\n",
       "      <td>Afghanistan</td>\n",
       "      <td>2018</td>\n",
       "      <td>3.632</td>\n",
       "      <td>0.332</td>\n",
       "      <td>0.537</td>\n",
       "      <td>0.255</td>\n",
       "      <td>0.085</td>\n",
       "      <td>0.191</td>\n",
       "      <td>0.036</td>\n",
       "    </tr>\n",
       "    <tr>\n",
       "      <th>2</th>\n",
       "      <td>107</td>\n",
       "      <td>Albania</td>\n",
       "      <td>2019</td>\n",
       "      <td>4.719</td>\n",
       "      <td>0.947</td>\n",
       "      <td>0.848</td>\n",
       "      <td>0.874</td>\n",
       "      <td>0.383</td>\n",
       "      <td>0.178</td>\n",
       "      <td>0.027</td>\n",
       "    </tr>\n",
       "    <tr>\n",
       "      <th>3</th>\n",
       "      <td>112</td>\n",
       "      <td>Albania</td>\n",
       "      <td>2018</td>\n",
       "      <td>4.586</td>\n",
       "      <td>0.916</td>\n",
       "      <td>0.817</td>\n",
       "      <td>0.790</td>\n",
       "      <td>0.419</td>\n",
       "      <td>0.149</td>\n",
       "      <td>0.032</td>\n",
       "    </tr>\n",
       "    <tr>\n",
       "      <th>4</th>\n",
       "      <td>88</td>\n",
       "      <td>Algeria</td>\n",
       "      <td>2019</td>\n",
       "      <td>5.211</td>\n",
       "      <td>1.002</td>\n",
       "      <td>1.160</td>\n",
       "      <td>0.785</td>\n",
       "      <td>0.086</td>\n",
       "      <td>0.073</td>\n",
       "      <td>0.114</td>\n",
       "    </tr>\n",
       "    <tr>\n",
       "      <th>...</th>\n",
       "      <td>...</td>\n",
       "      <td>...</td>\n",
       "      <td>...</td>\n",
       "      <td>...</td>\n",
       "      <td>...</td>\n",
       "      <td>...</td>\n",
       "      <td>...</td>\n",
       "      <td>...</td>\n",
       "      <td>...</td>\n",
       "      <td>...</td>\n",
       "    </tr>\n",
       "    <tr>\n",
       "      <th>307</th>\n",
       "      <td>152</td>\n",
       "      <td>Yemen</td>\n",
       "      <td>2018</td>\n",
       "      <td>3.355</td>\n",
       "      <td>0.442</td>\n",
       "      <td>1.073</td>\n",
       "      <td>0.343</td>\n",
       "      <td>0.244</td>\n",
       "      <td>0.083</td>\n",
       "      <td>0.064</td>\n",
       "    </tr>\n",
       "    <tr>\n",
       "      <th>308</th>\n",
       "      <td>138</td>\n",
       "      <td>Zambia</td>\n",
       "      <td>2019</td>\n",
       "      <td>4.107</td>\n",
       "      <td>0.578</td>\n",
       "      <td>1.058</td>\n",
       "      <td>0.426</td>\n",
       "      <td>0.431</td>\n",
       "      <td>0.247</td>\n",
       "      <td>0.087</td>\n",
       "    </tr>\n",
       "    <tr>\n",
       "      <th>309</th>\n",
       "      <td>125</td>\n",
       "      <td>Zambia</td>\n",
       "      <td>2018</td>\n",
       "      <td>4.377</td>\n",
       "      <td>0.562</td>\n",
       "      <td>1.047</td>\n",
       "      <td>0.295</td>\n",
       "      <td>0.503</td>\n",
       "      <td>0.221</td>\n",
       "      <td>0.082</td>\n",
       "    </tr>\n",
       "    <tr>\n",
       "      <th>310</th>\n",
       "      <td>146</td>\n",
       "      <td>Zimbabwe</td>\n",
       "      <td>2019</td>\n",
       "      <td>3.663</td>\n",
       "      <td>0.366</td>\n",
       "      <td>1.114</td>\n",
       "      <td>0.433</td>\n",
       "      <td>0.361</td>\n",
       "      <td>0.151</td>\n",
       "      <td>0.089</td>\n",
       "    </tr>\n",
       "    <tr>\n",
       "      <th>311</th>\n",
       "      <td>144</td>\n",
       "      <td>Zimbabwe</td>\n",
       "      <td>2018</td>\n",
       "      <td>3.692</td>\n",
       "      <td>0.357</td>\n",
       "      <td>1.094</td>\n",
       "      <td>0.248</td>\n",
       "      <td>0.406</td>\n",
       "      <td>0.132</td>\n",
       "      <td>0.099</td>\n",
       "    </tr>\n",
       "  </tbody>\n",
       "</table>\n",
       "<p>312 rows × 10 columns</p>\n",
       "</div>"
      ],
      "text/plain": [
       "     Overall rank Country or region  Year  Score  GDP per capita  \\\n",
       "0             154       Afghanistan  2019  3.203           0.350   \n",
       "1             145       Afghanistan  2018  3.632           0.332   \n",
       "2             107           Albania  2019  4.719           0.947   \n",
       "3             112           Albania  2018  4.586           0.916   \n",
       "4              88           Algeria  2019  5.211           1.002   \n",
       "..            ...               ...   ...    ...             ...   \n",
       "307           152             Yemen  2018  3.355           0.442   \n",
       "308           138            Zambia  2019  4.107           0.578   \n",
       "309           125            Zambia  2018  4.377           0.562   \n",
       "310           146          Zimbabwe  2019  3.663           0.366   \n",
       "311           144          Zimbabwe  2018  3.692           0.357   \n",
       "\n",
       "     Social support  Healthy life expectancy  Freedom to make life choices  \\\n",
       "0             0.517                    0.361                         0.000   \n",
       "1             0.537                    0.255                         0.085   \n",
       "2             0.848                    0.874                         0.383   \n",
       "3             0.817                    0.790                         0.419   \n",
       "4             1.160                    0.785                         0.086   \n",
       "..              ...                      ...                           ...   \n",
       "307           1.073                    0.343                         0.244   \n",
       "308           1.058                    0.426                         0.431   \n",
       "309           1.047                    0.295                         0.503   \n",
       "310           1.114                    0.433                         0.361   \n",
       "311           1.094                    0.248                         0.406   \n",
       "\n",
       "     Generosity  Perceptions of corruption  \n",
       "0         0.158                      0.025  \n",
       "1         0.191                      0.036  \n",
       "2         0.178                      0.027  \n",
       "3         0.149                      0.032  \n",
       "4         0.073                      0.114  \n",
       "..          ...                        ...  \n",
       "307       0.083                      0.064  \n",
       "308       0.247                      0.087  \n",
       "309       0.221                      0.082  \n",
       "310       0.151                      0.089  \n",
       "311       0.132                      0.099  \n",
       "\n",
       "[312 rows x 10 columns]"
      ]
     },
     "execution_count": 35,
     "metadata": {},
     "output_type": "execute_result"
    }
   ],
   "source": [
    "Outlier(\"Healthy life expectancy\")"
   ]
  },
  {
   "cell_type": "code",
   "execution_count": 36,
   "id": "95c494a7",
   "metadata": {
    "scrolled": true
   },
   "outputs": [
    {
     "name": "stdout",
     "output_type": "stream",
     "text": [
      "lower tail:-0.00412499999999999\n",
      "upper tail:0.8668750000000001\n"
     ]
    },
    {
     "data": {
      "text/html": [
       "<div>\n",
       "<style scoped>\n",
       "    .dataframe tbody tr th:only-of-type {\n",
       "        vertical-align: middle;\n",
       "    }\n",
       "\n",
       "    .dataframe tbody tr th {\n",
       "        vertical-align: top;\n",
       "    }\n",
       "\n",
       "    .dataframe thead th {\n",
       "        text-align: right;\n",
       "    }\n",
       "</style>\n",
       "<table border=\"1\" class=\"dataframe\">\n",
       "  <thead>\n",
       "    <tr style=\"text-align: right;\">\n",
       "      <th></th>\n",
       "      <th>Overall rank</th>\n",
       "      <th>Country or region</th>\n",
       "      <th>Year</th>\n",
       "      <th>Score</th>\n",
       "      <th>GDP per capita</th>\n",
       "      <th>Social support</th>\n",
       "      <th>Healthy life expectancy</th>\n",
       "      <th>Freedom to make life choices</th>\n",
       "      <th>Generosity</th>\n",
       "      <th>Perceptions of corruption</th>\n",
       "    </tr>\n",
       "  </thead>\n",
       "  <tbody>\n",
       "    <tr>\n",
       "      <th>0</th>\n",
       "      <td>154</td>\n",
       "      <td>Afghanistan</td>\n",
       "      <td>2019</td>\n",
       "      <td>3.203</td>\n",
       "      <td>0.350</td>\n",
       "      <td>0.517</td>\n",
       "      <td>0.361</td>\n",
       "      <td>0.000</td>\n",
       "      <td>0.158</td>\n",
       "      <td>0.025</td>\n",
       "    </tr>\n",
       "    <tr>\n",
       "      <th>1</th>\n",
       "      <td>145</td>\n",
       "      <td>Afghanistan</td>\n",
       "      <td>2018</td>\n",
       "      <td>3.632</td>\n",
       "      <td>0.332</td>\n",
       "      <td>0.537</td>\n",
       "      <td>0.255</td>\n",
       "      <td>0.085</td>\n",
       "      <td>0.191</td>\n",
       "      <td>0.036</td>\n",
       "    </tr>\n",
       "    <tr>\n",
       "      <th>2</th>\n",
       "      <td>107</td>\n",
       "      <td>Albania</td>\n",
       "      <td>2019</td>\n",
       "      <td>4.719</td>\n",
       "      <td>0.947</td>\n",
       "      <td>0.848</td>\n",
       "      <td>0.874</td>\n",
       "      <td>0.383</td>\n",
       "      <td>0.178</td>\n",
       "      <td>0.027</td>\n",
       "    </tr>\n",
       "    <tr>\n",
       "      <th>3</th>\n",
       "      <td>112</td>\n",
       "      <td>Albania</td>\n",
       "      <td>2018</td>\n",
       "      <td>4.586</td>\n",
       "      <td>0.916</td>\n",
       "      <td>0.817</td>\n",
       "      <td>0.790</td>\n",
       "      <td>0.419</td>\n",
       "      <td>0.149</td>\n",
       "      <td>0.032</td>\n",
       "    </tr>\n",
       "    <tr>\n",
       "      <th>4</th>\n",
       "      <td>88</td>\n",
       "      <td>Algeria</td>\n",
       "      <td>2019</td>\n",
       "      <td>5.211</td>\n",
       "      <td>1.002</td>\n",
       "      <td>1.160</td>\n",
       "      <td>0.785</td>\n",
       "      <td>0.086</td>\n",
       "      <td>0.073</td>\n",
       "      <td>0.114</td>\n",
       "    </tr>\n",
       "    <tr>\n",
       "      <th>...</th>\n",
       "      <td>...</td>\n",
       "      <td>...</td>\n",
       "      <td>...</td>\n",
       "      <td>...</td>\n",
       "      <td>...</td>\n",
       "      <td>...</td>\n",
       "      <td>...</td>\n",
       "      <td>...</td>\n",
       "      <td>...</td>\n",
       "      <td>...</td>\n",
       "    </tr>\n",
       "    <tr>\n",
       "      <th>307</th>\n",
       "      <td>152</td>\n",
       "      <td>Yemen</td>\n",
       "      <td>2018</td>\n",
       "      <td>3.355</td>\n",
       "      <td>0.442</td>\n",
       "      <td>1.073</td>\n",
       "      <td>0.343</td>\n",
       "      <td>0.244</td>\n",
       "      <td>0.083</td>\n",
       "      <td>0.064</td>\n",
       "    </tr>\n",
       "    <tr>\n",
       "      <th>308</th>\n",
       "      <td>138</td>\n",
       "      <td>Zambia</td>\n",
       "      <td>2019</td>\n",
       "      <td>4.107</td>\n",
       "      <td>0.578</td>\n",
       "      <td>1.058</td>\n",
       "      <td>0.426</td>\n",
       "      <td>0.431</td>\n",
       "      <td>0.247</td>\n",
       "      <td>0.087</td>\n",
       "    </tr>\n",
       "    <tr>\n",
       "      <th>309</th>\n",
       "      <td>125</td>\n",
       "      <td>Zambia</td>\n",
       "      <td>2018</td>\n",
       "      <td>4.377</td>\n",
       "      <td>0.562</td>\n",
       "      <td>1.047</td>\n",
       "      <td>0.295</td>\n",
       "      <td>0.503</td>\n",
       "      <td>0.221</td>\n",
       "      <td>0.082</td>\n",
       "    </tr>\n",
       "    <tr>\n",
       "      <th>310</th>\n",
       "      <td>146</td>\n",
       "      <td>Zimbabwe</td>\n",
       "      <td>2019</td>\n",
       "      <td>3.663</td>\n",
       "      <td>0.366</td>\n",
       "      <td>1.114</td>\n",
       "      <td>0.433</td>\n",
       "      <td>0.361</td>\n",
       "      <td>0.151</td>\n",
       "      <td>0.089</td>\n",
       "    </tr>\n",
       "    <tr>\n",
       "      <th>311</th>\n",
       "      <td>144</td>\n",
       "      <td>Zimbabwe</td>\n",
       "      <td>2018</td>\n",
       "      <td>3.692</td>\n",
       "      <td>0.357</td>\n",
       "      <td>1.094</td>\n",
       "      <td>0.248</td>\n",
       "      <td>0.406</td>\n",
       "      <td>0.132</td>\n",
       "      <td>0.099</td>\n",
       "    </tr>\n",
       "  </tbody>\n",
       "</table>\n",
       "<p>312 rows × 10 columns</p>\n",
       "</div>"
      ],
      "text/plain": [
       "     Overall rank Country or region  Year  Score  GDP per capita  \\\n",
       "0             154       Afghanistan  2019  3.203           0.350   \n",
       "1             145       Afghanistan  2018  3.632           0.332   \n",
       "2             107           Albania  2019  4.719           0.947   \n",
       "3             112           Albania  2018  4.586           0.916   \n",
       "4              88           Algeria  2019  5.211           1.002   \n",
       "..            ...               ...   ...    ...             ...   \n",
       "307           152             Yemen  2018  3.355           0.442   \n",
       "308           138            Zambia  2019  4.107           0.578   \n",
       "309           125            Zambia  2018  4.377           0.562   \n",
       "310           146          Zimbabwe  2019  3.663           0.366   \n",
       "311           144          Zimbabwe  2018  3.692           0.357   \n",
       "\n",
       "     Social support  Healthy life expectancy  Freedom to make life choices  \\\n",
       "0             0.517                    0.361                         0.000   \n",
       "1             0.537                    0.255                         0.085   \n",
       "2             0.848                    0.874                         0.383   \n",
       "3             0.817                    0.790                         0.419   \n",
       "4             1.160                    0.785                         0.086   \n",
       "..              ...                      ...                           ...   \n",
       "307           1.073                    0.343                         0.244   \n",
       "308           1.058                    0.426                         0.431   \n",
       "309           1.047                    0.295                         0.503   \n",
       "310           1.114                    0.433                         0.361   \n",
       "311           1.094                    0.248                         0.406   \n",
       "\n",
       "     Generosity  Perceptions of corruption  \n",
       "0         0.158                      0.025  \n",
       "1         0.191                      0.036  \n",
       "2         0.178                      0.027  \n",
       "3         0.149                      0.032  \n",
       "4         0.073                      0.114  \n",
       "..          ...                        ...  \n",
       "307       0.083                      0.064  \n",
       "308       0.247                      0.087  \n",
       "309       0.221                      0.082  \n",
       "310       0.151                      0.089  \n",
       "311       0.132                      0.099  \n",
       "\n",
       "[312 rows x 10 columns]"
      ]
     },
     "execution_count": 36,
     "metadata": {},
     "output_type": "execute_result"
    }
   ],
   "source": [
    "Outlier(\"Freedom to make life choices\")"
   ]
  },
  {
   "cell_type": "code",
   "execution_count": 37,
   "id": "9d4da67d",
   "metadata": {
    "scrolled": true
   },
   "outputs": [
    {
     "name": "stdout",
     "output_type": "stream",
     "text": [
      "lower tail:-0.09562499999999997\n",
      "upper tail:0.44937499999999997\n"
     ]
    },
    {
     "data": {
      "text/html": [
       "<div>\n",
       "<style scoped>\n",
       "    .dataframe tbody tr th:only-of-type {\n",
       "        vertical-align: middle;\n",
       "    }\n",
       "\n",
       "    .dataframe tbody tr th {\n",
       "        vertical-align: top;\n",
       "    }\n",
       "\n",
       "    .dataframe thead th {\n",
       "        text-align: right;\n",
       "    }\n",
       "</style>\n",
       "<table border=\"1\" class=\"dataframe\">\n",
       "  <thead>\n",
       "    <tr style=\"text-align: right;\">\n",
       "      <th></th>\n",
       "      <th>Overall rank</th>\n",
       "      <th>Country or region</th>\n",
       "      <th>Year</th>\n",
       "      <th>Score</th>\n",
       "      <th>GDP per capita</th>\n",
       "      <th>Social support</th>\n",
       "      <th>Healthy life expectancy</th>\n",
       "      <th>Freedom to make life choices</th>\n",
       "      <th>Generosity</th>\n",
       "      <th>Perceptions of corruption</th>\n",
       "    </tr>\n",
       "  </thead>\n",
       "  <tbody>\n",
       "    <tr>\n",
       "      <th>0</th>\n",
       "      <td>154</td>\n",
       "      <td>Afghanistan</td>\n",
       "      <td>2019</td>\n",
       "      <td>3.203</td>\n",
       "      <td>0.350</td>\n",
       "      <td>0.517</td>\n",
       "      <td>0.361</td>\n",
       "      <td>0.000</td>\n",
       "      <td>0.158</td>\n",
       "      <td>0.025</td>\n",
       "    </tr>\n",
       "    <tr>\n",
       "      <th>1</th>\n",
       "      <td>145</td>\n",
       "      <td>Afghanistan</td>\n",
       "      <td>2018</td>\n",
       "      <td>3.632</td>\n",
       "      <td>0.332</td>\n",
       "      <td>0.537</td>\n",
       "      <td>0.255</td>\n",
       "      <td>0.085</td>\n",
       "      <td>0.191</td>\n",
       "      <td>0.036</td>\n",
       "    </tr>\n",
       "    <tr>\n",
       "      <th>2</th>\n",
       "      <td>107</td>\n",
       "      <td>Albania</td>\n",
       "      <td>2019</td>\n",
       "      <td>4.719</td>\n",
       "      <td>0.947</td>\n",
       "      <td>0.848</td>\n",
       "      <td>0.874</td>\n",
       "      <td>0.383</td>\n",
       "      <td>0.178</td>\n",
       "      <td>0.027</td>\n",
       "    </tr>\n",
       "    <tr>\n",
       "      <th>3</th>\n",
       "      <td>112</td>\n",
       "      <td>Albania</td>\n",
       "      <td>2018</td>\n",
       "      <td>4.586</td>\n",
       "      <td>0.916</td>\n",
       "      <td>0.817</td>\n",
       "      <td>0.790</td>\n",
       "      <td>0.419</td>\n",
       "      <td>0.149</td>\n",
       "      <td>0.032</td>\n",
       "    </tr>\n",
       "    <tr>\n",
       "      <th>4</th>\n",
       "      <td>88</td>\n",
       "      <td>Algeria</td>\n",
       "      <td>2019</td>\n",
       "      <td>5.211</td>\n",
       "      <td>1.002</td>\n",
       "      <td>1.160</td>\n",
       "      <td>0.785</td>\n",
       "      <td>0.086</td>\n",
       "      <td>0.073</td>\n",
       "      <td>0.114</td>\n",
       "    </tr>\n",
       "    <tr>\n",
       "      <th>...</th>\n",
       "      <td>...</td>\n",
       "      <td>...</td>\n",
       "      <td>...</td>\n",
       "      <td>...</td>\n",
       "      <td>...</td>\n",
       "      <td>...</td>\n",
       "      <td>...</td>\n",
       "      <td>...</td>\n",
       "      <td>...</td>\n",
       "      <td>...</td>\n",
       "    </tr>\n",
       "    <tr>\n",
       "      <th>307</th>\n",
       "      <td>152</td>\n",
       "      <td>Yemen</td>\n",
       "      <td>2018</td>\n",
       "      <td>3.355</td>\n",
       "      <td>0.442</td>\n",
       "      <td>1.073</td>\n",
       "      <td>0.343</td>\n",
       "      <td>0.244</td>\n",
       "      <td>0.083</td>\n",
       "      <td>0.064</td>\n",
       "    </tr>\n",
       "    <tr>\n",
       "      <th>308</th>\n",
       "      <td>138</td>\n",
       "      <td>Zambia</td>\n",
       "      <td>2019</td>\n",
       "      <td>4.107</td>\n",
       "      <td>0.578</td>\n",
       "      <td>1.058</td>\n",
       "      <td>0.426</td>\n",
       "      <td>0.431</td>\n",
       "      <td>0.247</td>\n",
       "      <td>0.087</td>\n",
       "    </tr>\n",
       "    <tr>\n",
       "      <th>309</th>\n",
       "      <td>125</td>\n",
       "      <td>Zambia</td>\n",
       "      <td>2018</td>\n",
       "      <td>4.377</td>\n",
       "      <td>0.562</td>\n",
       "      <td>1.047</td>\n",
       "      <td>0.295</td>\n",
       "      <td>0.503</td>\n",
       "      <td>0.221</td>\n",
       "      <td>0.082</td>\n",
       "    </tr>\n",
       "    <tr>\n",
       "      <th>310</th>\n",
       "      <td>146</td>\n",
       "      <td>Zimbabwe</td>\n",
       "      <td>2019</td>\n",
       "      <td>3.663</td>\n",
       "      <td>0.366</td>\n",
       "      <td>1.114</td>\n",
       "      <td>0.433</td>\n",
       "      <td>0.361</td>\n",
       "      <td>0.151</td>\n",
       "      <td>0.089</td>\n",
       "    </tr>\n",
       "    <tr>\n",
       "      <th>311</th>\n",
       "      <td>144</td>\n",
       "      <td>Zimbabwe</td>\n",
       "      <td>2018</td>\n",
       "      <td>3.692</td>\n",
       "      <td>0.357</td>\n",
       "      <td>1.094</td>\n",
       "      <td>0.248</td>\n",
       "      <td>0.406</td>\n",
       "      <td>0.132</td>\n",
       "      <td>0.099</td>\n",
       "    </tr>\n",
       "  </tbody>\n",
       "</table>\n",
       "<p>312 rows × 10 columns</p>\n",
       "</div>"
      ],
      "text/plain": [
       "     Overall rank Country or region  Year  Score  GDP per capita  \\\n",
       "0             154       Afghanistan  2019  3.203           0.350   \n",
       "1             145       Afghanistan  2018  3.632           0.332   \n",
       "2             107           Albania  2019  4.719           0.947   \n",
       "3             112           Albania  2018  4.586           0.916   \n",
       "4              88           Algeria  2019  5.211           1.002   \n",
       "..            ...               ...   ...    ...             ...   \n",
       "307           152             Yemen  2018  3.355           0.442   \n",
       "308           138            Zambia  2019  4.107           0.578   \n",
       "309           125            Zambia  2018  4.377           0.562   \n",
       "310           146          Zimbabwe  2019  3.663           0.366   \n",
       "311           144          Zimbabwe  2018  3.692           0.357   \n",
       "\n",
       "     Social support  Healthy life expectancy  Freedom to make life choices  \\\n",
       "0             0.517                    0.361                         0.000   \n",
       "1             0.537                    0.255                         0.085   \n",
       "2             0.848                    0.874                         0.383   \n",
       "3             0.817                    0.790                         0.419   \n",
       "4             1.160                    0.785                         0.086   \n",
       "..              ...                      ...                           ...   \n",
       "307           1.073                    0.343                         0.244   \n",
       "308           1.058                    0.426                         0.431   \n",
       "309           1.047                    0.295                         0.503   \n",
       "310           1.114                    0.433                         0.361   \n",
       "311           1.094                    0.248                         0.406   \n",
       "\n",
       "     Generosity  Perceptions of corruption  \n",
       "0         0.158                      0.025  \n",
       "1         0.191                      0.036  \n",
       "2         0.178                      0.027  \n",
       "3         0.149                      0.032  \n",
       "4         0.073                      0.114  \n",
       "..          ...                        ...  \n",
       "307       0.083                      0.064  \n",
       "308       0.247                      0.087  \n",
       "309       0.221                      0.082  \n",
       "310       0.151                      0.089  \n",
       "311       0.132                      0.099  \n",
       "\n",
       "[312 rows x 10 columns]"
      ]
     },
     "execution_count": 37,
     "metadata": {},
     "output_type": "execute_result"
    }
   ],
   "source": [
    "Outlier(\"Generosity\")"
   ]
  },
  {
   "cell_type": "code",
   "execution_count": 38,
   "id": "d00ffa1f",
   "metadata": {
    "scrolled": true
   },
   "outputs": [
    {
     "name": "stdout",
     "output_type": "stream",
     "text": [
      "lower tail:-0.08687499999999997\n",
      "upper tail:0.27812499999999996\n"
     ]
    },
    {
     "data": {
      "text/html": [
       "<div>\n",
       "<style scoped>\n",
       "    .dataframe tbody tr th:only-of-type {\n",
       "        vertical-align: middle;\n",
       "    }\n",
       "\n",
       "    .dataframe tbody tr th {\n",
       "        vertical-align: top;\n",
       "    }\n",
       "\n",
       "    .dataframe thead th {\n",
       "        text-align: right;\n",
       "    }\n",
       "</style>\n",
       "<table border=\"1\" class=\"dataframe\">\n",
       "  <thead>\n",
       "    <tr style=\"text-align: right;\">\n",
       "      <th></th>\n",
       "      <th>Overall rank</th>\n",
       "      <th>Country or region</th>\n",
       "      <th>Year</th>\n",
       "      <th>Score</th>\n",
       "      <th>GDP per capita</th>\n",
       "      <th>Social support</th>\n",
       "      <th>Healthy life expectancy</th>\n",
       "      <th>Freedom to make life choices</th>\n",
       "      <th>Generosity</th>\n",
       "      <th>Perceptions of corruption</th>\n",
       "    </tr>\n",
       "  </thead>\n",
       "  <tbody>\n",
       "    <tr>\n",
       "      <th>0</th>\n",
       "      <td>154</td>\n",
       "      <td>Afghanistan</td>\n",
       "      <td>2019</td>\n",
       "      <td>3.203</td>\n",
       "      <td>0.350</td>\n",
       "      <td>0.517</td>\n",
       "      <td>0.361</td>\n",
       "      <td>0.000</td>\n",
       "      <td>0.158</td>\n",
       "      <td>0.025</td>\n",
       "    </tr>\n",
       "    <tr>\n",
       "      <th>1</th>\n",
       "      <td>145</td>\n",
       "      <td>Afghanistan</td>\n",
       "      <td>2018</td>\n",
       "      <td>3.632</td>\n",
       "      <td>0.332</td>\n",
       "      <td>0.537</td>\n",
       "      <td>0.255</td>\n",
       "      <td>0.085</td>\n",
       "      <td>0.191</td>\n",
       "      <td>0.036</td>\n",
       "    </tr>\n",
       "    <tr>\n",
       "      <th>2</th>\n",
       "      <td>107</td>\n",
       "      <td>Albania</td>\n",
       "      <td>2019</td>\n",
       "      <td>4.719</td>\n",
       "      <td>0.947</td>\n",
       "      <td>0.848</td>\n",
       "      <td>0.874</td>\n",
       "      <td>0.383</td>\n",
       "      <td>0.178</td>\n",
       "      <td>0.027</td>\n",
       "    </tr>\n",
       "    <tr>\n",
       "      <th>3</th>\n",
       "      <td>112</td>\n",
       "      <td>Albania</td>\n",
       "      <td>2018</td>\n",
       "      <td>4.586</td>\n",
       "      <td>0.916</td>\n",
       "      <td>0.817</td>\n",
       "      <td>0.790</td>\n",
       "      <td>0.419</td>\n",
       "      <td>0.149</td>\n",
       "      <td>0.032</td>\n",
       "    </tr>\n",
       "    <tr>\n",
       "      <th>4</th>\n",
       "      <td>88</td>\n",
       "      <td>Algeria</td>\n",
       "      <td>2019</td>\n",
       "      <td>5.211</td>\n",
       "      <td>1.002</td>\n",
       "      <td>1.160</td>\n",
       "      <td>0.785</td>\n",
       "      <td>0.086</td>\n",
       "      <td>0.073</td>\n",
       "      <td>0.114</td>\n",
       "    </tr>\n",
       "    <tr>\n",
       "      <th>...</th>\n",
       "      <td>...</td>\n",
       "      <td>...</td>\n",
       "      <td>...</td>\n",
       "      <td>...</td>\n",
       "      <td>...</td>\n",
       "      <td>...</td>\n",
       "      <td>...</td>\n",
       "      <td>...</td>\n",
       "      <td>...</td>\n",
       "      <td>...</td>\n",
       "    </tr>\n",
       "    <tr>\n",
       "      <th>307</th>\n",
       "      <td>152</td>\n",
       "      <td>Yemen</td>\n",
       "      <td>2018</td>\n",
       "      <td>3.355</td>\n",
       "      <td>0.442</td>\n",
       "      <td>1.073</td>\n",
       "      <td>0.343</td>\n",
       "      <td>0.244</td>\n",
       "      <td>0.083</td>\n",
       "      <td>0.064</td>\n",
       "    </tr>\n",
       "    <tr>\n",
       "      <th>308</th>\n",
       "      <td>138</td>\n",
       "      <td>Zambia</td>\n",
       "      <td>2019</td>\n",
       "      <td>4.107</td>\n",
       "      <td>0.578</td>\n",
       "      <td>1.058</td>\n",
       "      <td>0.426</td>\n",
       "      <td>0.431</td>\n",
       "      <td>0.247</td>\n",
       "      <td>0.087</td>\n",
       "    </tr>\n",
       "    <tr>\n",
       "      <th>309</th>\n",
       "      <td>125</td>\n",
       "      <td>Zambia</td>\n",
       "      <td>2018</td>\n",
       "      <td>4.377</td>\n",
       "      <td>0.562</td>\n",
       "      <td>1.047</td>\n",
       "      <td>0.295</td>\n",
       "      <td>0.503</td>\n",
       "      <td>0.221</td>\n",
       "      <td>0.082</td>\n",
       "    </tr>\n",
       "    <tr>\n",
       "      <th>310</th>\n",
       "      <td>146</td>\n",
       "      <td>Zimbabwe</td>\n",
       "      <td>2019</td>\n",
       "      <td>3.663</td>\n",
       "      <td>0.366</td>\n",
       "      <td>1.114</td>\n",
       "      <td>0.433</td>\n",
       "      <td>0.361</td>\n",
       "      <td>0.151</td>\n",
       "      <td>0.089</td>\n",
       "    </tr>\n",
       "    <tr>\n",
       "      <th>311</th>\n",
       "      <td>144</td>\n",
       "      <td>Zimbabwe</td>\n",
       "      <td>2018</td>\n",
       "      <td>3.692</td>\n",
       "      <td>0.357</td>\n",
       "      <td>1.094</td>\n",
       "      <td>0.248</td>\n",
       "      <td>0.406</td>\n",
       "      <td>0.132</td>\n",
       "      <td>0.099</td>\n",
       "    </tr>\n",
       "  </tbody>\n",
       "</table>\n",
       "<p>312 rows × 10 columns</p>\n",
       "</div>"
      ],
      "text/plain": [
       "     Overall rank Country or region  Year  Score  GDP per capita  \\\n",
       "0             154       Afghanistan  2019  3.203           0.350   \n",
       "1             145       Afghanistan  2018  3.632           0.332   \n",
       "2             107           Albania  2019  4.719           0.947   \n",
       "3             112           Albania  2018  4.586           0.916   \n",
       "4              88           Algeria  2019  5.211           1.002   \n",
       "..            ...               ...   ...    ...             ...   \n",
       "307           152             Yemen  2018  3.355           0.442   \n",
       "308           138            Zambia  2019  4.107           0.578   \n",
       "309           125            Zambia  2018  4.377           0.562   \n",
       "310           146          Zimbabwe  2019  3.663           0.366   \n",
       "311           144          Zimbabwe  2018  3.692           0.357   \n",
       "\n",
       "     Social support  Healthy life expectancy  Freedom to make life choices  \\\n",
       "0             0.517                    0.361                         0.000   \n",
       "1             0.537                    0.255                         0.085   \n",
       "2             0.848                    0.874                         0.383   \n",
       "3             0.817                    0.790                         0.419   \n",
       "4             1.160                    0.785                         0.086   \n",
       "..              ...                      ...                           ...   \n",
       "307           1.073                    0.343                         0.244   \n",
       "308           1.058                    0.426                         0.431   \n",
       "309           1.047                    0.295                         0.503   \n",
       "310           1.114                    0.433                         0.361   \n",
       "311           1.094                    0.248                         0.406   \n",
       "\n",
       "     Generosity  Perceptions of corruption  \n",
       "0         0.158                      0.025  \n",
       "1         0.191                      0.036  \n",
       "2         0.178                      0.027  \n",
       "3         0.149                      0.032  \n",
       "4         0.073                      0.114  \n",
       "..          ...                        ...  \n",
       "307       0.083                      0.064  \n",
       "308       0.247                      0.087  \n",
       "309       0.221                      0.082  \n",
       "310       0.151                      0.089  \n",
       "311       0.132                      0.099  \n",
       "\n",
       "[312 rows x 10 columns]"
      ]
     },
     "execution_count": 38,
     "metadata": {},
     "output_type": "execute_result"
    }
   ],
   "source": [
    "Outlier(\"Perceptions of corruption\")"
   ]
  },
  {
   "cell_type": "code",
   "execution_count": 39,
   "id": "599eb35f",
   "metadata": {},
   "outputs": [
    {
     "data": {
      "image/png": "[encoded data removed]",
      "text/plain": [
       "<Figure size 2000x2000 with 6 Axes>"
      ]
     },
     "metadata": {},
     "output_type": "display_data"
    },
    {
     "data": {
      "text/plain": [
       "<Figure size 640x480 with 0 Axes>"
      ]
     },
     "metadata": {},
     "output_type": "display_data"
    }
   ],
   "source": [
    "## Checking Outliers By Calculation [AFTER]\n",
    "\n",
    "plt.figure(figsize=(20, 20))\n",
    "plt.suptitle(\"Outliers Detection\")\n",
    "pltn = 1\n",
    "columns_to_exclude = ['Overall rank', 'Country or region', 'Year', 'Score']\n",
    "\n",
    "for i in HI.columns:\n",
    "    if i not in columns_to_exclude and pltn <= 9:\n",
    "        plt.subplot(5, 2, pltn)\n",
    "        sns.boxplot(HI[i], orient=\"h\")\n",
    "        plt.xlabel(i, fontsize=15)\n",
    "        pltn += 1\n",
    "\n",
    "plt.show()\n",
    "plt.tight_layout()"
   ]
  },
  {
   "cell_type": "markdown",
   "id": "4bc6121a",
   "metadata": {},
   "source": [
    "# 5. Feature Selection"
   ]
  },
  {
   "cell_type": "raw",
   "id": "edd6e066",
   "metadata": {},
   "source": [
    "feature selection : by filter method : correlation\n",
    "        \n",
    " Pearson's coeff of correlation : R\n",
    "        \n",
    " R = sum[(x-xmean)*(y-ymean)] / np.sqrt((x-xmean)^2) * np.sqrt((y-ymean)^2)\n",
    "        \n",
    " Range : -1 to +1"
   ]
  },
  {
   "cell_type": "markdown",
   "id": "2f72cfab",
   "metadata": {},
   "source": [
    "## Assumption 1 : Linearity"
   ]
  },
  {
   "cell_type": "raw",
   "id": "183004ab",
   "metadata": {},
   "source": [
    "there should be linear relationship between independat and dependant features\n",
    "\n",
    "check : by correaltion"
   ]
  },
  {
   "cell_type": "code",
   "execution_count": 40,
   "id": "c4f73ddf",
   "metadata": {},
   "outputs": [
    {
     "data": {
      "text/html": [
       "<div>\n",
       "<style scoped>\n",
       "    .dataframe tbody tr th:only-of-type {\n",
       "        vertical-align: middle;\n",
       "    }\n",
       "\n",
       "    .dataframe tbody tr th {\n",
       "        vertical-align: top;\n",
       "    }\n",
       "\n",
       "    .dataframe thead th {\n",
       "        text-align: right;\n",
       "    }\n",
       "</style>\n",
       "<table border=\"1\" class=\"dataframe\">\n",
       "  <thead>\n",
       "    <tr style=\"text-align: right;\">\n",
       "      <th></th>\n",
       "      <th>Score</th>\n",
       "      <th>GDP per capita</th>\n",
       "      <th>Social support</th>\n",
       "      <th>Healthy life expectancy</th>\n",
       "      <th>Freedom to make life choices</th>\n",
       "      <th>Generosity</th>\n",
       "      <th>Perceptions of corruption</th>\n",
       "    </tr>\n",
       "  </thead>\n",
       "  <tbody>\n",
       "    <tr>\n",
       "      <th>0</th>\n",
       "      <td>3.203</td>\n",
       "      <td>0.350</td>\n",
       "      <td>0.517</td>\n",
       "      <td>0.361</td>\n",
       "      <td>0.000</td>\n",
       "      <td>0.158</td>\n",
       "      <td>0.025</td>\n",
       "    </tr>\n",
       "    <tr>\n",
       "      <th>1</th>\n",
       "      <td>3.632</td>\n",
       "      <td>0.332</td>\n",
       "      <td>0.537</td>\n",
       "      <td>0.255</td>\n",
       "      <td>0.085</td>\n",
       "      <td>0.191</td>\n",
       "      <td>0.036</td>\n",
       "    </tr>\n",
       "    <tr>\n",
       "      <th>2</th>\n",
       "      <td>4.719</td>\n",
       "      <td>0.947</td>\n",
       "      <td>0.848</td>\n",
       "      <td>0.874</td>\n",
       "      <td>0.383</td>\n",
       "      <td>0.178</td>\n",
       "      <td>0.027</td>\n",
       "    </tr>\n",
       "    <tr>\n",
       "      <th>3</th>\n",
       "      <td>4.586</td>\n",
       "      <td>0.916</td>\n",
       "      <td>0.817</td>\n",
       "      <td>0.790</td>\n",
       "      <td>0.419</td>\n",
       "      <td>0.149</td>\n",
       "      <td>0.032</td>\n",
       "    </tr>\n",
       "    <tr>\n",
       "      <th>4</th>\n",
       "      <td>5.211</td>\n",
       "      <td>1.002</td>\n",
       "      <td>1.160</td>\n",
       "      <td>0.785</td>\n",
       "      <td>0.086</td>\n",
       "      <td>0.073</td>\n",
       "      <td>0.114</td>\n",
       "    </tr>\n",
       "  </tbody>\n",
       "</table>\n",
       "</div>"
      ],
      "text/plain": [
       "   Score  GDP per capita  Social support  Healthy life expectancy  \\\n",
       "0  3.203           0.350           0.517                    0.361   \n",
       "1  3.632           0.332           0.537                    0.255   \n",
       "2  4.719           0.947           0.848                    0.874   \n",
       "3  4.586           0.916           0.817                    0.790   \n",
       "4  5.211           1.002           1.160                    0.785   \n",
       "\n",
       "   Freedom to make life choices  Generosity  Perceptions of corruption  \n",
       "0                         0.000       0.158                      0.025  \n",
       "1                         0.085       0.191                      0.036  \n",
       "2                         0.383       0.178                      0.027  \n",
       "3                         0.419       0.149                      0.032  \n",
       "4                         0.086       0.073                      0.114  "
      ]
     },
     "execution_count": 40,
     "metadata": {},
     "output_type": "execute_result"
    }
   ],
   "source": [
    "HI=HI.drop([\"Year\",\"Overall rank\", \"Country or region\"],axis=1)\n",
    "HI.head()"
   ]
  },
  {
   "cell_type": "code",
   "execution_count": 41,
   "id": "0fc1c7a1",
   "metadata": {},
   "outputs": [
    {
     "data": {
      "text/html": [
       "<div>\n",
       "<style scoped>\n",
       "    .dataframe tbody tr th:only-of-type {\n",
       "        vertical-align: middle;\n",
       "    }\n",
       "\n",
       "    .dataframe tbody tr th {\n",
       "        vertical-align: top;\n",
       "    }\n",
       "\n",
       "    .dataframe thead th {\n",
       "        text-align: right;\n",
       "    }\n",
       "</style>\n",
       "<table border=\"1\" class=\"dataframe\">\n",
       "  <thead>\n",
       "    <tr style=\"text-align: right;\">\n",
       "      <th></th>\n",
       "      <th>Score</th>\n",
       "      <th>GDP per capita</th>\n",
       "      <th>Social support</th>\n",
       "      <th>Healthy life expectancy</th>\n",
       "      <th>Freedom to make life choices</th>\n",
       "      <th>Generosity</th>\n",
       "      <th>Perceptions of corruption</th>\n",
       "    </tr>\n",
       "  </thead>\n",
       "  <tbody>\n",
       "    <tr>\n",
       "      <th>Score</th>\n",
       "      <td>1.000000</td>\n",
       "      <td>0.797977</td>\n",
       "      <td>0.767625</td>\n",
       "      <td>0.755875</td>\n",
       "      <td>0.539897</td>\n",
       "      <td>0.120387</td>\n",
       "      <td>0.389414</td>\n",
       "    </tr>\n",
       "    <tr>\n",
       "      <th>GDP per capita</th>\n",
       "      <td>0.797977</td>\n",
       "      <td>1.000000</td>\n",
       "      <td>0.717859</td>\n",
       "      <td>0.816590</td>\n",
       "      <td>0.342953</td>\n",
       "      <td>-0.042026</td>\n",
       "      <td>0.301938</td>\n",
       "    </tr>\n",
       "    <tr>\n",
       "      <th>Social support</th>\n",
       "      <td>0.767625</td>\n",
       "      <td>0.717859</td>\n",
       "      <td>1.000000</td>\n",
       "      <td>0.668825</td>\n",
       "      <td>0.423337</td>\n",
       "      <td>-0.006804</td>\n",
       "      <td>0.175966</td>\n",
       "    </tr>\n",
       "    <tr>\n",
       "      <th>Healthy life expectancy</th>\n",
       "      <td>0.755875</td>\n",
       "      <td>0.816590</td>\n",
       "      <td>0.668825</td>\n",
       "      <td>1.000000</td>\n",
       "      <td>0.301488</td>\n",
       "      <td>0.008631</td>\n",
       "      <td>0.276501</td>\n",
       "    </tr>\n",
       "    <tr>\n",
       "      <th>Freedom to make life choices</th>\n",
       "      <td>0.539897</td>\n",
       "      <td>0.342953</td>\n",
       "      <td>0.423337</td>\n",
       "      <td>0.301488</td>\n",
       "      <td>1.000000</td>\n",
       "      <td>0.276912</td>\n",
       "      <td>0.433870</td>\n",
       "    </tr>\n",
       "    <tr>\n",
       "      <th>Generosity</th>\n",
       "      <td>0.120387</td>\n",
       "      <td>-0.042026</td>\n",
       "      <td>-0.006804</td>\n",
       "      <td>0.008631</td>\n",
       "      <td>0.276912</td>\n",
       "      <td>1.000000</td>\n",
       "      <td>0.363575</td>\n",
       "    </tr>\n",
       "    <tr>\n",
       "      <th>Perceptions of corruption</th>\n",
       "      <td>0.389414</td>\n",
       "      <td>0.301938</td>\n",
       "      <td>0.175966</td>\n",
       "      <td>0.276501</td>\n",
       "      <td>0.433870</td>\n",
       "      <td>0.363575</td>\n",
       "      <td>1.000000</td>\n",
       "    </tr>\n",
       "  </tbody>\n",
       "</table>\n",
       "</div>"
      ],
      "text/plain": [
       "                                 Score  GDP per capita  Social support  \\\n",
       "Score                         1.000000        0.797977        0.767625   \n",
       "GDP per capita                0.797977        1.000000        0.717859   \n",
       "Social support                0.767625        0.717859        1.000000   \n",
       "Healthy life expectancy       0.755875        0.816590        0.668825   \n",
       "Freedom to make life choices  0.539897        0.342953        0.423337   \n",
       "Generosity                    0.120387       -0.042026       -0.006804   \n",
       "Perceptions of corruption     0.389414        0.301938        0.175966   \n",
       "\n",
       "                              Healthy life expectancy  \\\n",
       "Score                                        0.755875   \n",
       "GDP per capita                               0.816590   \n",
       "Social support                               0.668825   \n",
       "Healthy life expectancy                      1.000000   \n",
       "Freedom to make life choices                 0.301488   \n",
       "Generosity                                   0.008631   \n",
       "Perceptions of corruption                    0.276501   \n",
       "\n",
       "                              Freedom to make life choices  Generosity  \\\n",
       "Score                                             0.539897    0.120387   \n",
       "GDP per capita                                    0.342953   -0.042026   \n",
       "Social support                                    0.423337   -0.006804   \n",
       "Healthy life expectancy                           0.301488    0.008631   \n",
       "Freedom to make life choices                      1.000000    0.276912   \n",
       "Generosity                                        0.276912    1.000000   \n",
       "Perceptions of corruption                         0.433870    0.363575   \n",
       "\n",
       "                              Perceptions of corruption  \n",
       "Score                                          0.389414  \n",
       "GDP per capita                                 0.301938  \n",
       "Social support                                 0.175966  \n",
       "Healthy life expectancy                        0.276501  \n",
       "Freedom to make life choices                   0.433870  \n",
       "Generosity                                     0.363575  \n",
       "Perceptions of corruption                      1.000000  "
      ]
     },
     "execution_count": 41,
     "metadata": {},
     "output_type": "execute_result"
    }
   ],
   "source": [
    "HI.corr()"
   ]
  },
  {
   "cell_type": "code",
   "execution_count": 42,
   "id": "a20a036b",
   "metadata": {},
   "outputs": [
    {
     "data": {
      "text/plain": [
       "<Axes: >"
      ]
     },
     "execution_count": 42,
     "metadata": {},
     "output_type": "execute_result"
    },
    {
     "data": {
      "image/png": "[encoded data removed]",
      "text/plain": [
       "<Figure size 640x480 with 2 Axes>"
      ]
     },
     "metadata": {},
     "output_type": "display_data"
    }
   ],
   "source": [
    "sns.heatmap(HI.corr())"
   ]
  },
  {
   "cell_type": "code",
   "execution_count": 43,
   "id": "40384d53",
   "metadata": {},
   "outputs": [
    {
     "data": {
      "text/plain": [
       "<Axes: >"
      ]
     },
     "execution_count": 43,
     "metadata": {},
     "output_type": "execute_result"
    },
    {
     "data": {
      "image/png": "[encoded data removed]",
      "text/plain": [
       "<Figure size 640x480 with 2 Axes>"
      ]
     },
     "metadata": {},
     "output_type": "display_data"
    }
   ],
   "source": [
    "sns.heatmap(HI.corr(),annot=True)"
   ]
  },
  {
   "cell_type": "markdown",
   "id": "907e9351",
   "metadata": {},
   "source": [
    "## Assumption 2 : No Multicolinearity"
   ]
  },
  {
   "cell_type": "raw",
   "id": "9deb3058",
   "metadata": {},
   "source": [
    "There should not be correlation between 2 independant variables \n",
    "\n",
    "to check : variance inflation factor"
   ]
  },
  {
   "cell_type": "code",
   "execution_count": 44,
   "id": "c46ba7f6",
   "metadata": {},
   "outputs": [
    {
     "data": {
      "text/html": [
       "<div>\n",
       "<style scoped>\n",
       "    .dataframe tbody tr th:only-of-type {\n",
       "        vertical-align: middle;\n",
       "    }\n",
       "\n",
       "    .dataframe tbody tr th {\n",
       "        vertical-align: top;\n",
       "    }\n",
       "\n",
       "    .dataframe thead th {\n",
       "        text-align: right;\n",
       "    }\n",
       "</style>\n",
       "<table border=\"1\" class=\"dataframe\">\n",
       "  <thead>\n",
       "    <tr style=\"text-align: right;\">\n",
       "      <th></th>\n",
       "      <th>Features</th>\n",
       "    </tr>\n",
       "  </thead>\n",
       "  <tbody>\n",
       "    <tr>\n",
       "      <th>0</th>\n",
       "      <td>GDP per capita</td>\n",
       "    </tr>\n",
       "    <tr>\n",
       "      <th>1</th>\n",
       "      <td>Social support</td>\n",
       "    </tr>\n",
       "    <tr>\n",
       "      <th>2</th>\n",
       "      <td>Healthy life expectancy</td>\n",
       "    </tr>\n",
       "    <tr>\n",
       "      <th>3</th>\n",
       "      <td>Freedom to make life choices</td>\n",
       "    </tr>\n",
       "    <tr>\n",
       "      <th>4</th>\n",
       "      <td>Generosity</td>\n",
       "    </tr>\n",
       "    <tr>\n",
       "      <th>5</th>\n",
       "      <td>Perceptions of corruption</td>\n",
       "    </tr>\n",
       "  </tbody>\n",
       "</table>\n",
       "</div>"
      ],
      "text/plain": [
       "                       Features\n",
       "0                GDP per capita\n",
       "1                Social support\n",
       "2       Healthy life expectancy\n",
       "3  Freedom to make life choices\n",
       "4                    Generosity\n",
       "5     Perceptions of corruption"
      ]
     },
     "execution_count": 44,
     "metadata": {},
     "output_type": "execute_result"
    }
   ],
   "source": [
    "vif_HI=pd.DataFrame()\n",
    "HI1=HI.iloc[:,1:]\n",
    "vif_HI[\"Features\"]=HI1.columns\n",
    "vif_HI\n"
   ]
  },
  {
   "cell_type": "code",
   "execution_count": 45,
   "id": "ed86e0bf",
   "metadata": {},
   "outputs": [],
   "source": [
    "vif_list=[]\n",
    "for i in range(HI1.shape[1]):\n",
    "    vif=variance_inflation_factor(HI1.to_numpy(),i)\n",
    "    vif_list.append(vif)"
   ]
  },
  {
   "cell_type": "code",
   "execution_count": 46,
   "id": "80397a2c",
   "metadata": {},
   "outputs": [
    {
     "data": {
      "text/plain": [
       "[22.247759245804016,\n",
       " 26.884487490923505,\n",
       " 24.70133792492707,\n",
       " 12.559775224610856,\n",
       " 5.38371289677319,\n",
       " 4.147224841764305]"
      ]
     },
     "execution_count": 46,
     "metadata": {},
     "output_type": "execute_result"
    }
   ],
   "source": [
    "vif_list"
   ]
  },
  {
   "cell_type": "code",
   "execution_count": 47,
   "id": "1ae62f5c",
   "metadata": {},
   "outputs": [],
   "source": [
    "vif_HI[\"VIF\"]=vif_list"
   ]
  },
  {
   "cell_type": "code",
   "execution_count": 48,
   "id": "060dc713",
   "metadata": {},
   "outputs": [
    {
     "data": {
      "text/html": [
       "<div>\n",
       "<style scoped>\n",
       "    .dataframe tbody tr th:only-of-type {\n",
       "        vertical-align: middle;\n",
       "    }\n",
       "\n",
       "    .dataframe tbody tr th {\n",
       "        vertical-align: top;\n",
       "    }\n",
       "\n",
       "    .dataframe thead th {\n",
       "        text-align: right;\n",
       "    }\n",
       "</style>\n",
       "<table border=\"1\" class=\"dataframe\">\n",
       "  <thead>\n",
       "    <tr style=\"text-align: right;\">\n",
       "      <th></th>\n",
       "      <th>Features</th>\n",
       "      <th>VIF</th>\n",
       "    </tr>\n",
       "  </thead>\n",
       "  <tbody>\n",
       "    <tr>\n",
       "      <th>0</th>\n",
       "      <td>GDP per capita</td>\n",
       "      <td>22.247759</td>\n",
       "    </tr>\n",
       "    <tr>\n",
       "      <th>1</th>\n",
       "      <td>Social support</td>\n",
       "      <td>26.884487</td>\n",
       "    </tr>\n",
       "    <tr>\n",
       "      <th>2</th>\n",
       "      <td>Healthy life expectancy</td>\n",
       "      <td>24.701338</td>\n",
       "    </tr>\n",
       "    <tr>\n",
       "      <th>3</th>\n",
       "      <td>Freedom to make life choices</td>\n",
       "      <td>12.559775</td>\n",
       "    </tr>\n",
       "    <tr>\n",
       "      <th>4</th>\n",
       "      <td>Generosity</td>\n",
       "      <td>5.383713</td>\n",
       "    </tr>\n",
       "    <tr>\n",
       "      <th>5</th>\n",
       "      <td>Perceptions of corruption</td>\n",
       "      <td>4.147225</td>\n",
       "    </tr>\n",
       "  </tbody>\n",
       "</table>\n",
       "</div>"
      ],
      "text/plain": [
       "                       Features        VIF\n",
       "0                GDP per capita  22.247759\n",
       "1                Social support  26.884487\n",
       "2       Healthy life expectancy  24.701338\n",
       "3  Freedom to make life choices  12.559775\n",
       "4                    Generosity   5.383713\n",
       "5     Perceptions of corruption   4.147225"
      ]
     },
     "execution_count": 48,
     "metadata": {},
     "output_type": "execute_result"
    }
   ],
   "source": [
    "vif_HI"
   ]
  },
  {
   "cell_type": "markdown",
   "id": "66a6c749",
   "metadata": {},
   "source": [
    "# Training Test Split"
   ]
  },
  {
   "cell_type": "code",
   "execution_count": 49,
   "id": "499f30b2",
   "metadata": {},
   "outputs": [],
   "source": [
    "x=HI1 #independent Features\n",
    "y=HI[\"Score\"] #target column"
   ]
  },
  {
   "cell_type": "code",
   "execution_count": 50,
   "id": "f2edceb6",
   "metadata": {},
   "outputs": [],
   "source": [
    "xtrain,xtest,ytrain,ytest=train_test_split(x,y,test_size=0.2)"
   ]
  },
  {
   "cell_type": "code",
   "execution_count": 51,
   "id": "5e7f900f",
   "metadata": {},
   "outputs": [
    {
     "data": {
      "text/plain": [
       "(249, 6)"
      ]
     },
     "execution_count": 51,
     "metadata": {},
     "output_type": "execute_result"
    }
   ],
   "source": [
    "xtrain.shape"
   ]
  },
  {
   "cell_type": "code",
   "execution_count": 52,
   "id": "416019e7",
   "metadata": {},
   "outputs": [
    {
     "data": {
      "text/plain": [
       "(249,)"
      ]
     },
     "execution_count": 52,
     "metadata": {},
     "output_type": "execute_result"
    }
   ],
   "source": [
    "ytrain.shape"
   ]
  },
  {
   "cell_type": "code",
   "execution_count": 53,
   "id": "dc49662d",
   "metadata": {},
   "outputs": [
    {
     "data": {
      "text/plain": [
       "(63, 6)"
      ]
     },
     "execution_count": 53,
     "metadata": {},
     "output_type": "execute_result"
    }
   ],
   "source": [
    "xtest.shape"
   ]
  },
  {
   "cell_type": "code",
   "execution_count": 54,
   "id": "cfc7f726",
   "metadata": {},
   "outputs": [
    {
     "data": {
      "text/plain": [
       "(63,)"
      ]
     },
     "execution_count": 54,
     "metadata": {},
     "output_type": "execute_result"
    }
   ],
   "source": [
    "ytest.shape"
   ]
  },
  {
   "cell_type": "markdown",
   "id": "0534d3b6",
   "metadata": {},
   "source": [
    "# Model Training"
   ]
  },
  {
   "cell_type": "markdown",
   "id": "6f05ec8b",
   "metadata": {},
   "source": [
    "# liner regression"
   ]
  },
  {
   "cell_type": "code",
   "execution_count": 55,
   "id": "51bb0783",
   "metadata": {},
   "outputs": [],
   "source": [
    "lin_reg = LinearRegression()\n",
    "\n",
    "lin_reg_model = lin_reg.fit(xtrain,ytrain) #implements BFL, Gradient Descent, Optimal Cost function"
   ]
  },
  {
   "cell_type": "code",
   "execution_count": 56,
   "id": "14cf51cf",
   "metadata": {},
   "outputs": [
    {
     "data": {
      "text/html": [
       "<style>#sk-container-id-1 {color: black;}#sk-container-id-1 pre{padding: 0;}#sk-container-id-1 div.sk-toggleable {background-color: white;}#sk-container-id-1 label.sk-toggleable__label {cursor: pointer;display: block;width: 100%;margin-bottom: 0;padding: 0.3em;box-sizing: border-box;text-align: center;}#sk-container-id-1 label.sk-toggleable__label-arrow:before {content: \"▸\";float: left;margin-right: 0.25em;color: #696969;}#sk-container-id-1 label.sk-toggleable__label-arrow:hover:before {color: black;}#sk-container-id-1 div.sk-estimator:hover label.sk-toggleable__label-arrow:before {color: black;}#sk-container-id-1 div.sk-toggleable__content {max-height: 0;max-width: 0;overflow: hidden;text-align: left;background-color: #f0f8ff;}#sk-container-id-1 div.sk-toggleable__content pre {margin: 0.2em;color: black;border-radius: 0.25em;background-color: #f0f8ff;}#sk-container-id-1 input.sk-toggleable__control:checked~div.sk-toggleable__content {max-height: 200px;max-width: 100%;overflow: auto;}#sk-container-id-1 input.sk-toggleable__control:checked~label.sk-toggleable__label-arrow:before {content: \"▾\";}#sk-container-id-1 div.sk-estimator input.sk-toggleable__control:checked~label.sk-toggleable__label {background-color: #d4ebff;}#sk-container-id-1 div.sk-label input.sk-toggleable__control:checked~label.sk-toggleable__label {background-color: #d4ebff;}#sk-container-id-1 input.sk-hidden--visually {border: 0;clip: rect(1px 1px 1px 1px);clip: rect(1px, 1px, 1px, 1px);height: 1px;margin: -1px;overflow: hidden;padding: 0;position: absolute;width: 1px;}#sk-container-id-1 div.sk-estimator {font-family: monospace;background-color: #f0f8ff;border: 1px dotted black;border-radius: 0.25em;box-sizing: border-box;margin-bottom: 0.5em;}#sk-container-id-1 div.sk-estimator:hover {background-color: #d4ebff;}#sk-container-id-1 div.sk-parallel-item::after {content: \"\";width: 100%;border-bottom: 1px solid gray;flex-grow: 1;}#sk-container-id-1 div.sk-label:hover label.sk-toggleable__label {background-color: #d4ebff;}#sk-container-id-1 div.sk-serial::before {content: \"\";position: absolute;border-left: 1px solid gray;box-sizing: border-box;top: 0;bottom: 0;left: 50%;z-index: 0;}#sk-container-id-1 div.sk-serial {display: flex;flex-direction: column;align-items: center;background-color: white;padding-right: 0.2em;padding-left: 0.2em;position: relative;}#sk-container-id-1 div.sk-item {position: relative;z-index: 1;}#sk-container-id-1 div.sk-parallel {display: flex;align-items: stretch;justify-content: center;background-color: white;position: relative;}#sk-container-id-1 div.sk-item::before, #sk-container-id-1 div.sk-parallel-item::before {content: \"\";position: absolute;border-left: 1px solid gray;box-sizing: border-box;top: 0;bottom: 0;left: 50%;z-index: -1;}#sk-container-id-1 div.sk-parallel-item {display: flex;flex-direction: column;z-index: 1;position: relative;background-color: white;}#sk-container-id-1 div.sk-parallel-item:first-child::after {align-self: flex-end;width: 50%;}#sk-container-id-1 div.sk-parallel-item:last-child::after {align-self: flex-start;width: 50%;}#sk-container-id-1 div.sk-parallel-item:only-child::after {width: 0;}#sk-container-id-1 div.sk-dashed-wrapped {border: 1px dashed gray;margin: 0 0.4em 0.5em 0.4em;box-sizing: border-box;padding-bottom: 0.4em;background-color: white;}#sk-container-id-1 div.sk-label label {font-family: monospace;font-weight: bold;display: inline-block;line-height: 1.2em;}#sk-container-id-1 div.sk-label-container {text-align: center;}#sk-container-id-1 div.sk-container {/* jupyter's `normalize.less` sets `[hidden] { display: none; }` but bootstrap.min.css set `[hidden] { display: none !important; }` so we also need the `!important` here to be able to override the default hidden behavior on the sphinx rendered scikit-learn.org. See: https://github.com/scikit-learn/scikit-learn/issues/21755 */display: inline-block !important;position: relative;}#sk-container-id-1 div.sk-text-repr-fallback {display: none;}</style><div id=\"sk-container-id-1\" class=\"sk-top-container\"><div class=\"sk-text-repr-fallback\"><pre>LinearRegression()</pre><b>In a Jupyter environment, please rerun this cell to show the HTML representation or trust the notebook. <br />On GitHub, the HTML representation is unable to render, please try loading this page with nbviewer.org.</b></div><div class=\"sk-container\" hidden><div class=\"sk-item\"><div class=\"sk-estimator sk-toggleable\"><input class=\"sk-toggleable__control sk-hidden--visually\" id=\"sk-estimator-id-1\" type=\"checkbox\" checked><label for=\"sk-estimator-id-1\" class=\"sk-toggleable__label sk-toggleable__label-arrow\">LinearRegression</label><div class=\"sk-toggleable__content\"><pre>LinearRegression()</pre></div></div></div></div></div>"
      ],
      "text/plain": [
       "LinearRegression()"
      ]
     },
     "execution_count": 56,
     "metadata": {},
     "output_type": "execute_result"
    }
   ],
   "source": [
    "lin_reg_model"
   ]
  },
  {
   "cell_type": "code",
   "execution_count": 57,
   "id": "ee035708",
   "metadata": {},
   "outputs": [],
   "source": [
    "ytrain_pred=lin_reg_model.predict(xtrain)"
   ]
  },
  {
   "cell_type": "code",
   "execution_count": 58,
   "id": "8523357b",
   "metadata": {},
   "outputs": [
    {
     "data": {
      "text/plain": [
       "23     6.923\n",
       "156    3.975\n",
       "162    7.090\n",
       "29     5.082\n",
       "258    6.354\n",
       "Name: Score, dtype: float64"
      ]
     },
     "execution_count": 58,
     "metadata": {},
     "output_type": "execute_result"
    }
   ],
   "source": [
    "ytrain.head()"
   ]
  },
  {
   "cell_type": "code",
   "execution_count": 59,
   "id": "62efd4b1",
   "metadata": {},
   "outputs": [
    {
     "data": {
      "text/plain": [
       "array([6.60571952, 3.91338037, 7.02040069, 5.67278809, 6.28011586,\n",
       "       5.38794748, 6.26471982, 4.1750897 , 5.67241932, 5.87732257,\n",
       "       6.78803427, 2.88626122, 5.64293111, 5.65502255, 5.99963076,\n",
       "       5.18986814, 6.91898404, 3.71400137, 7.0111795 , 4.65224207,\n",
       "       4.30983449, 4.53831789, 4.74074922, 5.64129453, 6.74169178,\n",
       "       5.33719425, 4.423771  , 6.48867709, 6.00014807, 5.56601036,\n",
       "       4.29425831, 7.15172249, 5.67393209, 4.85598882, 5.33562892,\n",
       "       6.91339637, 3.72719506, 4.79068566, 4.74621132, 4.70341264,\n",
       "       6.59734666, 5.78495999, 6.22445481, 6.13048788, 3.63919003,\n",
       "       5.4108792 , 5.52656223, 5.16989572, 5.25076299, 5.29161398,\n",
       "       5.87457421, 6.77883866, 4.20715037, 5.59732382, 6.61864084,\n",
       "       6.79292545, 6.01744383, 5.326757  , 7.04215698, 7.09385921,\n",
       "       4.52582026, 5.66920239, 6.41518073, 4.33438296, 3.73313834,\n",
       "       5.73444994, 5.63233371, 3.16709889, 5.76464401, 4.68944631,\n",
       "       4.39846   , 7.05550013, 5.24434912, 4.8207253 , 7.01581927,\n",
       "       6.05672165, 6.26088969, 4.38734114, 4.15463808, 6.97047943,\n",
       "       5.76804827, 6.31350984, 5.67902734, 6.34165359, 7.07151343,\n",
       "       3.79136281, 6.23470931, 5.86795698, 5.61690295, 7.06938801,\n",
       "       6.26135635, 7.04119193, 5.67601081, 5.02077058, 4.25634321,\n",
       "       3.75368208, 3.59094162, 4.08315613, 4.46970397, 6.36955476,\n",
       "       7.0042372 , 6.63183892, 5.89877428, 4.77146246, 3.89727738,\n",
       "       3.5060718 , 4.97277676, 5.78140699, 3.09235022, 5.63326348,\n",
       "       4.53490742, 5.60479374, 6.51862493, 4.38318847, 6.00923004,\n",
       "       5.72264519, 5.72163725, 5.03820581, 4.78876492, 6.71789647,\n",
       "       6.2988424 , 3.88751269, 5.94918487, 5.83922255, 4.49726028,\n",
       "       6.15002445, 4.73094148, 5.50992243, 6.78513408, 6.38268186,\n",
       "       3.92522631, 4.88787772, 5.52251095, 6.7682147 , 5.74798671,\n",
       "       4.00507553, 5.53486304, 4.83538295, 5.43662847, 5.23815272,\n",
       "       5.71238889, 7.05255345, 4.36901421, 5.38741086, 5.82548896,\n",
       "       6.17735562, 4.05205135, 4.23734952, 5.16518452, 3.9778313 ,\n",
       "       5.40845455, 6.01826919, 6.67777729, 5.43812332, 4.54186727,\n",
       "       5.08712114, 4.72998608, 5.97969223, 6.30390737, 5.9431622 ,\n",
       "       5.48488642, 5.69076972, 5.45414131, 5.30481095, 4.6989573 ,\n",
       "       3.18464737, 7.15380375, 4.24805693, 5.34045317, 6.17397901,\n",
       "       3.80829229, 6.12352175, 6.15776872, 5.73531776, 4.66870045,\n",
       "       6.98002118, 6.95376128, 5.7524418 , 5.80298012, 6.12121596,\n",
       "       4.59666099, 5.37342001, 4.93126533, 3.79429456, 6.42543339,\n",
       "       3.85899533, 5.64446369, 5.12628809, 4.65718883, 6.12550192,\n",
       "       7.02145541, 5.51493179, 6.02153662, 5.31256162, 4.36588805,\n",
       "       4.10998398, 4.33888177, 5.10628632, 5.14579452, 6.10424379,\n",
       "       5.35190408, 5.40253886, 4.20258799, 3.94177065, 5.55193916,\n",
       "       6.17049257, 6.61302467, 5.027412  , 6.92110398, 5.85339057,\n",
       "       4.53523728, 4.74892799, 6.21733427, 4.46780454, 4.11784034,\n",
       "       6.08449949, 5.83167884, 5.48941921, 5.20172495, 5.67588387,\n",
       "       6.05094319, 3.60224785, 5.02914508, 6.42962097, 4.67761264,\n",
       "       5.72291241, 5.63635354, 6.18627821, 6.75818325, 4.82236557,\n",
       "       6.46866884, 5.01071967, 3.60427589, 5.30136086, 4.65093454,\n",
       "       5.48833918, 5.45949719, 6.95305765, 7.18702599, 7.09073943,\n",
       "       5.63169113, 5.88330344, 4.57432242, 5.23441114, 4.91621118,\n",
       "       3.64150107, 6.16543084, 5.41623703, 3.8200939 ])"
      ]
     },
     "execution_count": 59,
     "metadata": {},
     "output_type": "execute_result"
    }
   ],
   "source": [
    "ytrain_pred"
   ]
  },
  {
   "cell_type": "code",
   "execution_count": 60,
   "id": "ce5281f5",
   "metadata": {},
   "outputs": [
    {
     "data": {
      "text/plain": [
       "23     0.317280\n",
       "156    0.061620\n",
       "162    0.069599\n",
       "29    -0.590788\n",
       "258    0.073884\n",
       "         ...   \n",
       "19    -0.460211\n",
       "243    0.929499\n",
       "66     0.906569\n",
       "15    -0.208237\n",
       "166   -0.046094\n",
       "Name: Score, Length: 249, dtype: float64"
      ]
     },
     "execution_count": 60,
     "metadata": {},
     "output_type": "execute_result"
    }
   ],
   "source": [
    "residual=ytrain-ytrain_pred #error\n",
    "residual"
   ]
  },
  {
   "cell_type": "markdown",
   "id": "4aeafad9",
   "metadata": {},
   "source": [
    "## Assumption 3: Normality of residual"
   ]
  },
  {
   "cell_type": "markdown",
   "id": "7ab44932",
   "metadata": {},
   "source": [
    "residual should be normally distributed\n",
    "\n",
    "to check :\n",
    "Visualization:\n",
    "    kdeplot/histogram\n",
    "    qqplot \n",
    "    \n",
    "Hypothesis testing\n",
    "    shapiro\n",
    "    normaltest\n",
    "    kstest\n"
   ]
  },
  {
   "cell_type": "markdown",
   "id": "57708ef8",
   "metadata": {},
   "source": [
    "### kdeplot"
   ]
  },
  {
   "cell_type": "code",
   "execution_count": 61,
   "id": "cf712b90",
   "metadata": {},
   "outputs": [
    {
     "data": {
      "text/plain": [
       "<Axes: xlabel='Score', ylabel='Density'>"
      ]
     },
     "execution_count": 61,
     "metadata": {},
     "output_type": "execute_result"
    },
    {
     "data": {
      "image/png": "[encoded data removed]",
      "text/plain": [
       "<Figure size 640x480 with 1 Axes>"
      ]
     },
     "metadata": {},
     "output_type": "display_data"
    }
   ],
   "source": [
    "sns.kdeplot(residual,fill=True)"
   ]
  },
  {
   "cell_type": "markdown",
   "id": "250c7c22",
   "metadata": {},
   "source": [
    "### Hypothesis Testing : shapiro"
   ]
  },
  {
   "cell_type": "code",
   "execution_count": 62,
   "id": "fc63ff02",
   "metadata": {},
   "outputs": [
    {
     "name": "stdout",
     "output_type": "stream",
     "text": [
      "0.9874363541603088\n",
      "0.028227556496858597\n",
      "residual is not normally distributed\n",
      "Alternative hypothesis H1 is true\n"
     ]
    }
   ],
   "source": [
    "stats,p_val = shapiro(residual)\n",
    "print(stats)\n",
    "print(p_val)\n",
    "\n",
    "if p_val>=0.05:\n",
    "    print(\"Residual is normally distributed\")\n",
    "    print(\"Null Hypothesis H0 is True\")\n",
    "    \n",
    "else:\n",
    "    print(\"residual is not normally distributed\")\n",
    "    print(\"Alternative hypothesis H1 is true\")"
   ]
  },
  {
   "cell_type": "code",
   "execution_count": 63,
   "id": "5166c5e9",
   "metadata": {},
   "outputs": [
    {
     "name": "stdout",
     "output_type": "stream",
     "text": [
      "5.453795689913538\n",
      "0.06542192415578423\n",
      "Residual is normally distributed\n",
      "Null Hypothesis H0 is True\n"
     ]
    }
   ],
   "source": [
    "stats, p_val = normaltest(residual)\n",
    "print(stats)\n",
    "print(p_val)\n",
    "\n",
    "if p_val>=0.05:\n",
    "    print(\"Residual is normally distributed\")\n",
    "    print(\"Null Hypothesis H0 is True\")\n",
    "    \n",
    "else:\n",
    "    print(\"residual is not normally distributed\")\n",
    "    print(\"Alternative hypothesis H1 is true\")"
   ]
  },
  {
   "cell_type": "code",
   "execution_count": 64,
   "id": "2c6e9dc6",
   "metadata": {},
   "outputs": [
    {
     "data": {
      "text/plain": [
       "-4.601406270735589e-16"
      ]
     },
     "execution_count": 64,
     "metadata": {},
     "output_type": "execute_result"
    }
   ],
   "source": [
    "np.mean(residual)"
   ]
  },
  {
   "cell_type": "markdown",
   "id": "c39dd954",
   "metadata": {},
   "source": [
    " ## Assumption 4 : Homoscadasticity"
   ]
  },
  {
   "cell_type": "code",
   "execution_count": 65,
   "id": "834a52a1",
   "metadata": {},
   "outputs": [
    {
     "data": {
      "text/plain": [
       "<Axes: xlabel='Score', ylabel='Score'>"
      ]
     },
     "execution_count": 65,
     "metadata": {},
     "output_type": "execute_result"
    },
    {
     "data": {
      "image/png": "[encoded data removed]",
      "text/plain": [
       "<Figure size 640x480 with 1 Axes>"
      ]
     },
     "metadata": {},
     "output_type": "display_data"
    }
   ],
   "source": [
    "sns.scatterplot(x=residual,y=HI[\"Score\"])"
   ]
  },
  {
   "cell_type": "markdown",
   "id": "a656855d",
   "metadata": {},
   "source": [
    "# Model evaluation on its training data"
   ]
  },
  {
   "cell_type": "code",
   "execution_count": 66,
   "id": "7cea7210",
   "metadata": {},
   "outputs": [
    {
     "name": "stdout",
     "output_type": "stream",
     "text": [
      "Mean Squared Error: 0.2742090101450823\n",
      "--------------------------------------------------\n",
      "Root Mean Squared Error: 0.5236497017521182\n",
      "--------------------------------------------------\n",
      "Mean Absolute Error: 0.4237453278601767\n",
      "--------------------------------------------------\n",
      "r2 score: 0.7814808370861887\n",
      "--------------------------------------------------\n"
     ]
    }
   ],
   "source": [
    "mse = mean_squared_error(ytrain, ytrain_pred)\n",
    "print(f\"Mean Squared Error: {mse}\")\n",
    "print(\"-\"*50)\n",
    "rmse =np.sqrt(mse)\n",
    "print(f\"Root Mean Squared Error: {rmse}\")\n",
    "print(\"-\"*50)\n",
    "\n",
    "mae = mean_absolute_error(ytrain, ytrain_pred)\n",
    "print(f\"Mean Absolute Error: {mae}\")\n",
    "print(\"-\"*50)\n",
    "\n",
    "r2score = r2_score(ytrain,ytrain_pred)\n",
    "print(f\"r2 score: {r2score}\")\n",
    "print(\"-\"*50)"
   ]
  },
  {
   "cell_type": "markdown",
   "id": "d4c45dcf",
   "metadata": {},
   "source": [
    "### model evaluation for testing data"
   ]
  },
  {
   "cell_type": "code",
   "execution_count": 67,
   "id": "da428618",
   "metadata": {},
   "outputs": [
    {
     "data": {
      "text/plain": [
       "43     2.905\n",
       "4      5.211\n",
       "279    3.999\n",
       "100    5.287\n",
       "281    6.192\n",
       "       ...  \n",
       "222    5.631\n",
       "103    6.382\n",
       "77     6.028\n",
       "190    4.417\n",
       "238    4.681\n",
       "Name: Score, Length: 63, dtype: float64"
      ]
     },
     "execution_count": 67,
     "metadata": {},
     "output_type": "execute_result"
    }
   ],
   "source": [
    "ytest"
   ]
  },
  {
   "cell_type": "code",
   "execution_count": 68,
   "id": "0b0fb80e",
   "metadata": {},
   "outputs": [
    {
     "data": {
      "text/plain": [
       "array([2.9256129 , 4.99638017, 3.5360431 , 5.18327827, 6.09283317,\n",
       "       7.05375738, 5.75397862, 6.25171547, 5.74802416, 5.40499111,\n",
       "       6.46389612, 5.19085532, 5.85118412, 6.11843599, 6.12655649,\n",
       "       4.37551483, 5.53573502, 4.41244377, 5.66527474, 5.55385724,\n",
       "       5.23166325, 6.96051186, 5.01700031, 3.63463496, 6.76476718,\n",
       "       4.9044579 , 3.17477711, 6.00120821, 4.32395002, 5.35309202,\n",
       "       4.34434376, 4.4805526 , 3.62995462, 6.34146212, 5.21901436,\n",
       "       5.73218932, 5.64136128, 2.85896424, 5.21687345, 4.70377162,\n",
       "       6.08296075, 5.02874454, 3.32630934, 5.60345906, 3.57773454,\n",
       "       4.89766015, 5.58574282, 6.25208758, 5.67642559, 4.92329706,\n",
       "       5.6532641 , 5.72215156, 4.30394694, 5.23387237, 4.58358933,\n",
       "       6.81122431, 6.96722263, 6.01487171, 5.52530342, 5.50100153,\n",
       "       5.71960967, 4.14148976, 4.52835901])"
      ]
     },
     "execution_count": 68,
     "metadata": {},
     "output_type": "execute_result"
    }
   ],
   "source": [
    "ytest_pred = lin_reg_model.predict(xtest)\n",
    "ytest_pred"
   ]
  },
  {
   "cell_type": "code",
   "execution_count": 69,
   "id": "65261a2e",
   "metadata": {},
   "outputs": [
    {
     "name": "stdout",
     "output_type": "stream",
     "text": [
      "Mean Squared Error: 0.22295270461622924\n",
      "--------------------------------------------------\n",
      "Root Mean Squared Error: 0.4721786786971953\n",
      "--------------------------------------------------\n",
      "Mean Absolute Error: 0.33778845563446847\n",
      "--------------------------------------------------\n",
      "r2 score: 0.8057865721380988\n",
      "--------------------------------------------------\n"
     ]
    }
   ],
   "source": [
    "mse = mean_squared_error(ytest, ytest_pred)\n",
    "print(f\"Mean Squared Error: {mse}\")\n",
    "print(\"-\"*50)\n",
    "\n",
    "rmse =np.sqrt(mse)\n",
    "print(f\"Root Mean Squared Error: {rmse}\")\n",
    "print(\"-\"*50)\n",
    "\n",
    "mae = mean_absolute_error(ytest, ytest_pred)\n",
    "print(f\"Mean Absolute Error: {mae}\")\n",
    "print(\"-\"*50)\n",
    "\n",
    "r2score = r2_score(ytest, ytest_pred)\n",
    "print(f\"r2 score: {r2score}\")\n",
    "print(\"-\"*50)"
   ]
  },
  {
   "cell_type": "markdown",
   "id": "7f6f01c1",
   "metadata": {},
   "source": [
    "# Decision Tree Algorithm"
   ]
  },
  {
   "cell_type": "code",
   "execution_count": 70,
   "id": "6266bc70",
   "metadata": {},
   "outputs": [
    {
     "data": {
      "text/html": [
       "<style>#sk-container-id-2 {color: black;}#sk-container-id-2 pre{padding: 0;}#sk-container-id-2 div.sk-toggleable {background-color: white;}#sk-container-id-2 label.sk-toggleable__label {cursor: pointer;display: block;width: 100%;margin-bottom: 0;padding: 0.3em;box-sizing: border-box;text-align: center;}#sk-container-id-2 label.sk-toggleable__label-arrow:before {content: \"▸\";float: left;margin-right: 0.25em;color: #696969;}#sk-container-id-2 label.sk-toggleable__label-arrow:hover:before {color: black;}#sk-container-id-2 div.sk-estimator:hover label.sk-toggleable__label-arrow:before {color: black;}#sk-container-id-2 div.sk-toggleable__content {max-height: 0;max-width: 0;overflow: hidden;text-align: left;background-color: #f0f8ff;}#sk-container-id-2 div.sk-toggleable__content pre {margin: 0.2em;color: black;border-radius: 0.25em;background-color: #f0f8ff;}#sk-container-id-2 input.sk-toggleable__control:checked~div.sk-toggleable__content {max-height: 200px;max-width: 100%;overflow: auto;}#sk-container-id-2 input.sk-toggleable__control:checked~label.sk-toggleable__label-arrow:before {content: \"▾\";}#sk-container-id-2 div.sk-estimator input.sk-toggleable__control:checked~label.sk-toggleable__label {background-color: #d4ebff;}#sk-container-id-2 div.sk-label input.sk-toggleable__control:checked~label.sk-toggleable__label {background-color: #d4ebff;}#sk-container-id-2 input.sk-hidden--visually {border: 0;clip: rect(1px 1px 1px 1px);clip: rect(1px, 1px, 1px, 1px);height: 1px;margin: -1px;overflow: hidden;padding: 0;position: absolute;width: 1px;}#sk-container-id-2 div.sk-estimator {font-family: monospace;background-color: #f0f8ff;border: 1px dotted black;border-radius: 0.25em;box-sizing: border-box;margin-bottom: 0.5em;}#sk-container-id-2 div.sk-estimator:hover {background-color: #d4ebff;}#sk-container-id-2 div.sk-parallel-item::after {content: \"\";width: 100%;border-bottom: 1px solid gray;flex-grow: 1;}#sk-container-id-2 div.sk-label:hover label.sk-toggleable__label {background-color: #d4ebff;}#sk-container-id-2 div.sk-serial::before {content: \"\";position: absolute;border-left: 1px solid gray;box-sizing: border-box;top: 0;bottom: 0;left: 50%;z-index: 0;}#sk-container-id-2 div.sk-serial {display: flex;flex-direction: column;align-items: center;background-color: white;padding-right: 0.2em;padding-left: 0.2em;position: relative;}#sk-container-id-2 div.sk-item {position: relative;z-index: 1;}#sk-container-id-2 div.sk-parallel {display: flex;align-items: stretch;justify-content: center;background-color: white;position: relative;}#sk-container-id-2 div.sk-item::before, #sk-container-id-2 div.sk-parallel-item::before {content: \"\";position: absolute;border-left: 1px solid gray;box-sizing: border-box;top: 0;bottom: 0;left: 50%;z-index: -1;}#sk-container-id-2 div.sk-parallel-item {display: flex;flex-direction: column;z-index: 1;position: relative;background-color: white;}#sk-container-id-2 div.sk-parallel-item:first-child::after {align-self: flex-end;width: 50%;}#sk-container-id-2 div.sk-parallel-item:last-child::after {align-self: flex-start;width: 50%;}#sk-container-id-2 div.sk-parallel-item:only-child::after {width: 0;}#sk-container-id-2 div.sk-dashed-wrapped {border: 1px dashed gray;margin: 0 0.4em 0.5em 0.4em;box-sizing: border-box;padding-bottom: 0.4em;background-color: white;}#sk-container-id-2 div.sk-label label {font-family: monospace;font-weight: bold;display: inline-block;line-height: 1.2em;}#sk-container-id-2 div.sk-label-container {text-align: center;}#sk-container-id-2 div.sk-container {/* jupyter's `normalize.less` sets `[hidden] { display: none; }` but bootstrap.min.css set `[hidden] { display: none !important; }` so we also need the `!important` here to be able to override the default hidden behavior on the sphinx rendered scikit-learn.org. See: https://github.com/scikit-learn/scikit-learn/issues/21755 */display: inline-block !important;position: relative;}#sk-container-id-2 div.sk-text-repr-fallback {display: none;}</style><div id=\"sk-container-id-2\" class=\"sk-top-container\"><div class=\"sk-text-repr-fallback\"><pre>DecisionTreeRegressor()</pre><b>In a Jupyter environment, please rerun this cell to show the HTML representation or trust the notebook. <br />On GitHub, the HTML representation is unable to render, please try loading this page with nbviewer.org.</b></div><div class=\"sk-container\" hidden><div class=\"sk-item\"><div class=\"sk-estimator sk-toggleable\"><input class=\"sk-toggleable__control sk-hidden--visually\" id=\"sk-estimator-id-2\" type=\"checkbox\" checked><label for=\"sk-estimator-id-2\" class=\"sk-toggleable__label sk-toggleable__label-arrow\">DecisionTreeRegressor</label><div class=\"sk-toggleable__content\"><pre>DecisionTreeRegressor()</pre></div></div></div></div></div>"
      ],
      "text/plain": [
       "DecisionTreeRegressor()"
      ]
     },
     "execution_count": 70,
     "metadata": {},
     "output_type": "execute_result"
    }
   ],
   "source": [
    "dt_reg=DecisionTreeRegressor()\n",
    "dt_reg"
   ]
  },
  {
   "cell_type": "code",
   "execution_count": 71,
   "id": "4994166b",
   "metadata": {},
   "outputs": [
    {
     "data": {
      "text/html": [
       "<style>#sk-container-id-3 {color: black;}#sk-container-id-3 pre{padding: 0;}#sk-container-id-3 div.sk-toggleable {background-color: white;}#sk-container-id-3 label.sk-toggleable__label {cursor: pointer;display: block;width: 100%;margin-bottom: 0;padding: 0.3em;box-sizing: border-box;text-align: center;}#sk-container-id-3 label.sk-toggleable__label-arrow:before {content: \"▸\";float: left;margin-right: 0.25em;color: #696969;}#sk-container-id-3 label.sk-toggleable__label-arrow:hover:before {color: black;}#sk-container-id-3 div.sk-estimator:hover label.sk-toggleable__label-arrow:before {color: black;}#sk-container-id-3 div.sk-toggleable__content {max-height: 0;max-width: 0;overflow: hidden;text-align: left;background-color: #f0f8ff;}#sk-container-id-3 div.sk-toggleable__content pre {margin: 0.2em;color: black;border-radius: 0.25em;background-color: #f0f8ff;}#sk-container-id-3 input.sk-toggleable__control:checked~div.sk-toggleable__content {max-height: 200px;max-width: 100%;overflow: auto;}#sk-container-id-3 input.sk-toggleable__control:checked~label.sk-toggleable__label-arrow:before {content: \"▾\";}#sk-container-id-3 div.sk-estimator input.sk-toggleable__control:checked~label.sk-toggleable__label {background-color: #d4ebff;}#sk-container-id-3 div.sk-label input.sk-toggleable__control:checked~label.sk-toggleable__label {background-color: #d4ebff;}#sk-container-id-3 input.sk-hidden--visually {border: 0;clip: rect(1px 1px 1px 1px);clip: rect(1px, 1px, 1px, 1px);height: 1px;margin: -1px;overflow: hidden;padding: 0;position: absolute;width: 1px;}#sk-container-id-3 div.sk-estimator {font-family: monospace;background-color: #f0f8ff;border: 1px dotted black;border-radius: 0.25em;box-sizing: border-box;margin-bottom: 0.5em;}#sk-container-id-3 div.sk-estimator:hover {background-color: #d4ebff;}#sk-container-id-3 div.sk-parallel-item::after {content: \"\";width: 100%;border-bottom: 1px solid gray;flex-grow: 1;}#sk-container-id-3 div.sk-label:hover label.sk-toggleable__label {background-color: #d4ebff;}#sk-container-id-3 div.sk-serial::before {content: \"\";position: absolute;border-left: 1px solid gray;box-sizing: border-box;top: 0;bottom: 0;left: 50%;z-index: 0;}#sk-container-id-3 div.sk-serial {display: flex;flex-direction: column;align-items: center;background-color: white;padding-right: 0.2em;padding-left: 0.2em;position: relative;}#sk-container-id-3 div.sk-item {position: relative;z-index: 1;}#sk-container-id-3 div.sk-parallel {display: flex;align-items: stretch;justify-content: center;background-color: white;position: relative;}#sk-container-id-3 div.sk-item::before, #sk-container-id-3 div.sk-parallel-item::before {content: \"\";position: absolute;border-left: 1px solid gray;box-sizing: border-box;top: 0;bottom: 0;left: 50%;z-index: -1;}#sk-container-id-3 div.sk-parallel-item {display: flex;flex-direction: column;z-index: 1;position: relative;background-color: white;}#sk-container-id-3 div.sk-parallel-item:first-child::after {align-self: flex-end;width: 50%;}#sk-container-id-3 div.sk-parallel-item:last-child::after {align-self: flex-start;width: 50%;}#sk-container-id-3 div.sk-parallel-item:only-child::after {width: 0;}#sk-container-id-3 div.sk-dashed-wrapped {border: 1px dashed gray;margin: 0 0.4em 0.5em 0.4em;box-sizing: border-box;padding-bottom: 0.4em;background-color: white;}#sk-container-id-3 div.sk-label label {font-family: monospace;font-weight: bold;display: inline-block;line-height: 1.2em;}#sk-container-id-3 div.sk-label-container {text-align: center;}#sk-container-id-3 div.sk-container {/* jupyter's `normalize.less` sets `[hidden] { display: none; }` but bootstrap.min.css set `[hidden] { display: none !important; }` so we also need the `!important` here to be able to override the default hidden behavior on the sphinx rendered scikit-learn.org. See: https://github.com/scikit-learn/scikit-learn/issues/21755 */display: inline-block !important;position: relative;}#sk-container-id-3 div.sk-text-repr-fallback {display: none;}</style><div id=\"sk-container-id-3\" class=\"sk-top-container\"><div class=\"sk-text-repr-fallback\"><pre>DecisionTreeRegressor()</pre><b>In a Jupyter environment, please rerun this cell to show the HTML representation or trust the notebook. <br />On GitHub, the HTML representation is unable to render, please try loading this page with nbviewer.org.</b></div><div class=\"sk-container\" hidden><div class=\"sk-item\"><div class=\"sk-estimator sk-toggleable\"><input class=\"sk-toggleable__control sk-hidden--visually\" id=\"sk-estimator-id-3\" type=\"checkbox\" checked><label for=\"sk-estimator-id-3\" class=\"sk-toggleable__label sk-toggleable__label-arrow\">DecisionTreeRegressor</label><div class=\"sk-toggleable__content\"><pre>DecisionTreeRegressor()</pre></div></div></div></div></div>"
      ],
      "text/plain": [
       "DecisionTreeRegressor()"
      ]
     },
     "execution_count": 71,
     "metadata": {},
     "output_type": "execute_result"
    }
   ],
   "source": [
    "dt_reg_model=dt_reg.fit(xtrain,ytrain)\n",
    "dt_reg_model"
   ]
  },
  {
   "cell_type": "markdown",
   "id": "f8860211",
   "metadata": {},
   "source": [
    "### Decision tree Model Evaluation "
   ]
  },
  {
   "cell_type": "code",
   "execution_count": 72,
   "id": "6ac50ac8",
   "metadata": {},
   "outputs": [],
   "source": [
    "ytrain_pred=dt_reg_model.predict(xtrain)"
   ]
  },
  {
   "cell_type": "code",
   "execution_count": 73,
   "id": "2d981bdb",
   "metadata": {},
   "outputs": [
    {
     "name": "stdout",
     "output_type": "stream",
     "text": [
      "Mean Squared Error: 0.0\n",
      "--------------------------------------------------\n",
      "Root Mean Squared Error: 0.0\n",
      "--------------------------------------------------\n",
      "Mean Absolute Error: 0.0\n",
      "--------------------------------------------------\n",
      "r2 score: 1.0\n",
      "--------------------------------------------------\n"
     ]
    }
   ],
   "source": [
    "# for training data\n",
    "mse = mean_squared_error(ytrain, ytrain_pred)\n",
    "print(f\"Mean Squared Error: {mse}\")\n",
    "print(\"-\"*50)\n",
    "\n",
    "rmse =np.sqrt(mse)\n",
    "print(f\"Root Mean Squared Error: {rmse}\")\n",
    "print(\"-\"*50)\n",
    "\n",
    "mae = mean_absolute_error(ytrain, ytrain_pred)\n",
    "print(f\"Mean Absolute Error: {mae}\")\n",
    "print(\"-\"*50)\n",
    "\n",
    "r2score = r2_score(ytrain, ytrain_pred)\n",
    "print(f\"r2 score: {r2score}\")\n",
    "print(\"-\"*50)"
   ]
  },
  {
   "cell_type": "code",
   "execution_count": 74,
   "id": "1f82685b",
   "metadata": {},
   "outputs": [],
   "source": [
    "#testing"
   ]
  },
  {
   "cell_type": "code",
   "execution_count": 75,
   "id": "7bfab80a",
   "metadata": {},
   "outputs": [],
   "source": [
    "ytest_pred=dt_reg_model.predict(xtest)"
   ]
  },
  {
   "cell_type": "code",
   "execution_count": 76,
   "id": "f8c442ec",
   "metadata": {},
   "outputs": [
    {
     "name": "stdout",
     "output_type": "stream",
     "text": [
      "Mean Squared Error: 0.5515937460317463\n",
      "--------------------------------------------------\n",
      "Root Mean Squared Error: 0.7426935747882476\n",
      "--------------------------------------------------\n",
      "Mean Absolute Error: 0.518\n",
      "--------------------------------------------------\n",
      "r2 score: 0.5195083531800564\n",
      "--------------------------------------------------\n"
     ]
    }
   ],
   "source": [
    "# for testing data\n",
    "mse = mean_squared_error(ytest, ytest_pred)\n",
    "print(f\"Mean Squared Error: {mse}\")\n",
    "print(\"-\"*50)\n",
    "\n",
    "rmse =np.sqrt(mse)\n",
    "print(f\"Root Mean Squared Error: {rmse}\")\n",
    "print(\"-\"*50)\n",
    "\n",
    "mae = mean_absolute_error(ytest, ytest_pred)\n",
    "print(f\"Mean Absolute Error: {mae}\")\n",
    "print(\"-\"*50)\n",
    "\n",
    "r2score = r2_score(ytest, ytest_pred)\n",
    "print(f\"r2 score: {r2score}\")\n",
    "print(\"-\"*50)"
   ]
  },
  {
   "cell_type": "code",
   "execution_count": 77,
   "id": "adf2e0dc",
   "metadata": {},
   "outputs": [],
   "source": [
    "# model overfits because r2 score is 1 for testing"
   ]
  },
  {
   "cell_type": "markdown",
   "id": "d8f35133",
   "metadata": {},
   "source": [
    "# decision tree with hyperparameter tunning"
   ]
  },
  {
   "cell_type": "code",
   "execution_count": 78,
   "id": "7a8ae9ba",
   "metadata": {},
   "outputs": [],
   "source": [
    "hyperparameters={\n",
    "    \"criterion\":[\"squarer_error\",\"absolute_error\"],\n",
    "    \"max_depth\":np.arange(5,10),\n",
    "    \"min_samples_split\":np.arange(5,10),\n",
    "    \"min_samples_leaf\":np.arange(5,10)\n",
    "}"
   ]
  },
  {
   "cell_type": "code",
   "execution_count": 79,
   "id": "73386363",
   "metadata": {},
   "outputs": [
    {
     "data": {
      "text/html": [
       "<style>#sk-container-id-4 {color: black;}#sk-container-id-4 pre{padding: 0;}#sk-container-id-4 div.sk-toggleable {background-color: white;}#sk-container-id-4 label.sk-toggleable__label {cursor: pointer;display: block;width: 100%;margin-bottom: 0;padding: 0.3em;box-sizing: border-box;text-align: center;}#sk-container-id-4 label.sk-toggleable__label-arrow:before {content: \"▸\";float: left;margin-right: 0.25em;color: #696969;}#sk-container-id-4 label.sk-toggleable__label-arrow:hover:before {color: black;}#sk-container-id-4 div.sk-estimator:hover label.sk-toggleable__label-arrow:before {color: black;}#sk-container-id-4 div.sk-toggleable__content {max-height: 0;max-width: 0;overflow: hidden;text-align: left;background-color: #f0f8ff;}#sk-container-id-4 div.sk-toggleable__content pre {margin: 0.2em;color: black;border-radius: 0.25em;background-color: #f0f8ff;}#sk-container-id-4 input.sk-toggleable__control:checked~div.sk-toggleable__content {max-height: 200px;max-width: 100%;overflow: auto;}#sk-container-id-4 input.sk-toggleable__control:checked~label.sk-toggleable__label-arrow:before {content: \"▾\";}#sk-container-id-4 div.sk-estimator input.sk-toggleable__control:checked~label.sk-toggleable__label {background-color: #d4ebff;}#sk-container-id-4 div.sk-label input.sk-toggleable__control:checked~label.sk-toggleable__label {background-color: #d4ebff;}#sk-container-id-4 input.sk-hidden--visually {border: 0;clip: rect(1px 1px 1px 1px);clip: rect(1px, 1px, 1px, 1px);height: 1px;margin: -1px;overflow: hidden;padding: 0;position: absolute;width: 1px;}#sk-container-id-4 div.sk-estimator {font-family: monospace;background-color: #f0f8ff;border: 1px dotted black;border-radius: 0.25em;box-sizing: border-box;margin-bottom: 0.5em;}#sk-container-id-4 div.sk-estimator:hover {background-color: #d4ebff;}#sk-container-id-4 div.sk-parallel-item::after {content: \"\";width: 100%;border-bottom: 1px solid gray;flex-grow: 1;}#sk-container-id-4 div.sk-label:hover label.sk-toggleable__label {background-color: #d4ebff;}#sk-container-id-4 div.sk-serial::before {content: \"\";position: absolute;border-left: 1px solid gray;box-sizing: border-box;top: 0;bottom: 0;left: 50%;z-index: 0;}#sk-container-id-4 div.sk-serial {display: flex;flex-direction: column;align-items: center;background-color: white;padding-right: 0.2em;padding-left: 0.2em;position: relative;}#sk-container-id-4 div.sk-item {position: relative;z-index: 1;}#sk-container-id-4 div.sk-parallel {display: flex;align-items: stretch;justify-content: center;background-color: white;position: relative;}#sk-container-id-4 div.sk-item::before, #sk-container-id-4 div.sk-parallel-item::before {content: \"\";position: absolute;border-left: 1px solid gray;box-sizing: border-box;top: 0;bottom: 0;left: 50%;z-index: -1;}#sk-container-id-4 div.sk-parallel-item {display: flex;flex-direction: column;z-index: 1;position: relative;background-color: white;}#sk-container-id-4 div.sk-parallel-item:first-child::after {align-self: flex-end;width: 50%;}#sk-container-id-4 div.sk-parallel-item:last-child::after {align-self: flex-start;width: 50%;}#sk-container-id-4 div.sk-parallel-item:only-child::after {width: 0;}#sk-container-id-4 div.sk-dashed-wrapped {border: 1px dashed gray;margin: 0 0.4em 0.5em 0.4em;box-sizing: border-box;padding-bottom: 0.4em;background-color: white;}#sk-container-id-4 div.sk-label label {font-family: monospace;font-weight: bold;display: inline-block;line-height: 1.2em;}#sk-container-id-4 div.sk-label-container {text-align: center;}#sk-container-id-4 div.sk-container {/* jupyter's `normalize.less` sets `[hidden] { display: none; }` but bootstrap.min.css set `[hidden] { display: none !important; }` so we also need the `!important` here to be able to override the default hidden behavior on the sphinx rendered scikit-learn.org. See: https://github.com/scikit-learn/scikit-learn/issues/21755 */display: inline-block !important;position: relative;}#sk-container-id-4 div.sk-text-repr-fallback {display: none;}</style><div id=\"sk-container-id-4\" class=\"sk-top-container\"><div class=\"sk-text-repr-fallback\"><pre>RandomizedSearchCV(cv=5, estimator=DecisionTreeRegressor(),\n",
       "                   param_distributions={&#x27;criterion&#x27;: [&#x27;squarer_error&#x27;,\n",
       "                                                      &#x27;absolute_error&#x27;],\n",
       "                                        &#x27;max_depth&#x27;: array([5, 6, 7, 8, 9]),\n",
       "                                        &#x27;min_samples_leaf&#x27;: array([5, 6, 7, 8, 9]),\n",
       "                                        &#x27;min_samples_split&#x27;: array([5, 6, 7, 8, 9])})</pre><b>In a Jupyter environment, please rerun this cell to show the HTML representation or trust the notebook. <br />On GitHub, the HTML representation is unable to render, please try loading this page with nbviewer.org.</b></div><div class=\"sk-container\" hidden><div class=\"sk-item sk-dashed-wrapped\"><div class=\"sk-label-container\"><div class=\"sk-label sk-toggleable\"><input class=\"sk-toggleable__control sk-hidden--visually\" id=\"sk-estimator-id-4\" type=\"checkbox\" ><label for=\"sk-estimator-id-4\" class=\"sk-toggleable__label sk-toggleable__label-arrow\">RandomizedSearchCV</label><div class=\"sk-toggleable__content\"><pre>RandomizedSearchCV(cv=5, estimator=DecisionTreeRegressor(),\n",
       "                   param_distributions={&#x27;criterion&#x27;: [&#x27;squarer_error&#x27;,\n",
       "                                                      &#x27;absolute_error&#x27;],\n",
       "                                        &#x27;max_depth&#x27;: array([5, 6, 7, 8, 9]),\n",
       "                                        &#x27;min_samples_leaf&#x27;: array([5, 6, 7, 8, 9]),\n",
       "                                        &#x27;min_samples_split&#x27;: array([5, 6, 7, 8, 9])})</pre></div></div></div><div class=\"sk-parallel\"><div class=\"sk-parallel-item\"><div class=\"sk-item\"><div class=\"sk-label-container\"><div class=\"sk-label sk-toggleable\"><input class=\"sk-toggleable__control sk-hidden--visually\" id=\"sk-estimator-id-5\" type=\"checkbox\" ><label for=\"sk-estimator-id-5\" class=\"sk-toggleable__label sk-toggleable__label-arrow\">estimator: DecisionTreeRegressor</label><div class=\"sk-toggleable__content\"><pre>DecisionTreeRegressor()</pre></div></div></div><div class=\"sk-serial\"><div class=\"sk-item\"><div class=\"sk-estimator sk-toggleable\"><input class=\"sk-toggleable__control sk-hidden--visually\" id=\"sk-estimator-id-6\" type=\"checkbox\" ><label for=\"sk-estimator-id-6\" class=\"sk-toggleable__label sk-toggleable__label-arrow\">DecisionTreeRegressor</label><div class=\"sk-toggleable__content\"><pre>DecisionTreeRegressor()</pre></div></div></div></div></div></div></div></div></div></div>"
      ],
      "text/plain": [
       "RandomizedSearchCV(cv=5, estimator=DecisionTreeRegressor(),\n",
       "                   param_distributions={'criterion': ['squarer_error',\n",
       "                                                      'absolute_error'],\n",
       "                                        'max_depth': array([5, 6, 7, 8, 9]),\n",
       "                                        'min_samples_leaf': array([5, 6, 7, 8, 9]),\n",
       "                                        'min_samples_split': array([5, 6, 7, 8, 9])})"
      ]
     },
     "execution_count": 79,
     "metadata": {},
     "output_type": "execute_result"
    }
   ],
   "source": [
    "rscv=RandomizedSearchCV(dt_reg_model,hyperparameters,cv=5)\n",
    "rscv=rscv.fit(xtrain,ytrain)\n",
    "rscv"
   ]
  },
  {
   "cell_type": "code",
   "execution_count": 80,
   "id": "687ad660",
   "metadata": {},
   "outputs": [
    {
     "data": {
      "text/html": [
       "<style>#sk-container-id-5 {color: black;}#sk-container-id-5 pre{padding: 0;}#sk-container-id-5 div.sk-toggleable {background-color: white;}#sk-container-id-5 label.sk-toggleable__label {cursor: pointer;display: block;width: 100%;margin-bottom: 0;padding: 0.3em;box-sizing: border-box;text-align: center;}#sk-container-id-5 label.sk-toggleable__label-arrow:before {content: \"▸\";float: left;margin-right: 0.25em;color: #696969;}#sk-container-id-5 label.sk-toggleable__label-arrow:hover:before {color: black;}#sk-container-id-5 div.sk-estimator:hover label.sk-toggleable__label-arrow:before {color: black;}#sk-container-id-5 div.sk-toggleable__content {max-height: 0;max-width: 0;overflow: hidden;text-align: left;background-color: #f0f8ff;}#sk-container-id-5 div.sk-toggleable__content pre {margin: 0.2em;color: black;border-radius: 0.25em;background-color: #f0f8ff;}#sk-container-id-5 input.sk-toggleable__control:checked~div.sk-toggleable__content {max-height: 200px;max-width: 100%;overflow: auto;}#sk-container-id-5 input.sk-toggleable__control:checked~label.sk-toggleable__label-arrow:before {content: \"▾\";}#sk-container-id-5 div.sk-estimator input.sk-toggleable__control:checked~label.sk-toggleable__label {background-color: #d4ebff;}#sk-container-id-5 div.sk-label input.sk-toggleable__control:checked~label.sk-toggleable__label {background-color: #d4ebff;}#sk-container-id-5 input.sk-hidden--visually {border: 0;clip: rect(1px 1px 1px 1px);clip: rect(1px, 1px, 1px, 1px);height: 1px;margin: -1px;overflow: hidden;padding: 0;position: absolute;width: 1px;}#sk-container-id-5 div.sk-estimator {font-family: monospace;background-color: #f0f8ff;border: 1px dotted black;border-radius: 0.25em;box-sizing: border-box;margin-bottom: 0.5em;}#sk-container-id-5 div.sk-estimator:hover {background-color: #d4ebff;}#sk-container-id-5 div.sk-parallel-item::after {content: \"\";width: 100%;border-bottom: 1px solid gray;flex-grow: 1;}#sk-container-id-5 div.sk-label:hover label.sk-toggleable__label {background-color: #d4ebff;}#sk-container-id-5 div.sk-serial::before {content: \"\";position: absolute;border-left: 1px solid gray;box-sizing: border-box;top: 0;bottom: 0;left: 50%;z-index: 0;}#sk-container-id-5 div.sk-serial {display: flex;flex-direction: column;align-items: center;background-color: white;padding-right: 0.2em;padding-left: 0.2em;position: relative;}#sk-container-id-5 div.sk-item {position: relative;z-index: 1;}#sk-container-id-5 div.sk-parallel {display: flex;align-items: stretch;justify-content: center;background-color: white;position: relative;}#sk-container-id-5 div.sk-item::before, #sk-container-id-5 div.sk-parallel-item::before {content: \"\";position: absolute;border-left: 1px solid gray;box-sizing: border-box;top: 0;bottom: 0;left: 50%;z-index: -1;}#sk-container-id-5 div.sk-parallel-item {display: flex;flex-direction: column;z-index: 1;position: relative;background-color: white;}#sk-container-id-5 div.sk-parallel-item:first-child::after {align-self: flex-end;width: 50%;}#sk-container-id-5 div.sk-parallel-item:last-child::after {align-self: flex-start;width: 50%;}#sk-container-id-5 div.sk-parallel-item:only-child::after {width: 0;}#sk-container-id-5 div.sk-dashed-wrapped {border: 1px dashed gray;margin: 0 0.4em 0.5em 0.4em;box-sizing: border-box;padding-bottom: 0.4em;background-color: white;}#sk-container-id-5 div.sk-label label {font-family: monospace;font-weight: bold;display: inline-block;line-height: 1.2em;}#sk-container-id-5 div.sk-label-container {text-align: center;}#sk-container-id-5 div.sk-container {/* jupyter's `normalize.less` sets `[hidden] { display: none; }` but bootstrap.min.css set `[hidden] { display: none !important; }` so we also need the `!important` here to be able to override the default hidden behavior on the sphinx rendered scikit-learn.org. See: https://github.com/scikit-learn/scikit-learn/issues/21755 */display: inline-block !important;position: relative;}#sk-container-id-5 div.sk-text-repr-fallback {display: none;}</style><div id=\"sk-container-id-5\" class=\"sk-top-container\"><div class=\"sk-text-repr-fallback\"><pre>DecisionTreeRegressor(criterion=&#x27;absolute_error&#x27;, max_depth=6,\n",
       "                      min_samples_leaf=8, min_samples_split=5)</pre><b>In a Jupyter environment, please rerun this cell to show the HTML representation or trust the notebook. <br />On GitHub, the HTML representation is unable to render, please try loading this page with nbviewer.org.</b></div><div class=\"sk-container\" hidden><div class=\"sk-item\"><div class=\"sk-estimator sk-toggleable\"><input class=\"sk-toggleable__control sk-hidden--visually\" id=\"sk-estimator-id-7\" type=\"checkbox\" checked><label for=\"sk-estimator-id-7\" class=\"sk-toggleable__label sk-toggleable__label-arrow\">DecisionTreeRegressor</label><div class=\"sk-toggleable__content\"><pre>DecisionTreeRegressor(criterion=&#x27;absolute_error&#x27;, max_depth=6,\n",
       "                      min_samples_leaf=8, min_samples_split=5)</pre></div></div></div></div></div>"
      ],
      "text/plain": [
       "DecisionTreeRegressor(criterion='absolute_error', max_depth=6,\n",
       "                      min_samples_leaf=8, min_samples_split=5)"
      ]
     },
     "execution_count": 80,
     "metadata": {},
     "output_type": "execute_result"
    }
   ],
   "source": [
    "rscv.best_estimator_"
   ]
  },
  {
   "cell_type": "code",
   "execution_count": 81,
   "id": "7fbcb608",
   "metadata": {},
   "outputs": [
    {
     "data": {
      "text/html": [
       "<style>#sk-container-id-6 {color: black;}#sk-container-id-6 pre{padding: 0;}#sk-container-id-6 div.sk-toggleable {background-color: white;}#sk-container-id-6 label.sk-toggleable__label {cursor: pointer;display: block;width: 100%;margin-bottom: 0;padding: 0.3em;box-sizing: border-box;text-align: center;}#sk-container-id-6 label.sk-toggleable__label-arrow:before {content: \"▸\";float: left;margin-right: 0.25em;color: #696969;}#sk-container-id-6 label.sk-toggleable__label-arrow:hover:before {color: black;}#sk-container-id-6 div.sk-estimator:hover label.sk-toggleable__label-arrow:before {color: black;}#sk-container-id-6 div.sk-toggleable__content {max-height: 0;max-width: 0;overflow: hidden;text-align: left;background-color: #f0f8ff;}#sk-container-id-6 div.sk-toggleable__content pre {margin: 0.2em;color: black;border-radius: 0.25em;background-color: #f0f8ff;}#sk-container-id-6 input.sk-toggleable__control:checked~div.sk-toggleable__content {max-height: 200px;max-width: 100%;overflow: auto;}#sk-container-id-6 input.sk-toggleable__control:checked~label.sk-toggleable__label-arrow:before {content: \"▾\";}#sk-container-id-6 div.sk-estimator input.sk-toggleable__control:checked~label.sk-toggleable__label {background-color: #d4ebff;}#sk-container-id-6 div.sk-label input.sk-toggleable__control:checked~label.sk-toggleable__label {background-color: #d4ebff;}#sk-container-id-6 input.sk-hidden--visually {border: 0;clip: rect(1px 1px 1px 1px);clip: rect(1px, 1px, 1px, 1px);height: 1px;margin: -1px;overflow: hidden;padding: 0;position: absolute;width: 1px;}#sk-container-id-6 div.sk-estimator {font-family: monospace;background-color: #f0f8ff;border: 1px dotted black;border-radius: 0.25em;box-sizing: border-box;margin-bottom: 0.5em;}#sk-container-id-6 div.sk-estimator:hover {background-color: #d4ebff;}#sk-container-id-6 div.sk-parallel-item::after {content: \"\";width: 100%;border-bottom: 1px solid gray;flex-grow: 1;}#sk-container-id-6 div.sk-label:hover label.sk-toggleable__label {background-color: #d4ebff;}#sk-container-id-6 div.sk-serial::before {content: \"\";position: absolute;border-left: 1px solid gray;box-sizing: border-box;top: 0;bottom: 0;left: 50%;z-index: 0;}#sk-container-id-6 div.sk-serial {display: flex;flex-direction: column;align-items: center;background-color: white;padding-right: 0.2em;padding-left: 0.2em;position: relative;}#sk-container-id-6 div.sk-item {position: relative;z-index: 1;}#sk-container-id-6 div.sk-parallel {display: flex;align-items: stretch;justify-content: center;background-color: white;position: relative;}#sk-container-id-6 div.sk-item::before, #sk-container-id-6 div.sk-parallel-item::before {content: \"\";position: absolute;border-left: 1px solid gray;box-sizing: border-box;top: 0;bottom: 0;left: 50%;z-index: -1;}#sk-container-id-6 div.sk-parallel-item {display: flex;flex-direction: column;z-index: 1;position: relative;background-color: white;}#sk-container-id-6 div.sk-parallel-item:first-child::after {align-self: flex-end;width: 50%;}#sk-container-id-6 div.sk-parallel-item:last-child::after {align-self: flex-start;width: 50%;}#sk-container-id-6 div.sk-parallel-item:only-child::after {width: 0;}#sk-container-id-6 div.sk-dashed-wrapped {border: 1px dashed gray;margin: 0 0.4em 0.5em 0.4em;box-sizing: border-box;padding-bottom: 0.4em;background-color: white;}#sk-container-id-6 div.sk-label label {font-family: monospace;font-weight: bold;display: inline-block;line-height: 1.2em;}#sk-container-id-6 div.sk-label-container {text-align: center;}#sk-container-id-6 div.sk-container {/* jupyter's `normalize.less` sets `[hidden] { display: none; }` but bootstrap.min.css set `[hidden] { display: none !important; }` so we also need the `!important` here to be able to override the default hidden behavior on the sphinx rendered scikit-learn.org. See: https://github.com/scikit-learn/scikit-learn/issues/21755 */display: inline-block !important;position: relative;}#sk-container-id-6 div.sk-text-repr-fallback {display: none;}</style><div id=\"sk-container-id-6\" class=\"sk-top-container\"><div class=\"sk-text-repr-fallback\"><pre>DecisionTreeRegressor(criterion=&#x27;absolute_error&#x27;, max_depth=7,\n",
       "                      min_samples_leaf=5, min_samples_split=9)</pre><b>In a Jupyter environment, please rerun this cell to show the HTML representation or trust the notebook. <br />On GitHub, the HTML representation is unable to render, please try loading this page with nbviewer.org.</b></div><div class=\"sk-container\" hidden><div class=\"sk-item\"><div class=\"sk-estimator sk-toggleable\"><input class=\"sk-toggleable__control sk-hidden--visually\" id=\"sk-estimator-id-8\" type=\"checkbox\" checked><label for=\"sk-estimator-id-8\" class=\"sk-toggleable__label sk-toggleable__label-arrow\">DecisionTreeRegressor</label><div class=\"sk-toggleable__content\"><pre>DecisionTreeRegressor(criterion=&#x27;absolute_error&#x27;, max_depth=7,\n",
       "                      min_samples_leaf=5, min_samples_split=9)</pre></div></div></div></div></div>"
      ],
      "text/plain": [
       "DecisionTreeRegressor(criterion='absolute_error', max_depth=7,\n",
       "                      min_samples_leaf=5, min_samples_split=9)"
      ]
     },
     "execution_count": 81,
     "metadata": {},
     "output_type": "execute_result"
    }
   ],
   "source": [
    "dt_hyp=DecisionTreeRegressor(criterion='absolute_error', max_depth=7,\n",
    "                      min_samples_leaf=5, min_samples_split=9)\n",
    "dt_hyp"
   ]
  },
  {
   "cell_type": "code",
   "execution_count": 82,
   "id": "d410b0b3",
   "metadata": {},
   "outputs": [
    {
     "data": {
      "text/html": [
       "<style>#sk-container-id-7 {color: black;}#sk-container-id-7 pre{padding: 0;}#sk-container-id-7 div.sk-toggleable {background-color: white;}#sk-container-id-7 label.sk-toggleable__label {cursor: pointer;display: block;width: 100%;margin-bottom: 0;padding: 0.3em;box-sizing: border-box;text-align: center;}#sk-container-id-7 label.sk-toggleable__label-arrow:before {content: \"▸\";float: left;margin-right: 0.25em;color: #696969;}#sk-container-id-7 label.sk-toggleable__label-arrow:hover:before {color: black;}#sk-container-id-7 div.sk-estimator:hover label.sk-toggleable__label-arrow:before {color: black;}#sk-container-id-7 div.sk-toggleable__content {max-height: 0;max-width: 0;overflow: hidden;text-align: left;background-color: #f0f8ff;}#sk-container-id-7 div.sk-toggleable__content pre {margin: 0.2em;color: black;border-radius: 0.25em;background-color: #f0f8ff;}#sk-container-id-7 input.sk-toggleable__control:checked~div.sk-toggleable__content {max-height: 200px;max-width: 100%;overflow: auto;}#sk-container-id-7 input.sk-toggleable__control:checked~label.sk-toggleable__label-arrow:before {content: \"▾\";}#sk-container-id-7 div.sk-estimator input.sk-toggleable__control:checked~label.sk-toggleable__label {background-color: #d4ebff;}#sk-container-id-7 div.sk-label input.sk-toggleable__control:checked~label.sk-toggleable__label {background-color: #d4ebff;}#sk-container-id-7 input.sk-hidden--visually {border: 0;clip: rect(1px 1px 1px 1px);clip: rect(1px, 1px, 1px, 1px);height: 1px;margin: -1px;overflow: hidden;padding: 0;position: absolute;width: 1px;}#sk-container-id-7 div.sk-estimator {font-family: monospace;background-color: #f0f8ff;border: 1px dotted black;border-radius: 0.25em;box-sizing: border-box;margin-bottom: 0.5em;}#sk-container-id-7 div.sk-estimator:hover {background-color: #d4ebff;}#sk-container-id-7 div.sk-parallel-item::after {content: \"\";width: 100%;border-bottom: 1px solid gray;flex-grow: 1;}#sk-container-id-7 div.sk-label:hover label.sk-toggleable__label {background-color: #d4ebff;}#sk-container-id-7 div.sk-serial::before {content: \"\";position: absolute;border-left: 1px solid gray;box-sizing: border-box;top: 0;bottom: 0;left: 50%;z-index: 0;}#sk-container-id-7 div.sk-serial {display: flex;flex-direction: column;align-items: center;background-color: white;padding-right: 0.2em;padding-left: 0.2em;position: relative;}#sk-container-id-7 div.sk-item {position: relative;z-index: 1;}#sk-container-id-7 div.sk-parallel {display: flex;align-items: stretch;justify-content: center;background-color: white;position: relative;}#sk-container-id-7 div.sk-item::before, #sk-container-id-7 div.sk-parallel-item::before {content: \"\";position: absolute;border-left: 1px solid gray;box-sizing: border-box;top: 0;bottom: 0;left: 50%;z-index: -1;}#sk-container-id-7 div.sk-parallel-item {display: flex;flex-direction: column;z-index: 1;position: relative;background-color: white;}#sk-container-id-7 div.sk-parallel-item:first-child::after {align-self: flex-end;width: 50%;}#sk-container-id-7 div.sk-parallel-item:last-child::after {align-self: flex-start;width: 50%;}#sk-container-id-7 div.sk-parallel-item:only-child::after {width: 0;}#sk-container-id-7 div.sk-dashed-wrapped {border: 1px dashed gray;margin: 0 0.4em 0.5em 0.4em;box-sizing: border-box;padding-bottom: 0.4em;background-color: white;}#sk-container-id-7 div.sk-label label {font-family: monospace;font-weight: bold;display: inline-block;line-height: 1.2em;}#sk-container-id-7 div.sk-label-container {text-align: center;}#sk-container-id-7 div.sk-container {/* jupyter's `normalize.less` sets `[hidden] { display: none; }` but bootstrap.min.css set `[hidden] { display: none !important; }` so we also need the `!important` here to be able to override the default hidden behavior on the sphinx rendered scikit-learn.org. See: https://github.com/scikit-learn/scikit-learn/issues/21755 */display: inline-block !important;position: relative;}#sk-container-id-7 div.sk-text-repr-fallback {display: none;}</style><div id=\"sk-container-id-7\" class=\"sk-top-container\"><div class=\"sk-text-repr-fallback\"><pre>DecisionTreeRegressor(criterion=&#x27;absolute_error&#x27;, max_depth=7,\n",
       "                      min_samples_leaf=5, min_samples_split=9)</pre><b>In a Jupyter environment, please rerun this cell to show the HTML representation or trust the notebook. <br />On GitHub, the HTML representation is unable to render, please try loading this page with nbviewer.org.</b></div><div class=\"sk-container\" hidden><div class=\"sk-item\"><div class=\"sk-estimator sk-toggleable\"><input class=\"sk-toggleable__control sk-hidden--visually\" id=\"sk-estimator-id-9\" type=\"checkbox\" checked><label for=\"sk-estimator-id-9\" class=\"sk-toggleable__label sk-toggleable__label-arrow\">DecisionTreeRegressor</label><div class=\"sk-toggleable__content\"><pre>DecisionTreeRegressor(criterion=&#x27;absolute_error&#x27;, max_depth=7,\n",
       "                      min_samples_leaf=5, min_samples_split=9)</pre></div></div></div></div></div>"
      ],
      "text/plain": [
       "DecisionTreeRegressor(criterion='absolute_error', max_depth=7,\n",
       "                      min_samples_leaf=5, min_samples_split=9)"
      ]
     },
     "execution_count": 82,
     "metadata": {},
     "output_type": "execute_result"
    }
   ],
   "source": [
    "dt_hyp_model=dt_hyp.fit(xtrain,ytrain)\n",
    "dt_hyp_model"
   ]
  },
  {
   "cell_type": "markdown",
   "id": "17995413",
   "metadata": {},
   "source": [
    "### decision tree with hyperparameter model evaluation"
   ]
  },
  {
   "cell_type": "code",
   "execution_count": 83,
   "id": "f680d2ba",
   "metadata": {},
   "outputs": [],
   "source": [
    "ytrain_pred = dt_hyp_model.predict(xtrain)"
   ]
  },
  {
   "cell_type": "code",
   "execution_count": 84,
   "id": "64187136",
   "metadata": {
    "scrolled": true
   },
   "outputs": [
    {
     "name": "stdout",
     "output_type": "stream",
     "text": [
      "Mean Squared Error: 0.17330200200803217\n",
      "--------------------------------------------------\n",
      "Root Mean Squared Error: 0.41629557048812343\n",
      "--------------------------------------------------\n",
      "Mean Absolute Error: 0.2572971887550201\n",
      "--------------------------------------------------\n",
      "r2 score: 0.8618943688610153\n",
      "--------------------------------------------------\n"
     ]
    }
   ],
   "source": [
    "# for training data\n",
    "mse = mean_squared_error(ytrain, ytrain_pred)\n",
    "print(f\"Mean Squared Error: {mse}\")\n",
    "print(\"-\"*50)\n",
    "\n",
    "rmse =np.sqrt(mse)\n",
    "print(f\"Root Mean Squared Error: {rmse}\")\n",
    "print(\"-\"*50)\n",
    "\n",
    "mae = mean_absolute_error(ytrain, ytrain_pred)\n",
    "print(f\"Mean Absolute Error: {mae}\")\n",
    "print(\"-\"*50)\n",
    "\n",
    "r2score = r2_score(ytrain, ytrain_pred)\n",
    "print(f\"r2 score: {r2score}\")\n",
    "print(\"-\"*50)"
   ]
  },
  {
   "cell_type": "code",
   "execution_count": 85,
   "id": "185739e0",
   "metadata": {},
   "outputs": [],
   "source": [
    "ytest_pred = dt_hyp_model.predict(xtest)"
   ]
  },
  {
   "cell_type": "code",
   "execution_count": 86,
   "id": "14310eec",
   "metadata": {},
   "outputs": [
    {
     "name": "stdout",
     "output_type": "stream",
     "text": [
      "Mean Squared Error: 0.2511853214285714\n",
      "--------------------------------------------------\n",
      "Root Mean Squared Error: 0.5011839197625673\n",
      "--------------------------------------------------\n",
      "Mean Absolute Error: 0.37905555555555565\n",
      "--------------------------------------------------\n",
      "r2 score: 0.7811932248715799\n",
      "--------------------------------------------------\n"
     ]
    }
   ],
   "source": [
    "# for testing data\n",
    "mse = mean_squared_error(ytest, ytest_pred)\n",
    "print(f\"Mean Squared Error: {mse}\")\n",
    "print(\"-\"*50)\n",
    "\n",
    "rmse =np.sqrt(mse)\n",
    "print(f\"Root Mean Squared Error: {rmse}\")\n",
    "print(\"-\"*50)\n",
    "\n",
    "mae = mean_absolute_error(ytest, ytest_pred)\n",
    "print(f\"Mean Absolute Error: {mae}\")\n",
    "print(\"-\"*50)\n",
    "\n",
    "r2score = r2_score(ytest, ytest_pred)\n",
    "print(f\"r2 score: {r2score}\")\n",
    "print(\"-\"*50)"
   ]
  },
  {
   "cell_type": "markdown",
   "id": "fd4bcf6e",
   "metadata": {},
   "source": [
    "# Random Forest"
   ]
  },
  {
   "cell_type": "code",
   "execution_count": 87,
   "id": "6e3d7686",
   "metadata": {},
   "outputs": [
    {
     "data": {
      "text/html": [
       "<style>#sk-container-id-8 {color: black;}#sk-container-id-8 pre{padding: 0;}#sk-container-id-8 div.sk-toggleable {background-color: white;}#sk-container-id-8 label.sk-toggleable__label {cursor: pointer;display: block;width: 100%;margin-bottom: 0;padding: 0.3em;box-sizing: border-box;text-align: center;}#sk-container-id-8 label.sk-toggleable__label-arrow:before {content: \"▸\";float: left;margin-right: 0.25em;color: #696969;}#sk-container-id-8 label.sk-toggleable__label-arrow:hover:before {color: black;}#sk-container-id-8 div.sk-estimator:hover label.sk-toggleable__label-arrow:before {color: black;}#sk-container-id-8 div.sk-toggleable__content {max-height: 0;max-width: 0;overflow: hidden;text-align: left;background-color: #f0f8ff;}#sk-container-id-8 div.sk-toggleable__content pre {margin: 0.2em;color: black;border-radius: 0.25em;background-color: #f0f8ff;}#sk-container-id-8 input.sk-toggleable__control:checked~div.sk-toggleable__content {max-height: 200px;max-width: 100%;overflow: auto;}#sk-container-id-8 input.sk-toggleable__control:checked~label.sk-toggleable__label-arrow:before {content: \"▾\";}#sk-container-id-8 div.sk-estimator input.sk-toggleable__control:checked~label.sk-toggleable__label {background-color: #d4ebff;}#sk-container-id-8 div.sk-label input.sk-toggleable__control:checked~label.sk-toggleable__label {background-color: #d4ebff;}#sk-container-id-8 input.sk-hidden--visually {border: 0;clip: rect(1px 1px 1px 1px);clip: rect(1px, 1px, 1px, 1px);height: 1px;margin: -1px;overflow: hidden;padding: 0;position: absolute;width: 1px;}#sk-container-id-8 div.sk-estimator {font-family: monospace;background-color: #f0f8ff;border: 1px dotted black;border-radius: 0.25em;box-sizing: border-box;margin-bottom: 0.5em;}#sk-container-id-8 div.sk-estimator:hover {background-color: #d4ebff;}#sk-container-id-8 div.sk-parallel-item::after {content: \"\";width: 100%;border-bottom: 1px solid gray;flex-grow: 1;}#sk-container-id-8 div.sk-label:hover label.sk-toggleable__label {background-color: #d4ebff;}#sk-container-id-8 div.sk-serial::before {content: \"\";position: absolute;border-left: 1px solid gray;box-sizing: border-box;top: 0;bottom: 0;left: 50%;z-index: 0;}#sk-container-id-8 div.sk-serial {display: flex;flex-direction: column;align-items: center;background-color: white;padding-right: 0.2em;padding-left: 0.2em;position: relative;}#sk-container-id-8 div.sk-item {position: relative;z-index: 1;}#sk-container-id-8 div.sk-parallel {display: flex;align-items: stretch;justify-content: center;background-color: white;position: relative;}#sk-container-id-8 div.sk-item::before, #sk-container-id-8 div.sk-parallel-item::before {content: \"\";position: absolute;border-left: 1px solid gray;box-sizing: border-box;top: 0;bottom: 0;left: 50%;z-index: -1;}#sk-container-id-8 div.sk-parallel-item {display: flex;flex-direction: column;z-index: 1;position: relative;background-color: white;}#sk-container-id-8 div.sk-parallel-item:first-child::after {align-self: flex-end;width: 50%;}#sk-container-id-8 div.sk-parallel-item:last-child::after {align-self: flex-start;width: 50%;}#sk-container-id-8 div.sk-parallel-item:only-child::after {width: 0;}#sk-container-id-8 div.sk-dashed-wrapped {border: 1px dashed gray;margin: 0 0.4em 0.5em 0.4em;box-sizing: border-box;padding-bottom: 0.4em;background-color: white;}#sk-container-id-8 div.sk-label label {font-family: monospace;font-weight: bold;display: inline-block;line-height: 1.2em;}#sk-container-id-8 div.sk-label-container {text-align: center;}#sk-container-id-8 div.sk-container {/* jupyter's `normalize.less` sets `[hidden] { display: none; }` but bootstrap.min.css set `[hidden] { display: none !important; }` so we also need the `!important` here to be able to override the default hidden behavior on the sphinx rendered scikit-learn.org. See: https://github.com/scikit-learn/scikit-learn/issues/21755 */display: inline-block !important;position: relative;}#sk-container-id-8 div.sk-text-repr-fallback {display: none;}</style><div id=\"sk-container-id-8\" class=\"sk-top-container\"><div class=\"sk-text-repr-fallback\"><pre>RandomForestRegressor()</pre><b>In a Jupyter environment, please rerun this cell to show the HTML representation or trust the notebook. <br />On GitHub, the HTML representation is unable to render, please try loading this page with nbviewer.org.</b></div><div class=\"sk-container\" hidden><div class=\"sk-item\"><div class=\"sk-estimator sk-toggleable\"><input class=\"sk-toggleable__control sk-hidden--visually\" id=\"sk-estimator-id-10\" type=\"checkbox\" checked><label for=\"sk-estimator-id-10\" class=\"sk-toggleable__label sk-toggleable__label-arrow\">RandomForestRegressor</label><div class=\"sk-toggleable__content\"><pre>RandomForestRegressor()</pre></div></div></div></div></div>"
      ],
      "text/plain": [
       "RandomForestRegressor()"
      ]
     },
     "execution_count": 87,
     "metadata": {},
     "output_type": "execute_result"
    }
   ],
   "source": [
    "rf_reg=RandomForestRegressor()\n",
    "rf_reg_model=rf_reg.fit(xtrain,ytrain)\n",
    "rf_reg_model"
   ]
  },
  {
   "cell_type": "markdown",
   "id": "a46ad804",
   "metadata": {},
   "source": [
    "### Random Forest for model evaluation"
   ]
  },
  {
   "cell_type": "code",
   "execution_count": 88,
   "id": "857bf752",
   "metadata": {},
   "outputs": [],
   "source": [
    "ytrain_pred = rf_reg_model.predict(xtrain)"
   ]
  },
  {
   "cell_type": "code",
   "execution_count": 89,
   "id": "8e5ef39b",
   "metadata": {},
   "outputs": [
    {
     "name": "stdout",
     "output_type": "stream",
     "text": [
      "Mean Squared Error: 0.03470093984618458\n",
      "--------------------------------------------------\n",
      "Root Mean Squared Error: 0.1862818827642253\n",
      "--------------------------------------------------\n",
      "Mean Absolute Error: 0.14376783132530066\n",
      "--------------------------------------------------\n",
      "r2 score: 0.9723465675927324\n",
      "--------------------------------------------------\n"
     ]
    }
   ],
   "source": [
    "# for training data\n",
    "mse = mean_squared_error(ytrain, ytrain_pred)\n",
    "print(f\"Mean Squared Error: {mse}\")\n",
    "print(\"-\"*50)\n",
    "\n",
    "rmse =np.sqrt(mse)\n",
    "print(f\"Root Mean Squared Error: {rmse}\")\n",
    "print(\"-\"*50)\n",
    "\n",
    "mae = mean_absolute_error(ytrain, ytrain_pred)\n",
    "print(f\"Mean Absolute Error: {mae}\")\n",
    "print(\"-\"*50)\n",
    "\n",
    "r2score = r2_score(ytrain, ytrain_pred)\n",
    "print(f\"r2 score: {r2score}\")\n",
    "print(\"-\"*50)"
   ]
  },
  {
   "cell_type": "code",
   "execution_count": 90,
   "id": "da634075",
   "metadata": {},
   "outputs": [],
   "source": [
    "ytest_pred = rf_reg_model.predict(xtest)"
   ]
  },
  {
   "cell_type": "code",
   "execution_count": 91,
   "id": "695de2df",
   "metadata": {},
   "outputs": [
    {
     "name": "stdout",
     "output_type": "stream",
     "text": [
      "Mean Squared Error: 0.1698623268047615\n",
      "--------------------------------------------------\n",
      "Root Mean Squared Error: 0.41214357547432606\n",
      "--------------------------------------------------\n",
      "Mean Absolute Error: 0.2919201587301584\n",
      "--------------------------------------------------\n",
      "r2 score: 0.8520334399614641\n",
      "--------------------------------------------------\n"
     ]
    }
   ],
   "source": [
    "# for testing data\n",
    "mse = mean_squared_error(ytest, ytest_pred)\n",
    "print(f\"Mean Squared Error: {mse}\")\n",
    "print(\"-\"*50)\n",
    "\n",
    "rmse =np.sqrt(mse)\n",
    "print(f\"Root Mean Squared Error: {rmse}\")\n",
    "print(\"-\"*50)\n",
    "\n",
    "mae = mean_absolute_error(ytest, ytest_pred)\n",
    "print(f\"Mean Absolute Error: {mae}\")\n",
    "print(\"-\"*50)\n",
    "\n",
    "r2score = r2_score(ytest, ytest_pred)\n",
    "print(f\"r2 score: {r2score}\")\n",
    "print(\"-\"*50)"
   ]
  },
  {
   "cell_type": "markdown",
   "id": "a46e5b85",
   "metadata": {},
   "source": [
    "# AdaBoost"
   ]
  },
  {
   "cell_type": "code",
   "execution_count": 92,
   "id": "e91d1454",
   "metadata": {},
   "outputs": [
    {
     "data": {
      "text/html": [
       "<style>#sk-container-id-9 {color: black;}#sk-container-id-9 pre{padding: 0;}#sk-container-id-9 div.sk-toggleable {background-color: white;}#sk-container-id-9 label.sk-toggleable__label {cursor: pointer;display: block;width: 100%;margin-bottom: 0;padding: 0.3em;box-sizing: border-box;text-align: center;}#sk-container-id-9 label.sk-toggleable__label-arrow:before {content: \"▸\";float: left;margin-right: 0.25em;color: #696969;}#sk-container-id-9 label.sk-toggleable__label-arrow:hover:before {color: black;}#sk-container-id-9 div.sk-estimator:hover label.sk-toggleable__label-arrow:before {color: black;}#sk-container-id-9 div.sk-toggleable__content {max-height: 0;max-width: 0;overflow: hidden;text-align: left;background-color: #f0f8ff;}#sk-container-id-9 div.sk-toggleable__content pre {margin: 0.2em;color: black;border-radius: 0.25em;background-color: #f0f8ff;}#sk-container-id-9 input.sk-toggleable__control:checked~div.sk-toggleable__content {max-height: 200px;max-width: 100%;overflow: auto;}#sk-container-id-9 input.sk-toggleable__control:checked~label.sk-toggleable__label-arrow:before {content: \"▾\";}#sk-container-id-9 div.sk-estimator input.sk-toggleable__control:checked~label.sk-toggleable__label {background-color: #d4ebff;}#sk-container-id-9 div.sk-label input.sk-toggleable__control:checked~label.sk-toggleable__label {background-color: #d4ebff;}#sk-container-id-9 input.sk-hidden--visually {border: 0;clip: rect(1px 1px 1px 1px);clip: rect(1px, 1px, 1px, 1px);height: 1px;margin: -1px;overflow: hidden;padding: 0;position: absolute;width: 1px;}#sk-container-id-9 div.sk-estimator {font-family: monospace;background-color: #f0f8ff;border: 1px dotted black;border-radius: 0.25em;box-sizing: border-box;margin-bottom: 0.5em;}#sk-container-id-9 div.sk-estimator:hover {background-color: #d4ebff;}#sk-container-id-9 div.sk-parallel-item::after {content: \"\";width: 100%;border-bottom: 1px solid gray;flex-grow: 1;}#sk-container-id-9 div.sk-label:hover label.sk-toggleable__label {background-color: #d4ebff;}#sk-container-id-9 div.sk-serial::before {content: \"\";position: absolute;border-left: 1px solid gray;box-sizing: border-box;top: 0;bottom: 0;left: 50%;z-index: 0;}#sk-container-id-9 div.sk-serial {display: flex;flex-direction: column;align-items: center;background-color: white;padding-right: 0.2em;padding-left: 0.2em;position: relative;}#sk-container-id-9 div.sk-item {position: relative;z-index: 1;}#sk-container-id-9 div.sk-parallel {display: flex;align-items: stretch;justify-content: center;background-color: white;position: relative;}#sk-container-id-9 div.sk-item::before, #sk-container-id-9 div.sk-parallel-item::before {content: \"\";position: absolute;border-left: 1px solid gray;box-sizing: border-box;top: 0;bottom: 0;left: 50%;z-index: -1;}#sk-container-id-9 div.sk-parallel-item {display: flex;flex-direction: column;z-index: 1;position: relative;background-color: white;}#sk-container-id-9 div.sk-parallel-item:first-child::after {align-self: flex-end;width: 50%;}#sk-container-id-9 div.sk-parallel-item:last-child::after {align-self: flex-start;width: 50%;}#sk-container-id-9 div.sk-parallel-item:only-child::after {width: 0;}#sk-container-id-9 div.sk-dashed-wrapped {border: 1px dashed gray;margin: 0 0.4em 0.5em 0.4em;box-sizing: border-box;padding-bottom: 0.4em;background-color: white;}#sk-container-id-9 div.sk-label label {font-family: monospace;font-weight: bold;display: inline-block;line-height: 1.2em;}#sk-container-id-9 div.sk-label-container {text-align: center;}#sk-container-id-9 div.sk-container {/* jupyter's `normalize.less` sets `[hidden] { display: none; }` but bootstrap.min.css set `[hidden] { display: none !important; }` so we also need the `!important` here to be able to override the default hidden behavior on the sphinx rendered scikit-learn.org. See: https://github.com/scikit-learn/scikit-learn/issues/21755 */display: inline-block !important;position: relative;}#sk-container-id-9 div.sk-text-repr-fallback {display: none;}</style><div id=\"sk-container-id-9\" class=\"sk-top-container\"><div class=\"sk-text-repr-fallback\"><pre>AdaBoostRegressor()</pre><b>In a Jupyter environment, please rerun this cell to show the HTML representation or trust the notebook. <br />On GitHub, the HTML representation is unable to render, please try loading this page with nbviewer.org.</b></div><div class=\"sk-container\" hidden><div class=\"sk-item\"><div class=\"sk-estimator sk-toggleable\"><input class=\"sk-toggleable__control sk-hidden--visually\" id=\"sk-estimator-id-11\" type=\"checkbox\" checked><label for=\"sk-estimator-id-11\" class=\"sk-toggleable__label sk-toggleable__label-arrow\">AdaBoostRegressor</label><div class=\"sk-toggleable__content\"><pre>AdaBoostRegressor()</pre></div></div></div></div></div>"
      ],
      "text/plain": [
       "AdaBoostRegressor()"
      ]
     },
     "execution_count": 92,
     "metadata": {},
     "output_type": "execute_result"
    }
   ],
   "source": [
    "ad_reg = AdaBoostRegressor()\n",
    "ad_reg_model = ad_reg.fit(xtrain,ytrain)\n",
    "ad_reg_model"
   ]
  },
  {
   "cell_type": "markdown",
   "id": "1af19367",
   "metadata": {},
   "source": [
    "### Adaboost model evaluation"
   ]
  },
  {
   "cell_type": "code",
   "execution_count": 93,
   "id": "0a423771",
   "metadata": {},
   "outputs": [],
   "source": [
    "ytrain_pred = ad_reg_model.predict(xtrain)"
   ]
  },
  {
   "cell_type": "code",
   "execution_count": 94,
   "id": "8f2314ea",
   "metadata": {},
   "outputs": [
    {
     "name": "stdout",
     "output_type": "stream",
     "text": [
      "Mean Squared Error: 0.16337166825068428\n",
      "--------------------------------------------------\n",
      "Root Mean Squared Error: 0.4041926128106305\n",
      "--------------------------------------------------\n",
      "Mean Absolute Error: 0.3508125758060957\n",
      "--------------------------------------------------\n",
      "r2 score: 0.8698079243600206\n",
      "--------------------------------------------------\n"
     ]
    }
   ],
   "source": [
    "# for training data\n",
    "mse = mean_squared_error(ytrain, ytrain_pred)\n",
    "print(f\"Mean Squared Error: {mse}\")\n",
    "print(\"-\"*50)\n",
    "\n",
    "rmse =np.sqrt(mse)\n",
    "print(f\"Root Mean Squared Error: {rmse}\")\n",
    "print(\"-\"*50)\n",
    "\n",
    "mae = mean_absolute_error(ytrain, ytrain_pred)\n",
    "print(f\"Mean Absolute Error: {mae}\")\n",
    "print(\"-\"*50)\n",
    "\n",
    "r2score = r2_score(ytrain, ytrain_pred)\n",
    "print(f\"r2 score: {r2score}\")\n",
    "print(\"-\"*50)"
   ]
  },
  {
   "cell_type": "code",
   "execution_count": 95,
   "id": "5ba30edf",
   "metadata": {},
   "outputs": [],
   "source": [
    "ytest_pred = rf_reg_model.predict(xtest)"
   ]
  },
  {
   "cell_type": "code",
   "execution_count": 96,
   "id": "100651c1",
   "metadata": {},
   "outputs": [
    {
     "name": "stdout",
     "output_type": "stream",
     "text": [
      "Mean Squared Error: 0.1698623268047615\n",
      "--------------------------------------------------\n",
      "Root Mean Squared Error: 0.41214357547432606\n",
      "--------------------------------------------------\n",
      "Mean Absolute Error: 0.2919201587301584\n",
      "--------------------------------------------------\n",
      "r2 score: 0.8520334399614641\n",
      "--------------------------------------------------\n"
     ]
    }
   ],
   "source": [
    "mse = mean_squared_error(ytest, ytest_pred)\n",
    "print(f\"Mean Squared Error: {mse}\")\n",
    "print(\"-\"*50)\n",
    "\n",
    "rmse =np.sqrt(mse)\n",
    "print(f\"Root Mean Squared Error: {rmse}\")\n",
    "print(\"-\"*50)\n",
    "\n",
    "mae = mean_absolute_error(ytest, ytest_pred)\n",
    "print(f\"Mean Absolute Error: {mae}\")\n",
    "print(\"-\"*50)\n",
    "\n",
    "r2score = r2_score(ytest, ytest_pred)\n",
    "print(f\"r2 score: {r2score}\")\n",
    "print(\"-\"*50)"
   ]
  },
  {
   "cell_type": "markdown",
   "id": "ab8ed353",
   "metadata": {},
   "source": [
    "# save model into pickle file"
   ]
  },
  {
   "cell_type": "markdown",
   "id": "18f5ce63",
   "metadata": {},
   "source": [
    "### save finalized model ( Random Forest) "
   ]
  },
  {
   "cell_type": "code",
   "execution_count": 97,
   "id": "9d5a464f",
   "metadata": {},
   "outputs": [],
   "source": [
    "import pickle"
   ]
  },
  {
   "cell_type": "code",
   "execution_count": 98,
   "id": "5e20250a",
   "metadata": {},
   "outputs": [],
   "source": [
    "with open(\"model.pkl\",\"wb\")as f:\n",
    "    pickle.dump(rf_reg_model,f)"
   ]
  },
  {
   "cell_type": "code",
   "execution_count": 99,
   "id": "f9b0b5aa",
   "metadata": {},
   "outputs": [
    {
     "data": {
      "text/plain": [
       "0    3.203\n",
       "Name: Score, dtype: float64"
      ]
     },
     "execution_count": 99,
     "metadata": {},
     "output_type": "execute_result"
    }
   ],
   "source": [
    "y.head(1)"
   ]
  },
  {
   "cell_type": "code",
   "execution_count": 100,
   "id": "6bf88098",
   "metadata": {},
   "outputs": [
    {
     "data": {
      "text/html": [
       "<div>\n",
       "<style scoped>\n",
       "    .dataframe tbody tr th:only-of-type {\n",
       "        vertical-align: middle;\n",
       "    }\n",
       "\n",
       "    .dataframe tbody tr th {\n",
       "        vertical-align: top;\n",
       "    }\n",
       "\n",
       "    .dataframe thead th {\n",
       "        text-align: right;\n",
       "    }\n",
       "</style>\n",
       "<table border=\"1\" class=\"dataframe\">\n",
       "  <thead>\n",
       "    <tr style=\"text-align: right;\">\n",
       "      <th></th>\n",
       "      <th>GDP per capita</th>\n",
       "      <th>Social support</th>\n",
       "      <th>Healthy life expectancy</th>\n",
       "      <th>Freedom to make life choices</th>\n",
       "      <th>Generosity</th>\n",
       "      <th>Perceptions of corruption</th>\n",
       "    </tr>\n",
       "  </thead>\n",
       "  <tbody>\n",
       "    <tr>\n",
       "      <th>0</th>\n",
       "      <td>0.35</td>\n",
       "      <td>0.517</td>\n",
       "      <td>0.361</td>\n",
       "      <td>0.0</td>\n",
       "      <td>0.158</td>\n",
       "      <td>0.025</td>\n",
       "    </tr>\n",
       "  </tbody>\n",
       "</table>\n",
       "</div>"
      ],
      "text/plain": [
       "   GDP per capita  Social support  Healthy life expectancy  \\\n",
       "0            0.35           0.517                    0.361   \n",
       "\n",
       "   Freedom to make life choices  Generosity  Perceptions of corruption  \n",
       "0                           0.0       0.158                      0.025  "
      ]
     },
     "execution_count": 100,
     "metadata": {},
     "output_type": "execute_result"
    }
   ],
   "source": [
    "test_data=x.head(1)\n",
    "test_data"
   ]
  },
  {
   "cell_type": "code",
   "execution_count": 101,
   "id": "882d5722",
   "metadata": {},
   "outputs": [],
   "source": [
    "with open (\"model.pkl\",\"rb\") as f:\n",
    "    final_model = pickle.load(f)"
   ]
  },
  {
   "cell_type": "code",
   "execution_count": 102,
   "id": "1b5fd501",
   "metadata": {},
   "outputs": [
    {
     "data": {
      "text/plain": [
       "3.4141499999999967"
      ]
     },
     "execution_count": 102,
     "metadata": {},
     "output_type": "execute_result"
    }
   ],
   "source": [
    "final_model.predict(test_data)[0]"
   ]
  },
  {
   "cell_type": "code",
   "execution_count": 103,
   "id": "1bd8b0ea",
   "metadata": {},
   "outputs": [],
   "source": [
    "# Function to predict happiness index"
   ]
  },
  {
   "cell_type": "code",
   "execution_count": 104,
   "id": "f2263cfa",
   "metadata": {},
   "outputs": [],
   "source": [
    "def Happines_index(GDP_per_capita,Social_support,Healthy_life_expectancy,Freedom_to_make_life_choices,Generosity,Perceptions_of_corruption):\n",
    "    test_data=pd.DataFrame({\"GDP per capita\":[GDP_per_capita],\n",
    "                            \"Social support\":[Social_support],\n",
    "                            \"Healthy life expectancy\":[Healthy_life_expectancy],\n",
    "                            \"Freedom to make life choices\":[Freedom_to_make_life_choices],\n",
    "                            \"Generosity\":[Generosity],\n",
    "                            \"Perceptions of corruption\":[Perceptions_of_corruption]\n",
    "                           })\n",
    "    with open(\"model.pkl\",\"rb\")as f:\n",
    "        final_model=pickle.load(f)\n",
    "    print(f\" Happiness index score:{final_model.predict(test_data)[0]}\")"
   ]
  },
  {
   "cell_type": "code",
   "execution_count": 105,
   "id": "d9422239",
   "metadata": {},
   "outputs": [],
   "source": [
    "# test the function"
   ]
  },
  {
   "cell_type": "code",
   "execution_count": 106,
   "id": "de2d49b6",
   "metadata": {
    "scrolled": true
   },
   "outputs": [
    {
     "name": "stdout",
     "output_type": "stream",
     "text": [
      " Happiness index score:3.4141499999999967\n"
     ]
    }
   ],
   "source": [
    "Happines_index(0.350,0.517,0.361,0.000,0.158,0.025)"
   ]
  }
 ],
 "metadata": {
  "kernelspec": {
   "display_name": "Python 3 (ipykernel)",
   "language": "python",
   "name": "python3"
  },
  "language_info": {
   "codemirror_mode": {
    "name": "ipython",
    "version": 3
   },
   "file_extension": ".py",
   "mimetype": "text/x-python",
   "name": "python",
   "nbconvert_exporter": "python",
   "pygments_lexer": "ipython3",
   "version": "3.11.5"
  }
 },
 "nbformat": 4,
 "nbformat_minor": 5
}
